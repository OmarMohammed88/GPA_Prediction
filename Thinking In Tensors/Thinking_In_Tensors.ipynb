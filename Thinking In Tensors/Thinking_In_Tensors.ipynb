{
  "nbformat": 4,
  "nbformat_minor": 0,
  "metadata": {
    "colab": {
      "name": "Thinking In Tensors.ipynb",
      "provenance": [],
      "collapsed_sections": [
        "yEyZGWsIeidf",
        "K0xxvRTFpKM6",
        "hy7UMD1ddGsK",
        "hVwAoFsIGmg3",
        "-EVGvlVkGCZi",
        "FxyJo0UMd7Lq",
        "j-xMZ9dveIs_",
        "Oz2fDdD2efpv",
        "CGSOYsXVfO3_",
        "CBS-C7sFhDj4",
        "d47GYfBa9yWJ",
        "1ZGed-5RRt22",
        "HDs6VbFHJrQs",
        "tNOJ8xI0hR5O",
        "yc4THAS2hxo3",
        "_M7hdYQIqVPG",
        "hurAJ9hlx4GG",
        "VTNCA30nyh65",
        "1uwajbZz5zuq",
        "ma-bvBaHO4kg",
        "TOUTWx6XYGCP",
        "OejH9pUDs5dt",
        "o9Qu6FP7tbnw",
        "aOS8nvmgePj-"
      ]
    },
    "kernelspec": {
      "name": "python3",
      "display_name": "Python 3"
    },
    "accelerator": "GPU"
  },
  "cells": [
    {
      "cell_type": "markdown",
      "metadata": {
        "id": "yEyZGWsIeidf",
        "colab_type": "text"
      },
      "source": [
        "## Load The Model"
      ]
    },
    {
      "cell_type": "code",
      "metadata": {
        "id": "gmmIiUR5cucJ",
        "colab_type": "code",
        "outputId": "fe014ce8-863b-416d-e7df-d60ee476086c",
        "colab": {
          "base_uri": "https://localhost:8080/",
          "height": 35
        }
      },
      "source": [
        "#First you Need To Run The Defination Of Model \n",
        "#Then Run This Below\n",
        "model_save_name = 'predict_linear_reg.pt'\n",
        "path = F\"/content/drive/My Drive/{model_save_name}\"\n",
        "model_1.load_state_dict(torch.load(path))\n"
      ],
      "execution_count": 0,
      "outputs": [
        {
          "output_type": "execute_result",
          "data": {
            "text/plain": [
              "<All keys matched successfully>"
            ]
          },
          "metadata": {
            "tags": []
          },
          "execution_count": 307
        }
      ]
    },
    {
      "cell_type": "markdown",
      "metadata": {
        "id": "K0xxvRTFpKM6",
        "colab_type": "text"
      },
      "source": [
        "##Imports"
      ]
    },
    {
      "cell_type": "code",
      "metadata": {
        "id": "4ccOaLJR9fVS",
        "colab_type": "code",
        "colab": {}
      },
      "source": [
        "import pandas as pd\n",
        "import numpy as np\n",
        "import matplotlib.pyplot as plt\n",
        "import seaborn as sb\n",
        "import numpy.ma as ma\n"
      ],
      "execution_count": 0,
      "outputs": []
    },
    {
      "cell_type": "code",
      "metadata": {
        "id": "kjugKWX_-0i7",
        "colab_type": "code",
        "colab": {}
      },
      "source": [
        "data=pd.read_csv('DATA1.csv')\n"
      ],
      "execution_count": 0,
      "outputs": []
    },
    {
      "cell_type": "code",
      "metadata": {
        "id": "ifa6-h2OWE-r",
        "colab_type": "code",
        "outputId": "9a94ef9c-f99a-4014-fbd5-1d098b43a692",
        "colab": {
          "base_uri": "https://localhost:8080/",
          "height": 35
        }
      },
      "source": [
        "from google.colab import drive\n",
        "drive.mount('/content/drive')"
      ],
      "execution_count": 0,
      "outputs": [
        {
          "output_type": "stream",
          "text": [
            "Drive already mounted at /content/drive; to attempt to forcibly remount, call drive.mount(\"/content/drive\", force_remount=True).\n"
          ],
          "name": "stdout"
        }
      ]
    },
    {
      "cell_type": "markdown",
      "metadata": {
        "id": "hy7UMD1ddGsK",
        "colab_type": "text"
      },
      "source": [
        "##Display all Data "
      ]
    },
    {
      "cell_type": "code",
      "metadata": {
        "id": "70JODcxgASVR",
        "colab_type": "code",
        "colab": {}
      },
      "source": [
        "def display_all(data):\n",
        "    with pd.option_context(\"display.max_rows\", 1000, \"display.max_columns\", 1000): \n",
        "        display(data)"
      ],
      "execution_count": 0,
      "outputs": []
    },
    {
      "cell_type": "markdown",
      "metadata": {
        "id": "hVwAoFsIGmg3",
        "colab_type": "text"
      },
      "source": [
        "##Assign Features and Labeles"
      ]
    },
    {
      "cell_type": "code",
      "metadata": {
        "id": "LRcQ4MoaE-Ks",
        "colab_type": "code",
        "colab": {}
      },
      "source": [
        "data1=(data-data.mean())/data.std()\n",
        "x_1 = data[['Per_min_OnRoad','Per_hours_At_College','Per_days_attendance']]\n",
        "\n",
        "X_1 = np.array(x_1)\n",
        "y_1 = data[['GPA']]\n",
        "y_1.head()\n",
        "Y_1 = np.array(y_1)\n"
      ],
      "execution_count": 0,
      "outputs": []
    },
    {
      "cell_type": "code",
      "metadata": {
        "id": "1IiFuxMTXgbV",
        "colab_type": "code",
        "outputId": "f8100235-7d1c-4e00-b311-7726abe34c05",
        "colab": {
          "base_uri": "https://localhost:8080/",
          "height": 269
        }
      },
      "source": [
        "data.head"
      ],
      "execution_count": 0,
      "outputs": [
        {
          "output_type": "execute_result",
          "data": {
            "text/plain": [
              "<bound method NDFrame.head of       GPA  Per_min_OnRoad  Per_hours_At_College  Per_days_attendance\n",
              "0    2.04             240                   4.0                  4.0\n",
              "1    3.22             120                   7.0                  5.0\n",
              "2    2.92              30                   4.0                  5.0\n",
              "3    3.50              60                   5.0                  4.0\n",
              "4    2.86             140                   4.0                  4.0\n",
              "..    ...             ...                   ...                  ...\n",
              "237  3.03             120                   4.0                  5.0\n",
              "238  2.68             120                   4.0                  4.0\n",
              "239  2.50              45                   3.0                  1.0\n",
              "240  2.65              35                   4.0                  2.0\n",
              "241  3.30             200                   6.0                  4.0\n",
              "\n",
              "[242 rows x 4 columns]>"
            ]
          },
          "metadata": {
            "tags": []
          },
          "execution_count": 362
        }
      ]
    },
    {
      "cell_type": "markdown",
      "metadata": {
        "id": "-EVGvlVkGCZi",
        "colab_type": "text"
      },
      "source": [
        "##Visualize Data"
      ]
    },
    {
      "cell_type": "code",
      "metadata": {
        "id": "1_MYWL1aGQOf",
        "colab_type": "code",
        "outputId": "13a2ef60-2d26-4b2f-cdb2-f6ddf72e24b3",
        "colab": {
          "base_uri": "https://localhost:8080/",
          "height": 743
        }
      },
      "source": [
        "sb.pairplot(data)\n"
      ],
      "execution_count": 0,
      "outputs": [
        {
          "output_type": "execute_result",
          "data": {
            "text/plain": [
              "<seaborn.axisgrid.PairGrid at 0x7f204034b5f8>"
            ]
          },
          "metadata": {
            "tags": []
          },
          "execution_count": 363
        },
        {
          "output_type": "display_data",
          "data": {
            "image/png": "[encoded data removed]",
            "text/plain": [
              "<Figure size 720x720 with 20 Axes>"
            ]
          },
          "metadata": {
            "tags": []
          }
        }
      ]
    },
    {
      "cell_type": "code",
      "metadata": {
        "id": "Sec2o63pGdhp",
        "colab_type": "code",
        "outputId": "4e1a2b93-dd3b-40fc-892f-81aefae3bf79",
        "colab": {
          "base_uri": "https://localhost:8080/",
          "height": 249
        }
      },
      "source": [
        "import matplotlib as mpl \n",
        "from mpl_toolkits.mplot3d import Axes3D \n",
        "fig = plt.figure() \n",
        "ax = fig.gca(projection ='3d') \n",
        "  \n",
        "ax.scatter(X_1[:, 0], X_1[:, 1],X_1[:,2], label ='y', s =5) \n",
        "ax.legend() \n",
        "ax.view_init(45, 0) \n",
        "  \n",
        "plt.show() "
      ],
      "execution_count": 0,
      "outputs": [
        {
          "output_type": "display_data",
          "data": {
            "image/png": "[encoded data removed]",
            "text/plain": [
              "<Figure size 432x288 with 1 Axes>"
            ]
          },
          "metadata": {
            "tags": []
          }
        }
      ]
    },
    {
      "cell_type": "markdown",
      "metadata": {
        "id": "FxyJo0UMd7Lq",
        "colab_type": "text"
      },
      "source": [
        "##<h2>Covariance Matrix and Mean\n"
      ]
    },
    {
      "cell_type": "code",
      "metadata": {
        "id": "UJplCDFZFEzA",
        "colab_type": "code",
        "colab": {}
      },
      "source": [
        "cov=np.cov(X_1,y=None, rowvar=False, bias=False, ddof=None, fweights=None, aweights=None)\n",
        "mean=np.mean(X_1,axis=0)"
      ],
      "execution_count": 0,
      "outputs": []
    },
    {
      "cell_type": "markdown",
      "metadata": {
        "id": "j-xMZ9dveIs_",
        "colab_type": "text"
      },
      "source": [
        "##Generating New Data from Old Distribution Data \n",
        "\n",
        "\n"
      ]
    },
    {
      "cell_type": "code",
      "metadata": {
        "id": "zBrARBxFGMeP",
        "colab_type": "code",
        "outputId": "ff7a77ae-04e5-48cf-d464-ea4fbcf8c0c1",
        "colab": {
          "base_uri": "https://localhost:8080/",
          "height": 35
        }
      },
      "source": [
        "Size_of_Data=500\n",
        "New_Data= np.random.multivariate_normal(mean, cov,Size_of_Data)\n",
        "New_Data.shape"
      ],
      "execution_count": 0,
      "outputs": [
        {
          "output_type": "execute_result",
          "data": {
            "text/plain": [
              "(500, 3)"
            ]
          },
          "metadata": {
            "tags": []
          },
          "execution_count": 366
        }
      ]
    },
    {
      "cell_type": "markdown",
      "metadata": {
        "id": "Oz2fDdD2efpv",
        "colab_type": "text"
      },
      "source": [
        "##<h3 color='red'> Ploting Old Data and New Data</h3>"
      ]
    },
    {
      "cell_type": "code",
      "metadata": {
        "id": "jbDW7K5XGWyd",
        "colab_type": "code",
        "outputId": "8530a251-5519-44c6-ee47-26fe717a5ee0",
        "colab": {
          "base_uri": "https://localhost:8080/",
          "height": 269
        }
      },
      "source": [
        "New_Data[New_Data < 0] = 0\n",
        "plt.plot(x_1,color='blue')\n",
        "plt.plot(New_Data,color='r')\n",
        "plt.show()"
      ],
      "execution_count": 0,
      "outputs": [
        {
          "output_type": "display_data",
          "data": {
            "image/png": "[encoded data removed]",
            "text/plain": [
              "<Figure size 432x288 with 1 Axes>"
            ]
          },
          "metadata": {
            "tags": []
          }
        }
      ]
    },
    {
      "cell_type": "markdown",
      "metadata": {
        "id": "CGSOYsXVfO3_",
        "colab_type": "text"
      },
      "source": [
        "##This Function Delete rows whose Values = 0"
      ]
    },
    {
      "cell_type": "code",
      "metadata": {
        "id": "mZBecARmEnhu",
        "colab_type": "code",
        "colab": {}
      },
      "source": [
        "#Function Clean Data Whose Values Are 0\n",
        "def Delete_Zeros(New_Data):\n",
        "  index=[]\n",
        "  for i in New_Data :\n",
        "    if np.count_nonzero(i == 0) > 0 or np.count_nonzero(i ==( 0)):\n",
        "        index.append(np.where(np.all(New_Data==i,axis=1))[0][0])\n",
        "  cleaned_data=np.delete(New_Data,index,0) \n",
        "  return cleaned_data\n",
        "\n",
        "Cleaned_data1=Delete_Zeros(New_Data)"
      ],
      "execution_count": 0,
      "outputs": []
    },
    {
      "cell_type": "code",
      "metadata": {
        "id": "Gnu5qloGnf_Y",
        "colab_type": "code",
        "colab": {}
      },
      "source": [
        "#function Delete rows whose values >6 Days\n",
        "def constrains_per_day(cleaned_data1):\n",
        "  x=[]\n",
        "  for i in range(len(cleaned_data1)):\n",
        "    if cleaned_data1[i][2]>6:\n",
        "      x.append(i)  \n",
        "  cleaned_data2=np.delete(cleaned_data1,x,0)\n",
        "  return cleaned_data2\n",
        "Cleaned_data2=constrains_per_day(Cleaned_data1)\n",
        "\n"
      ],
      "execution_count": 0,
      "outputs": []
    },
    {
      "cell_type": "code",
      "metadata": {
        "id": "K9ZyL1gLs1Ss",
        "colab_type": "code",
        "colab": {}
      },
      "source": [
        "#This function delete rows whose Values >10 hours\n",
        "def constrains_per_hours(Cleaned_data2):\n",
        "  x=[]\n",
        "  for i in range(len(Cleaned_data2)):\n",
        "    if Cleaned_data2[i][1]>10:\n",
        "      x.append(i)  \n",
        "  cleaned_data3=np.delete(Cleaned_data2,x,0)\n",
        "  return cleaned_data3\n",
        "\n",
        "Cleaned_data3=constrains_per_hours(Cleaned_data2)\n",
        "\n"
      ],
      "execution_count": 0,
      "outputs": []
    },
    {
      "cell_type": "code",
      "metadata": {
        "id": "jg4YwUkYXd3s",
        "colab_type": "code",
        "colab": {}
      },
      "source": [
        "#This function delete rows whose values <5 min and >300 min\n",
        "def constrains_per_min_Road(Cleaned_data3):\n",
        "  x=[]\n",
        "  for i in range(len(Cleaned_data3)):\n",
        "    if Cleaned_data3[i][0]<5 or Cleaned_data3[i][0]>300:\n",
        "      x.append(i)  \n",
        "  cleaned_data4=np.delete(Cleaned_data3,x,0)\n",
        "  return cleaned_data4\n",
        "\n",
        "Final_Data=constrains_per_min_Road(Cleaned_data3)\n"
      ],
      "execution_count": 0,
      "outputs": []
    },
    {
      "cell_type": "markdown",
      "metadata": {
        "id": "CBS-C7sFhDj4",
        "colab_type": "text"
      },
      "source": [
        "##<h1 color=\"blue\">Ploting The New Data After Cleaning and Old Data</h1>"
      ]
    },
    {
      "cell_type": "code",
      "metadata": {
        "id": "m7kqbFpuZoVm",
        "colab_type": "code",
        "outputId": "11b5deee-8e0f-4953-ac37-8ee6c6b7dd8e",
        "colab": {
          "base_uri": "https://localhost:8080/",
          "height": 269
        }
      },
      "source": [
        "# The New Data Represented by red Color \n",
        "plt.plot(Final_Data,color='r')\n",
        "plt.plot(data,color='blue')\n",
        "plt.show()"
      ],
      "execution_count": 0,
      "outputs": [
        {
          "output_type": "display_data",
          "data": {
            "image/png": "[encoded data removed]",
            "text/plain": [
              "<Figure size 432x288 with 1 Axes>"
            ]
          },
          "metadata": {
            "tags": []
          }
        }
      ]
    },
    {
      "cell_type": "markdown",
      "metadata": {
        "id": "ZzhC0YFcylB8",
        "colab_type": "text"
      },
      "source": [
        "##<h1>The Percentage of data After Cleaning</h1>"
      ]
    },
    {
      "cell_type": "code",
      "metadata": {
        "id": "v0RntNpHlHMW",
        "colab_type": "code",
        "outputId": "5d15ff31-592b-482f-cc22-6b418ce3be44",
        "colab": {
          "base_uri": "https://localhost:8080/",
          "height": 35
        }
      },
      "source": [
        "Size_After_cleaning=Final_Data.shape[0]\n",
        "def Percentage_Of_Cleaning(Size_of_Data,Size_After_cleaning):\n",
        "   result=((Size_of_Data-Size_After_cleaning)/Size_of_Data)*100\n",
        "   print(result)\n",
        "Percentage_Of_Cleaning(Size_of_Data,Size_After_cleaning)"
      ],
      "execution_count": 0,
      "outputs": [
        {
          "output_type": "stream",
          "text": [
            "13.4\n"
          ],
          "name": "stdout"
        }
      ]
    },
    {
      "cell_type": "markdown",
      "metadata": {
        "id": "d47GYfBa9yWJ",
        "colab_type": "text"
      },
      "source": [
        "## **We Dont Need To Run Next Cells Untill \"Thinking In Tensors\"**!\n"
      ]
    },
    {
      "cell_type": "code",
      "metadata": {
        "id": "KZjQtrTC9won",
        "colab_type": "code",
        "colab": {}
      },
      "source": [
        "#BALBLABLA"
      ],
      "execution_count": 0,
      "outputs": []
    },
    {
      "cell_type": "markdown",
      "metadata": {
        "id": "1ZGed-5RRt22",
        "colab_type": "text"
      },
      "source": [
        "##<h1>KNN For Testing Distance between two classes</h1>"
      ]
    },
    {
      "cell_type": "code",
      "metadata": {
        "id": "d4hqUmXyAd6b",
        "colab_type": "code",
        "colab": {}
      },
      "source": [
        "ones=np.ones(242)\n"
      ],
      "execution_count": 0,
      "outputs": []
    },
    {
      "cell_type": "code",
      "metadata": {
        "id": "eKObqqzAA2Ta",
        "colab_type": "code",
        "outputId": "9e96ddce-e0fd-4388-bcf7-d9a48c0a7383",
        "colab": {
          "base_uri": "https://localhost:8080/"
        }
      },
      "source": [
        "shape = Final_Data.shape[0]\n",
        "shape"
      ],
      "execution_count": 0,
      "outputs": [
        {
          "output_type": "execute_result",
          "data": {
            "text/plain": [
              "457"
            ]
          },
          "metadata": {
            "tags": []
          },
          "execution_count": 195
        }
      ]
    },
    {
      "cell_type": "code",
      "metadata": {
        "id": "uYXMgVhOBdhM",
        "colab_type": "code",
        "colab": {}
      },
      "source": [
        "zeros=np.zeros(shape)\n",
        "# column_to_be_added_zeros = np.array(zeros)\n",
        "# class_zeros = np.column_stack((X, column_to_be_added_zeros))\n",
        "# class_zeros"
      ],
      "execution_count": 0,
      "outputs": []
    },
    {
      "cell_type": "code",
      "metadata": {
        "id": "iH51jMZjCr2F",
        "colab_type": "code",
        "colab": {}
      },
      "source": [
        "Merge_data=np.concatenate((X_1, Final_Data), axis=0)\n",
        "Y_label=np.concatenate((ones,zeros),axis=0)\n"
      ],
      "execution_count": 0,
      "outputs": []
    },
    {
      "cell_type": "code",
      "metadata": {
        "id": "nKmtE6vVDn-O",
        "colab_type": "code",
        "colab": {}
      },
      "source": [
        "from sklearn.model_selection import train_test_split\n",
        "X_train, X_test, y_train, y_test = train_test_split(Merge_data,Y_label, test_size=0.2) # change test_size and no of features"
      ],
      "execution_count": 0,
      "outputs": []
    },
    {
      "cell_type": "code",
      "metadata": {
        "id": "Qo59p7KZE-9r",
        "colab_type": "code",
        "colab": {}
      },
      "source": [
        "from sklearn.preprocessing import StandardScaler\n",
        "scaler = StandardScaler()\n",
        "scaler.fit(X_train)\n",
        "\n",
        "X_train = scaler.transform(X_train)\n",
        "X_test = scaler.transform(X_test)"
      ],
      "execution_count": 0,
      "outputs": []
    },
    {
      "cell_type": "code",
      "metadata": {
        "id": "ZDbz0G9uIAXT",
        "colab_type": "code",
        "outputId": "2df6d8bf-4be6-4126-dd0b-8b95a59de07d",
        "colab": {
          "base_uri": "https://localhost:8080/"
        }
      },
      "source": [
        "from sklearn.neighbors import KNeighborsClassifier\n",
        "classifier = KNeighborsClassifier(n_neighbors=100)\n",
        "classifier.fit(X_train, y_train)"
      ],
      "execution_count": 0,
      "outputs": [
        {
          "output_type": "execute_result",
          "data": {
            "text/plain": [
              "KNeighborsClassifier(algorithm='auto', leaf_size=30, metric='minkowski',\n",
              "                     metric_params=None, n_jobs=None, n_neighbors=100, p=2,\n",
              "                     weights='uniform')"
            ]
          },
          "metadata": {
            "tags": []
          },
          "execution_count": 200
        }
      ]
    },
    {
      "cell_type": "code",
      "metadata": {
        "id": "8aJ_bRb8ID1x",
        "colab_type": "code",
        "outputId": "75668712-3124-48a0-9151-370c03e7a5aa",
        "colab": {
          "base_uri": "https://localhost:8080/"
        }
      },
      "source": [
        "from sklearn import metrics\n",
        "\n",
        "y_pred = classifier.predict(X_test)\n",
        "print(metrics.accuracy_score( y_pred,y_test))"
      ],
      "execution_count": 0,
      "outputs": [
        {
          "output_type": "stream",
          "text": [
            "0.6142857142857143\n"
          ],
          "name": "stdout"
        }
      ]
    },
    {
      "cell_type": "code",
      "metadata": {
        "id": "YdxgbzcAIGz3",
        "colab_type": "code",
        "outputId": "330a41bf-8efa-4d1a-871d-70783a02c288",
        "colab": {
          "base_uri": "https://localhost:8080/"
        }
      },
      "source": [
        "from sklearn.metrics import classification_report, confusion_matrix\n",
        "print(confusion_matrix(y_test, y_pred))\n",
        "print(classification_report(y_pred,y_test))"
      ],
      "execution_count": 0,
      "outputs": [
        {
          "output_type": "stream",
          "text": [
            "[[86  0]\n",
            " [54  0]]\n",
            "              precision    recall  f1-score   support\n",
            "\n",
            "         0.0       1.00      0.61      0.76       140\n",
            "         1.0       0.00      0.00      0.00         0\n",
            "\n",
            "    accuracy                           0.61       140\n",
            "   macro avg       0.50      0.31      0.38       140\n",
            "weighted avg       1.00      0.61      0.76       140\n",
            "\n"
          ],
          "name": "stdout"
        },
        {
          "output_type": "stream",
          "text": [
            "/usr/local/lib/python3.6/dist-packages/sklearn/metrics/classification.py:1439: UndefinedMetricWarning: Recall and F-score are ill-defined and being set to 0.0 in labels with no true samples.\n",
            "  'recall', 'true', average, warn_for)\n"
          ],
          "name": "stderr"
        }
      ]
    },
    {
      "cell_type": "code",
      "metadata": {
        "id": "Eq121-gVIKN0",
        "colab_type": "code",
        "colab": {}
      },
      "source": [
        "error = []\n",
        "\n",
        "# Calculating error for K values between 1 and 40\n",
        "for i in range(1, 40):\n",
        "    knn = KNeighborsClassifier(n_neighbors=i)\n",
        "    knn.fit(X_train, y_train)\n",
        "    pred_i = knn.predict(X_test)\n",
        "    error.append(np.mean(pred_i != y_test))"
      ],
      "execution_count": 0,
      "outputs": []
    },
    {
      "cell_type": "code",
      "metadata": {
        "id": "kW7akPF_IShj",
        "colab_type": "code",
        "outputId": "161e503e-f079-4978-84e6-c35428e1d055",
        "colab": {
          "base_uri": "https://localhost:8080/"
        }
      },
      "source": [
        "plt.figure(figsize=(12, 6))\n",
        "plt.plot(range(1, 40), error, color='red', linestyle='dashed', marker='o',\n",
        "         markerfacecolor='blue', markersize=10)\n",
        "plt.title('Error Rate K Value')\n",
        "plt.xlabel('K Value')\n",
        "plt.ylabel('Mean Error')"
      ],
      "execution_count": 0,
      "outputs": [
        {
          "output_type": "execute_result",
          "data": {
            "text/plain": [
              "Text(0, 0.5, 'Mean Error')"
            ]
          },
          "metadata": {
            "tags": []
          },
          "execution_count": 204
        },
        {
          "output_type": "display_data",
          "data": {
            "image/png": "[encoded data removed]",
            "text/plain": [
              "<Figure size 864x432 with 1 Axes>"
            ]
          },
          "metadata": {
            "tags": []
          }
        }
      ]
    },
    {
      "cell_type": "markdown",
      "metadata": {
        "id": "HDs6VbFHJrQs",
        "colab_type": "text"
      },
      "source": [
        "##<h1>categoreis GPA</h1>"
      ]
    },
    {
      "cell_type": "code",
      "metadata": {
        "id": "ln__Z1b2yQSz",
        "colab_type": "code",
        "outputId": "f14425b9-2aaf-4846-eb9e-d9bba9f39b3e",
        "colab": {
          "base_uri": "https://localhost:8080/",
          "height": 1000
        }
      },
      "source": [
        "def gpa_cat(data):\n",
        "  data = np.where((data >= 2.0 ) & (data < 2.4),-2,data) #pass\n",
        "  data = np.where((data < 2.0) & (data >= 1.0),-1,data) #fail\n",
        "  data = np.where(data>=3.4,0,data)#excellent\n",
        "  data = np.where((data >= 2.8) & (data < 3.4),1,data)#very good\n",
        "  data = np.where((data >= 2.4) & (data < 2.8),2,data)#good\n",
        "  data_1 = data.astype(int)\n",
        "  return data_1\n",
        "print(gpa_cat(Y_1))"
      ],
      "execution_count": 0,
      "outputs": [
        {
          "output_type": "stream",
          "text": [
            "[[-2]\n",
            " [ 1]\n",
            " [ 1]\n",
            " [ 0]\n",
            " [ 1]\n",
            " [ 1]\n",
            " [ 1]\n",
            " [ 2]\n",
            " [ 0]\n",
            " [ 2]\n",
            " [ 2]\n",
            " [ 2]\n",
            " [-2]\n",
            " [ 0]\n",
            " [ 2]\n",
            " [ 1]\n",
            " [ 2]\n",
            " [ 1]\n",
            " [ 2]\n",
            " [ 1]\n",
            " [ 1]\n",
            " [ 1]\n",
            " [ 1]\n",
            " [ 2]\n",
            " [ 1]\n",
            " [ 1]\n",
            " [ 0]\n",
            " [ 1]\n",
            " [ 2]\n",
            " [ 1]\n",
            " [-2]\n",
            " [ 1]\n",
            " [ 2]\n",
            " [ 1]\n",
            " [ 0]\n",
            " [ 2]\n",
            " [ 2]\n",
            " [ 2]\n",
            " [ 1]\n",
            " [ 1]\n",
            " [ 2]\n",
            " [ 1]\n",
            " [ 1]\n",
            " [ 2]\n",
            " [ 2]\n",
            " [ 1]\n",
            " [-2]\n",
            " [ 1]\n",
            " [ 2]\n",
            " [ 1]\n",
            " [ 2]\n",
            " [ 2]\n",
            " [-2]\n",
            " [ 1]\n",
            " [ 0]\n",
            " [ 1]\n",
            " [ 1]\n",
            " [ 1]\n",
            " [ 1]\n",
            " [ 2]\n",
            " [ 1]\n",
            " [ 2]\n",
            " [ 1]\n",
            " [ 1]\n",
            " [ 1]\n",
            " [ 1]\n",
            " [ 2]\n",
            " [ 1]\n",
            " [ 2]\n",
            " [ 1]\n",
            " [ 1]\n",
            " [-2]\n",
            " [ 2]\n",
            " [ 2]\n",
            " [ 2]\n",
            " [ 1]\n",
            " [ 2]\n",
            " [ 2]\n",
            " [ 1]\n",
            " [ 1]\n",
            " [ 2]\n",
            " [ 1]\n",
            " [-2]\n",
            " [-2]\n",
            " [ 2]\n",
            " [-1]\n",
            " [ 2]\n",
            " [-2]\n",
            " [ 2]\n",
            " [ 2]\n",
            " [ 1]\n",
            " [ 1]\n",
            " [ 1]\n",
            " [ 1]\n",
            " [-2]\n",
            " [ 1]\n",
            " [ 2]\n",
            " [ 2]\n",
            " [ 1]\n",
            " [ 1]\n",
            " [ 2]\n",
            " [ 2]\n",
            " [ 2]\n",
            " [ 0]\n",
            " [ 2]\n",
            " [ 2]\n",
            " [ 1]\n",
            " [-2]\n",
            " [ 1]\n",
            " [ 2]\n",
            " [ 0]\n",
            " [ 1]\n",
            " [ 1]\n",
            " [ 1]\n",
            " [ 1]\n",
            " [ 1]\n",
            " [ 0]\n",
            " [ 1]\n",
            " [ 2]\n",
            " [ 1]\n",
            " [ 1]\n",
            " [ 1]\n",
            " [ 2]\n",
            " [ 1]\n",
            " [ 2]\n",
            " [ 2]\n",
            " [ 2]\n",
            " [ 2]\n",
            " [ 1]\n",
            " [ 1]\n",
            " [ 1]\n",
            " [ 2]\n",
            " [ 2]\n",
            " [ 1]\n",
            " [ 1]\n",
            " [ 1]\n",
            " [ 2]\n",
            " [ 1]\n",
            " [ 2]\n",
            " [ 2]\n",
            " [ 1]\n",
            " [ 2]\n",
            " [ 2]\n",
            " [ 2]\n",
            " [ 0]\n",
            " [ 1]\n",
            " [-2]\n",
            " [ 1]\n",
            " [ 0]\n",
            " [ 0]\n",
            " [ 1]\n",
            " [ 2]\n",
            " [ 1]\n",
            " [-2]\n",
            " [ 2]\n",
            " [ 2]\n",
            " [ 1]\n",
            " [-2]\n",
            " [ 1]\n",
            " [-2]\n",
            " [ 2]\n",
            " [ 1]\n",
            " [ 0]\n",
            " [-2]\n",
            " [ 2]\n",
            " [ 1]\n",
            " [ 1]\n",
            " [ 1]\n",
            " [ 1]\n",
            " [ 1]\n",
            " [ 1]\n",
            " [ 0]\n",
            " [ 2]\n",
            " [ 2]\n",
            " [ 1]\n",
            " [ 2]\n",
            " [ 1]\n",
            " [ 1]\n",
            " [ 0]\n",
            " [ 2]\n",
            " [ 1]\n",
            " [ 1]\n",
            " [-2]\n",
            " [ 2]\n",
            " [ 1]\n",
            " [ 1]\n",
            " [ 1]\n",
            " [-2]\n",
            " [ 1]\n",
            " [ 1]\n",
            " [ 2]\n",
            " [ 2]\n",
            " [ 1]\n",
            " [ 2]\n",
            " [-1]\n",
            " [ 1]\n",
            " [ 0]\n",
            " [ 2]\n",
            " [ 2]\n",
            " [ 2]\n",
            " [-2]\n",
            " [ 1]\n",
            " [ 1]\n",
            " [ 1]\n",
            " [ 1]\n",
            " [ 1]\n",
            " [ 1]\n",
            " [ 1]\n",
            " [ 1]\n",
            " [ 2]\n",
            " [ 1]\n",
            " [-2]\n",
            " [ 1]\n",
            " [ 2]\n",
            " [ 1]\n",
            " [ 1]\n",
            " [ 2]\n",
            " [ 1]\n",
            " [ 1]\n",
            " [ 1]\n",
            " [ 0]\n",
            " [ 1]\n",
            " [ 1]\n",
            " [ 0]\n",
            " [ 0]\n",
            " [ 1]\n",
            " [ 1]\n",
            " [-2]\n",
            " [ 1]\n",
            " [-2]\n",
            " [-2]\n",
            " [ 1]\n",
            " [ 0]\n",
            " [ 1]\n",
            " [-2]\n",
            " [-1]\n",
            " [ 0]\n",
            " [ 1]\n",
            " [ 2]\n",
            " [ 2]\n",
            " [ 2]\n",
            " [ 1]]\n"
          ],
          "name": "stdout"
        }
      ]
    },
    {
      "cell_type": "markdown",
      "metadata": {
        "id": "tNOJ8xI0hR5O",
        "colab_type": "text"
      },
      "source": [
        "## Prototype Linear Regression Without Normlization and Category"
      ]
    },
    {
      "cell_type": "code",
      "metadata": {
        "id": "kd6Py0rzO7Q1",
        "colab_type": "code",
        "colab": {}
      },
      "source": [
        "from sklearn.model_selection import train_test_split\n",
        "from sklearn.linear_model import LinearRegression\n",
        "from sklearn import metrics"
      ],
      "execution_count": 0,
      "outputs": []
    },
    {
      "cell_type": "code",
      "metadata": {
        "id": "NkfmuXqOQMW-",
        "colab_type": "code",
        "colab": {}
      },
      "source": [
        "\n",
        "X_train, X_test, y_train, y_test = train_test_split(x_1, y_1, test_size=0.2, random_state=0)"
      ],
      "execution_count": 0,
      "outputs": []
    },
    {
      "cell_type": "code",
      "metadata": {
        "id": "9240heaHLTYc",
        "colab_type": "code",
        "outputId": "aa03e2f4-8dad-4ac7-8272-48d531e5227c",
        "colab": {
          "base_uri": "https://localhost:8080/",
          "height": 35
        }
      },
      "source": [
        "\n",
        "regressor = LinearRegression()\n",
        "regressor.fit(X_train, y_train)\n"
      ],
      "execution_count": 0,
      "outputs": [
        {
          "output_type": "execute_result",
          "data": {
            "text/plain": [
              "LinearRegression(copy_X=True, fit_intercept=True, n_jobs=None, normalize=False)"
            ]
          },
          "metadata": {
            "tags": []
          },
          "execution_count": 208
        }
      ]
    },
    {
      "cell_type": "code",
      "metadata": {
        "id": "DwvsUGJreXCz",
        "colab_type": "code",
        "colab": {}
      },
      "source": [
        "y_pred = regressor.predict(X_test)\n",
        "\n"
      ],
      "execution_count": 0,
      "outputs": []
    },
    {
      "cell_type": "code",
      "metadata": {
        "id": "AhBvDdjZhGc8",
        "colab_type": "code",
        "outputId": "79261e48-73e7-4ad6-f25d-8d73b006db7a",
        "colab": {
          "base_uri": "https://localhost:8080/",
          "height": 69
        }
      },
      "source": [
        "from sklearn import metrics\n",
        "print('Mean Absolute Error:', metrics.mean_absolute_error(y_test, y_pred))\n",
        "print('Mean Squared Error:', metrics.mean_squared_error(y_test, y_pred))\n",
        "print('Root Mean Squared Error:', np.sqrt(metrics.mean_squared_error(y_test, y_pred)))"
      ],
      "execution_count": 0,
      "outputs": [
        {
          "output_type": "stream",
          "text": [
            "Mean Absolute Error: 0.347916237245642\n",
            "Mean Squared Error: 0.20058383518005063\n",
            "Root Mean Squared Error: 0.44786586739787465\n"
          ],
          "name": "stdout"
        }
      ]
    },
    {
      "cell_type": "code",
      "metadata": {
        "id": "hCqCA7gssG4O",
        "colab_type": "code",
        "colab": {}
      },
      "source": [
        "#f = X_train1[:,0]\n",
        "#plt.scatter(f, y_train1,color='g')\n",
        "#y_pred1.shape\n",
        "#plt.plot(f, y_train1,color='r')"
      ],
      "execution_count": 0,
      "outputs": []
    },
    {
      "cell_type": "code",
      "metadata": {
        "id": "whPetgkqLtgU",
        "colab_type": "code",
        "colab": {}
      },
      "source": [
        "Reg_coef=regressor.coef_\n",
        "Reg_inte=regressor.intercept_"
      ],
      "execution_count": 0,
      "outputs": []
    },
    {
      "cell_type": "code",
      "metadata": {
        "id": "xXvcqL2OZLR4",
        "colab_type": "code",
        "colab": {}
      },
      "source": [
        "#for i in range (35):\n",
        " # print(y_test1[i])\n",
        "  #print(\"--------------\")\n",
        "  #print(y_pred1[i])"
      ],
      "execution_count": 0,
      "outputs": []
    },
    {
      "cell_type": "markdown",
      "metadata": {
        "id": "yc4THAS2hxo3",
        "colab_type": "text"
      },
      "source": [
        "##Linear Regression With Normalization and Category"
      ]
    },
    {
      "cell_type": "code",
      "metadata": {
        "id": "iVB_LicKhqcK",
        "colab_type": "code",
        "colab": {}
      },
      "source": [
        "data1=(data-data.mean())/data.std()\n",
        "x_1 = data[['Per_min_OnRoad','Per_hours_At_College','Per_days_attendance']]\n",
        "\n",
        "X_1 = np.array(x_1)\n",
        "y_1 = data[['GPA :']]\n",
        "y_1.head()\n",
        "Y_1 = np.array(y_1)"
      ],
      "execution_count": 0,
      "outputs": []
    },
    {
      "cell_type": "code",
      "metadata": {
        "id": "1OgqkZpsiBz7",
        "colab_type": "code",
        "colab": {}
      },
      "source": [
        " Y_label=gpa_cat(Y_1)\n",
        "X_train, X_test, y_train, y_test = train_test_split(x_1, Y_label, test_size=0.2, random_state=0)"
      ],
      "execution_count": 0,
      "outputs": []
    },
    {
      "cell_type": "code",
      "metadata": {
        "id": "RAqKnRqJiIfu",
        "colab_type": "code",
        "outputId": "bffbf3ce-5709-455a-d1af-387596ead027",
        "colab": {
          "base_uri": "https://localhost:8080/",
          "height": 35
        }
      },
      "source": [
        "\n",
        "regressor = LinearRegression()\n",
        "regressor.fit(X_train, y_train)\n"
      ],
      "execution_count": 0,
      "outputs": [
        {
          "output_type": "execute_result",
          "data": {
            "text/plain": [
              "LinearRegression(copy_X=True, fit_intercept=True, n_jobs=None, normalize=False)"
            ]
          },
          "metadata": {
            "tags": []
          },
          "execution_count": 216
        }
      ]
    },
    {
      "cell_type": "code",
      "metadata": {
        "id": "xjH6hzoGiKp-",
        "colab_type": "code",
        "outputId": "d21c2fa0-fa69-4159-88e2-55bcd3bcd111",
        "colab": {
          "base_uri": "https://localhost:8080/",
          "height": 69
        }
      },
      "source": [
        "y_pred = regressor.predict(X_test)\n",
        "print('Mean Absolute Error:', metrics.mean_absolute_error(y_test, y_pred))\n",
        "print('Mean Squared Error:', metrics.mean_squared_error(y_test, y_pred))\n",
        "print('Root Mean Squared Error:', np.sqrt(metrics.mean_squared_error(y_test, y_pred)))"
      ],
      "execution_count": 0,
      "outputs": [
        {
          "output_type": "stream",
          "text": [
            "Mean Absolute Error: 0.8882883933697403\n",
            "Mean Squared Error: 1.6856596063655918\n",
            "Root Mean Squared Error: 1.2983295445939724\n"
          ],
          "name": "stdout"
        }
      ]
    },
    {
      "cell_type": "markdown",
      "metadata": {
        "id": "_M7hdYQIqVPG",
        "colab_type": "text"
      },
      "source": [
        "##Generate New Data with coefficient"
      ]
    },
    {
      "cell_type": "code",
      "metadata": {
        "id": "w3n8XhF0pVI9",
        "colab_type": "code",
        "colab": {}
      },
      "source": [
        "coef=Reg_coef.reshape(3,1)\n",
        "res= np.dot(Final_Data, coef)\n"
      ],
      "execution_count": 0,
      "outputs": []
    },
    {
      "cell_type": "code",
      "metadata": {
        "id": "2UVBUPCRrrgt",
        "colab_type": "code",
        "colab": {}
      },
      "source": [
        "Merge_data=np.concatenate((x_1, Final_Data), axis=0)\n"
      ],
      "execution_count": 0,
      "outputs": []
    },
    {
      "cell_type": "code",
      "metadata": {
        "id": "BdUUTkkPwZWj",
        "colab_type": "code",
        "colab": {}
      },
      "source": [
        "Merge_Labels=np.concatenate((Y_1,res),axis=0)\n"
      ],
      "execution_count": 0,
      "outputs": []
    },
    {
      "cell_type": "markdown",
      "metadata": {
        "id": "hurAJ9hlx4GG",
        "colab_type": "text"
      },
      "source": [
        "##Train New Model With Merging Data"
      ]
    },
    {
      "cell_type": "code",
      "metadata": {
        "id": "uhDXyOJCwocM",
        "colab_type": "code",
        "colab": {}
      },
      "source": [
        "X_train, X_test, y_train, y_test = train_test_split(Merge_data,Merge_Labels, test_size=0.2, random_state=0)"
      ],
      "execution_count": 0,
      "outputs": []
    },
    {
      "cell_type": "code",
      "metadata": {
        "id": "S6FKiMhkxVHC",
        "colab_type": "code",
        "outputId": "bd338070-ccdc-4f4b-f120-0422e303c99a",
        "colab": {
          "base_uri": "https://localhost:8080/",
          "height": 35
        }
      },
      "source": [
        "Regress = LinearRegression()\n",
        "Regress.fit(X_train, y_train)\n"
      ],
      "execution_count": 0,
      "outputs": [
        {
          "output_type": "execute_result",
          "data": {
            "text/plain": [
              "LinearRegression(copy_X=True, fit_intercept=True, n_jobs=None, normalize=False)"
            ]
          },
          "metadata": {
            "tags": []
          },
          "execution_count": 222
        }
      ]
    },
    {
      "cell_type": "code",
      "metadata": {
        "id": "HyHJIr8txm6H",
        "colab_type": "code",
        "colab": {}
      },
      "source": [
        "y_pred = regressor.predict(X_test)\n"
      ],
      "execution_count": 0,
      "outputs": []
    },
    {
      "cell_type": "code",
      "metadata": {
        "id": "QVp4NgILxp20",
        "colab_type": "code",
        "outputId": "53f2b514-1aba-4f00-9742-64dade5586f6",
        "colab": {
          "base_uri": "https://localhost:8080/",
          "height": 69
        }
      },
      "source": [
        "print('Mean Absolute Error:', metrics.mean_absolute_error(y_test, y_pred))\n",
        "print('Mean Squared Error:', metrics.mean_squared_error(y_test, y_pred))\n",
        "print('Root Mean Squared Error:', np.sqrt(metrics.mean_squared_error(y_test, y_pred)))"
      ],
      "execution_count": 0,
      "outputs": [
        {
          "output_type": "stream",
          "text": [
            "Mean Absolute Error: 1.1583849750644901\n",
            "Mean Squared Error: 1.618800035830954\n",
            "Root Mean Squared Error: 1.272320728366458\n"
          ],
          "name": "stdout"
        }
      ]
    },
    {
      "cell_type": "code",
      "metadata": {
        "id": "dzEku6qTY3Wq",
        "colab_type": "code",
        "outputId": "63961287-984f-47a9-d962-8c53cf99552f",
        "colab": {
          "base_uri": "https://localhost:8080/",
          "height": 1000
        }
      },
      "source": [
        "for i in range (35):\n",
        "  print(y_test[i])\n",
        "  print(\"--------------\")\n",
        "  print(y_pred[i])"
      ],
      "execution_count": 0,
      "outputs": [
        {
          "output_type": "stream",
          "text": [
            "[0.04915493]\n",
            "--------------\n",
            "[1.10445707]\n",
            "[0.07333286]\n",
            "--------------\n",
            "[1.0801169]\n",
            "[2.4]\n",
            "--------------\n",
            "[0.82993466]\n",
            "[0.06399904]\n",
            "--------------\n",
            "[1.19636439]\n",
            "[2.5]\n",
            "--------------\n",
            "[0.97394138]\n",
            "[2.23]\n",
            "--------------\n",
            "[0.99105005]\n",
            "[0.12250688]\n",
            "--------------\n",
            "[0.86218131]\n",
            "[3.35]\n",
            "--------------\n",
            "[0.67237799]\n",
            "[0.08233826]\n",
            "--------------\n",
            "[1.02609391]\n",
            "[3.47]\n",
            "--------------\n",
            "[0.84059416]\n",
            "[0.09429423]\n",
            "--------------\n",
            "[1.02746622]\n",
            "[0.06673656]\n",
            "--------------\n",
            "[1.04791701]\n",
            "[3.1]\n",
            "--------------\n",
            "[0.9807247]\n",
            "[0.14629641]\n",
            "--------------\n",
            "[0.89493209]\n",
            "[1.09]\n",
            "--------------\n",
            "[0.97036594]\n",
            "[0.08606674]\n",
            "--------------\n",
            "[0.93948992]\n",
            "[0.07715626]\n",
            "--------------\n",
            "[1.07642131]\n",
            "[0.09347068]\n",
            "--------------\n",
            "[1.03278679]\n",
            "[0.03913848]\n",
            "--------------\n",
            "[1.28159329]\n",
            "[0.10915155]\n",
            "--------------\n",
            "[0.89376899]\n",
            "[0.12246585]\n",
            "--------------\n",
            "[0.8366416]\n",
            "[0.12568293]\n",
            "--------------\n",
            "[0.99306251]\n",
            "[0.12208824]\n",
            "--------------\n",
            "[1.01035127]\n",
            "[0.08629631]\n",
            "--------------\n",
            "[1.05866589]\n",
            "[0.07618262]\n",
            "--------------\n",
            "[1.02402249]\n",
            "[0.08195476]\n",
            "--------------\n",
            "[1.06397434]\n",
            "[0.12337768]\n",
            "--------------\n",
            "[1.00761382]\n",
            "[0.08203977]\n",
            "--------------\n",
            "[1.03617144]\n",
            "[0.11440482]\n",
            "--------------\n",
            "[1.0107455]\n",
            "[3.22]\n",
            "--------------\n",
            "[0.82346878]\n",
            "[0.13710752]\n",
            "--------------\n",
            "[0.83657844]\n",
            "[0.13158756]\n",
            "--------------\n",
            "[0.69495033]\n",
            "[0.14412992]\n",
            "--------------\n",
            "[0.82705685]\n",
            "[3.3]\n",
            "--------------\n",
            "[0.96973105]\n",
            "[3.6]\n",
            "--------------\n",
            "[0.99298815]\n"
          ],
          "name": "stdout"
        }
      ]
    },
    {
      "cell_type": "markdown",
      "metadata": {
        "id": "VTNCA30nyh65",
        "colab_type": "text"
      },
      "source": [
        "##Train Model With Generating Data including Gpa"
      ]
    },
    {
      "cell_type": "code",
      "metadata": {
        "id": "1uGB7JJcxtyQ",
        "colab_type": "code",
        "colab": {}
      },
      "source": [
        "\n",
        "data_np= np.array(data)\n",
        "cov=np.cov(data_np,y=None, rowvar=False, bias=False, ddof=None, fweights=None, aweights=None)\n",
        "mean=np.mean(data_np,axis=0)\n",
        "Size_of_Data=242\n",
        "New_Data= np.random.multivariate_normal(mean, cov,Size_of_Data)\n",
        "#Function Clean Data Whose Values Are 0\n",
        "def Delete_Zeros(New_Data):\n",
        "  index=[]\n",
        "  for i in New_Data :\n",
        "    if np.count_nonzero(i == 0) > 0 or np.count_nonzero(i ==( 0)):\n",
        "        index.append(np.where(np.all(New_Data==i,axis=1))[0][0])\n",
        "  cleaned_data=np.delete(New_Data,index,0) \n",
        "  return cleaned_data\n",
        "\n",
        "Cleaned_data1=Delete_Zeros(New_Data)\n",
        "#function Delete rows whose values >6 Days\n",
        "def constrains_per_day(cleaned_data1):\n",
        "  x=[]\n",
        "  for i in range(len(cleaned_data1)):\n",
        "    if cleaned_data1[i][3]>6:\n",
        "      x.append(i)  \n",
        "  cleaned_data2=np.delete(cleaned_data1,x,0)\n",
        "  return cleaned_data2\n",
        "Cleaned_data2=constrains_per_day(Cleaned_data1)\n",
        "\n",
        "#This function delete rows whose Values >10 hours\n",
        "def constrains_per_hours(Cleaned_data2):\n",
        "  x=[]\n",
        "  for i in range(len(Cleaned_data2)):\n",
        "    if Cleaned_data2[i][2]>10:\n",
        "      x.append(i)  \n",
        "  cleaned_data3=np.delete(Cleaned_data2,x,0)\n",
        "  return cleaned_data3\n",
        "\n",
        "Cleaned_data3=constrains_per_hours(Cleaned_data2)\n",
        "\n",
        "\n",
        "#This function delete rows whose values <5 min and >300 min\n",
        "def constrains_per_min_Road(Cleaned_data3):\n",
        "  x=[]\n",
        "  for i in range(len(Cleaned_data3)):\n",
        "    if Cleaned_data3[i][1]<5 or Cleaned_data3[i][1]>300:\n",
        "      x.append(i)  \n",
        "  cleaned_data4=np.delete(Cleaned_data3,x,0)\n",
        "  return cleaned_data4\n",
        "\n",
        "\n",
        "def GPA(Cleaned_data):\n",
        "  x=[]\n",
        "  for i in range(len(Cleaned_data)):\n",
        "    if Cleaned_data[i][0]<0 or Cleaned_data[i][0]>4:\n",
        "      x.append(i)  \n",
        "  cleaned_data5=np.delete(Cleaned_data,x,0)\n",
        "  return cleaned_data5\n",
        "\n",
        "cleaned_data4 = constrains_per_min_Road(Cleaned_data3)\n",
        "Final_Data1 = GPA(cleaned_data4)\n",
        "\n"
      ],
      "execution_count": 0,
      "outputs": []
    },
    {
      "cell_type": "code",
      "metadata": {
        "id": "bQIgu9hnZ0Jt",
        "colab_type": "code",
        "outputId": "920c5cb3-39f7-4f91-8eb6-487e0cbeecfe",
        "colab": {
          "base_uri": "https://localhost:8080/",
          "height": 1000
        }
      },
      "source": [
        "data_np"
      ],
      "execution_count": 0,
      "outputs": [
        {
          "output_type": "execute_result",
          "data": {
            "text/plain": [
              "array([[  2.04   , 240.     ,   4.     ,   4.     ],\n",
              "       [  3.22   , 120.     ,   7.     ,   5.     ],\n",
              "       [  2.92   ,  30.     ,   4.     ,   5.     ],\n",
              "       [  3.5    ,  60.     ,   5.     ,   4.     ],\n",
              "       [  2.86   , 140.     ,   4.     ,   4.     ],\n",
              "       [  3.18   ,  70.     ,   6.     ,   5.     ],\n",
              "       [  3.     ,   5.     ,   5.     ,   5.     ],\n",
              "       [  2.54   , 210.     ,   7.     ,   3.     ],\n",
              "       [  3.8    , 200.     ,   4.     ,   1.     ],\n",
              "       [  2.6    ,  60.     ,   4.     ,   2.     ],\n",
              "       [  2.4    ,  95.     ,   6.     ,   3.     ],\n",
              "       [  2.4    , 210.     ,   8.     ,   1.     ],\n",
              "       [  2.     , 180.     ,   6.     ,   5.     ],\n",
              "       [  3.61   ,   5.     ,   4.     ,   3.     ],\n",
              "       [  2.5    ,  85.     ,   4.     ,   4.     ],\n",
              "       [  3.1    , 190.     ,   4.     ,   4.     ],\n",
              "       [  2.73   , 180.     ,   7.     ,   5.     ],\n",
              "       [  3.07   ,  60.     ,   7.     ,   4.     ],\n",
              "       [  2.7    ,  15.     ,   8.     ,   5.     ],\n",
              "       [  2.8    , 120.     ,   4.     ,   4.     ],\n",
              "       [  3.12   ,  80.     ,   4.8    ,   5.     ],\n",
              "       [  3.27   , 120.     ,   3.     ,   4.     ],\n",
              "       [  3.1    ,  90.     ,   7.     ,   5.     ],\n",
              "       [  2.75   , 210.     ,   6.     ,   5.     ],\n",
              "       [  3.04   ,  50.     ,   8.     ,   3.     ],\n",
              "       [  2.85   ,  60.     ,   8.     ,   5.     ],\n",
              "       [  3.45125, 300.     ,   8.     ,   4.     ],\n",
              "       [  3.04   , 150.     ,   6.     ,   5.     ],\n",
              "       [  2.67   ,  70.     ,   4.     ,   4.     ],\n",
              "       [  3.3    , 180.     ,   8.     ,   4.     ],\n",
              "       [  2.25   , 180.     ,   6.     ,   3.     ],\n",
              "       [  3.35   ,  10.     ,   5.     ,   6.     ],\n",
              "       [  2.6    ,  90.     ,   6.5    ,   4.     ],\n",
              "       [  3.19   , 300.     ,   5.     ,   5.     ],\n",
              "       [  3.53   ,  55.     ,   6.     ,   5.     ],\n",
              "       [  2.7    , 180.     ,   6.     ,   4.     ],\n",
              "       [  2.7    , 120.     ,   6.     ,   5.     ],\n",
              "       [  2.76   , 220.     ,   6.     ,   4.     ],\n",
              "       [  2.9    ,  10.     ,   5.     ,   4.     ],\n",
              "       [  3.2    , 110.     ,   8.     ,   2.     ],\n",
              "       [  2.4    , 125.     ,   6.     ,   5.     ],\n",
              "       [  3.     ,  90.     ,   6.     ,   3.     ],\n",
              "       [  3.1    , 260.     ,   6.     ,   4.     ],\n",
              "       [  2.56   ,   5.     ,   9.     ,   2.     ],\n",
              "       [  2.5    ,  60.     ,   5.     ,   4.     ],\n",
              "       [  2.85   , 240.     ,  10.     ,   4.     ],\n",
              "       [  2.3    , 120.     ,   8.     ,   5.     ],\n",
              "       [  2.8    ,   5.     ,   9.     ,   5.     ],\n",
              "       [  2.55   , 125.     ,   6.     ,   5.     ],\n",
              "       [  3.09   ,  90.     ,   5.     ,   3.4    ],\n",
              "       [  2.6    , 270.     ,   6.     ,   4.     ],\n",
              "       [  2.6    ,  80.     ,   4.     ,   3.     ],\n",
              "       [  2.34   , 100.     ,   5.     ,   4.     ],\n",
              "       [  3.06   , 120.     ,   6.     ,   5.     ],\n",
              "       [  3.42   ,  70.     ,   6.     ,   4.     ],\n",
              "       [  3.     , 370.     ,   8.     ,   4.     ],\n",
              "       [  2.8    , 120.     ,   6.     ,   5.     ],\n",
              "       [  3.     , 180.     ,   6.     ,   5.     ],\n",
              "       [  3.1    , 300.     ,   6.     ,   4.     ],\n",
              "       [  2.72   , 120.     ,  12.     ,   3.     ],\n",
              "       [  3.14   ,  70.     ,   6.     ,   4.     ],\n",
              "       [  2.63   , 240.     ,   6.     ,   4.     ],\n",
              "       [  3.09   ,  10.     ,   6.     ,   4.     ],\n",
              "       [  2.94   ,  30.     ,   7.     ,   4.     ],\n",
              "       [  2.8    ,   5.     ,  10.     ,   4.     ],\n",
              "       [  2.8    ,   5.     ,   5.     ,   3.     ],\n",
              "       [  2.6    ,  90.     ,   8.     ,   4.     ],\n",
              "       [  2.8    , 180.     ,  10.     ,   4.     ],\n",
              "       [  2.62   , 225.     ,   7.     ,   3.     ],\n",
              "       [  3.29   ,  60.     ,   5.5    ,   5.     ],\n",
              "       [  3.35   , 300.     ,   6.     ,   4.     ],\n",
              "       [  2.38   ,  45.     ,   5.     ,   4.     ],\n",
              "       [  2.5    , 480.     ,   8.     ,   2.     ],\n",
              "       [  2.57   ,  87.     ,   4.     ,   2.     ],\n",
              "       [  2.5    , 240.     ,   6.     ,   4.     ],\n",
              "       [  3.3    , 120.     ,   6.     ,   4.     ],\n",
              "       [  2.4    , 100.     ,   5.     ,   5.     ],\n",
              "       [  2.55   , 180.     ,   6.     ,   4.     ],\n",
              "       [  3.24   , 180.     ,   5.     ,   3.     ],\n",
              "       [  3.     , 140.     ,   7.     ,   3.     ],\n",
              "       [  2.49   , 170.     ,   4.     ,   5.     ],\n",
              "       [  2.86   , 165.     ,   7.     ,   5.     ],\n",
              "       [  2.06   , 120.     ,   7.     ,   5.     ],\n",
              "       [  2.2    , 150.     ,   4.     ,   5.     ],\n",
              "       [  2.77   ,  60.     ,   6.     ,   5.     ],\n",
              "       [  1.09   , 180.     ,   8.     ,   4.     ],\n",
              "       [  2.44   ,  50.     ,   7.     ,   5.     ],\n",
              "       [  2.35   ,  60.     ,   5.     ,   4.     ],\n",
              "       [  2.51   , 120.     ,   4.     ,   4.     ],\n",
              "       [  2.75   , 120.     ,   4.     ,   5.     ],\n",
              "       [  2.8    , 240.     ,   6.     ,   3.     ],\n",
              "       [  2.96   , 120.     ,   6.     ,   4.     ],\n",
              "       [  2.8    , 170.     ,   4.     ,   3.     ],\n",
              "       [  3.39   ,  80.     ,   4.     ,   4.     ],\n",
              "       [  2.28   , 235.     ,   6.5    ,   4.     ],\n",
              "       [  3.06   ,   5.     ,   4.     ,   3.     ],\n",
              "       [  2.62   ,  30.     ,   8.     ,   5.     ],\n",
              "       [  2.66   , 130.     ,   4.     ,   5.     ],\n",
              "       [  3.03   ,  90.     ,   2.     ,   4.     ],\n",
              "       [  3.1    ,  60.     ,   4.     ,   3.     ],\n",
              "       [  2.69   ,   5.     ,   6.     ,   4.     ],\n",
              "       [  2.53   , 300.     ,   4.     ,   4.     ],\n",
              "       [  2.5    , 180.     ,   5.     ,   4.     ],\n",
              "       [  3.47   , 180.     ,   6.     ,   5.     ],\n",
              "       [  2.56   , 200.     ,   8.     ,   4.     ],\n",
              "       [  2.7    , 180.     ,   5.     ,   3.     ],\n",
              "       [  2.8    , 120.     ,   7.     ,   4.     ],\n",
              "       [  2.29   , 240.     ,  12.     ,   5.     ],\n",
              "       [  3.27   , 250.     ,   6.     ,   5.     ],\n",
              "       [  2.68   , 120.     ,   6.     ,   5.     ],\n",
              "       [  3.45   , 180.     ,   4.     ,   5.     ],\n",
              "       [  3.3    ,  60.     ,   6.     ,   5.     ],\n",
              "       [  2.88   , 120.     ,   6.     ,   5.     ],\n",
              "       [  3.     ,  15.     ,  10.     ,   5.     ],\n",
              "       [  3.     ,   5.     ,  10.     ,   4.     ],\n",
              "       [  2.8    , 120.     ,   6.     ,   5.     ],\n",
              "       [  3.66   ,  40.     ,   3.5    ,   4.     ],\n",
              "       [  3.12   , 240.     ,   6.     ,   4.     ],\n",
              "       [  2.6    , 100.     ,   4.     ,   2.     ],\n",
              "       [  2.85   ,   5.     ,   4.     ,   5.     ],\n",
              "       [  2.9    ,  90.     ,   8.     ,   5.     ],\n",
              "       [  3.     , 240.     ,   6.     ,   4.     ],\n",
              "       [  2.7    , 120.     ,   6.     ,   5.     ],\n",
              "       [  2.85   ,  90.     ,  10.     ,   5.     ],\n",
              "       [  2.42   ,  60.     ,   6.     ,   3.     ],\n",
              "       [  2.55   , 170.     ,   5.     ,   5.     ],\n",
              "       [  2.59   , 120.     ,   4.     ,   4.     ],\n",
              "       [  2.48   , 280.     ,   7.     ,   4.     ],\n",
              "       [  2.9    ,   6.     ,  10.     ,   4.     ],\n",
              "       [  2.82   , 100.     ,   8.     ,   4.     ],\n",
              "       [  3.     , 180.     ,   6.     ,   5.     ],\n",
              "       [  2.7    , 120.     ,   6.     ,   4.     ],\n",
              "       [  2.54   , 120.     ,   4.     ,   5.     ],\n",
              "       [  2.8    , 190.     ,   6.     ,   4.     ],\n",
              "       [  2.9    , 240.     ,  10.     ,   5.     ],\n",
              "       [  3.14   , 120.     ,   6.     ,   5.     ],\n",
              "       [  2.4    ,   5.     ,  10.     ,   4.     ],\n",
              "       [  2.97   ,  90.     ,   4.     ,   4.     ],\n",
              "       [  2.6    , 150.     ,   8.     ,   4.     ],\n",
              "       [  2.57   , 270.     ,   5.     ,   4.     ],\n",
              "       [  2.8    , 150.     ,   6.     ,   5.     ],\n",
              "       [  2.67   ,  60.     ,   6.     ,   5.     ],\n",
              "       [  2.66   , 120.     ,  10.     ,   3.     ],\n",
              "       [  2.68   ,  90.     ,   6.     ,   2.     ],\n",
              "       [  3.74   , 240.     ,  10.     ,   5.     ],\n",
              "       [  2.88   ,  75.     ,   5.6    ,   4.     ],\n",
              "       [  2.3    ,  90.     ,   6.     ,   4.     ],\n",
              "       [  3.18   , 240.     ,   6.     ,   4.     ],\n",
              "       [  3.5    , 120.     ,   6.     ,   4.     ],\n",
              "       [  3.93   , 225.     ,   4.     ,   4.     ],\n",
              "       [  3.16   ,  90.     ,   6.     ,   5.     ],\n",
              "       [  2.5    ,   5.     ,   6.     ,   4.     ],\n",
              "       [  2.94   , 120.     ,   8.     ,   5.     ],\n",
              "       [  2.23   , 300.     ,   5.     ,   4.     ],\n",
              "       [  2.69   , 150.     ,   5.     ,   3.     ],\n",
              "       [  2.6    , 120.     ,   6.     ,   4.     ],\n",
              "       [  2.85   , 120.     ,   9.     ,   4.     ],\n",
              "       [  2.23   , 230.     ,   6.     ,   4.     ],\n",
              "       [  2.9    ,  50.     ,   6.     ,   5.     ],\n",
              "       [  2.33   , 120.     ,   8.     ,   4.     ],\n",
              "       [  2.7    , 200.     ,   5.     ,   2.     ],\n",
              "       [  3.18   ,  75.     ,   6.     ,   3.     ],\n",
              "       [  3.6    , 240.     ,   6.     ,   4.     ],\n",
              "       [  2.04   , 240.     ,   4.     ,   5.     ],\n",
              "       [  2.6    , 180.     ,   5.     ,   5.     ],\n",
              "       [  2.85   ,  90.     ,   5.     ,   5.     ],\n",
              "       [  3.2    , 240.     ,   5.     ,   5.     ],\n",
              "       [  2.9    , 240.     ,   8.     ,   4.     ],\n",
              "       [  3.     , 105.     ,   3.     ,   5.     ],\n",
              "       [  2.9    , 150.     ,   8.     ,   2.     ],\n",
              "       [  2.9    , 150.     ,   8.     ,   4.     ],\n",
              "       [  3.4    , 100.     ,   6.     ,   5.     ],\n",
              "       [  2.41   , 100.     ,   6.     ,   7.     ],\n",
              "       [  2.5    , 120.     ,   4.     ,   4.     ],\n",
              "       [  3.31   , 240.     ,   6.5    ,   5.     ],\n",
              "       [  2.68   ,  60.     ,   6.     ,   5.     ],\n",
              "       [  2.8    , 120.     ,   2.     ,   5.     ],\n",
              "       [  3.2    , 150.     ,   6.     ,   4.     ],\n",
              "       [  3.43   , 130.     ,   4.     ,   4.     ],\n",
              "       [  2.66   ,  85.     ,   6.     ,   4.     ],\n",
              "       [  2.89   ,  60.     ,   8.     ,   4.     ],\n",
              "       [  2.9    ,  80.     ,   4.     ,   5.     ],\n",
              "       [  2.03   ,   5.     ,   6.     ,   3.     ],\n",
              "       [  2.5    , 210.     ,   6.     ,   5.     ],\n",
              "       [  3.1    , 120.     ,   4.     ,   5.     ],\n",
              "       [  2.9    , 150.     ,   8.     ,   3.     ],\n",
              "       [  2.8    , 320.     ,   5.     ,   5.     ],\n",
              "       [  2.05   ,   5.     ,   8.     ,   6.     ],\n",
              "       [  2.83   ,  90.     ,   6.     ,   5.     ],\n",
              "       [  2.9    ,  60.     ,   8.     ,   4.     ],\n",
              "       [  2.45   , 160.     ,   8.     ,   5.     ],\n",
              "       [  2.5    , 200.     ,   4.     ,   4.     ],\n",
              "       [  3.06   , 120.     ,   5.     ,   5.     ],\n",
              "       [  2.4    , 300.     ,   6.     ,   5.     ],\n",
              "       [  1.88   ,  90.     ,   4.     ,   5.     ],\n",
              "       [  3.38   , 320.     ,   8.     ,   4.     ],\n",
              "       [  3.48   ,  30.     ,   4.     ,   5.     ],\n",
              "       [  2.71   , 240.     ,   8.     ,   4.     ],\n",
              "       [  2.6    , 105.     ,   5.     ,   4.     ],\n",
              "       [  2.5    , 105.     ,   7.     ,   4.     ],\n",
              "       [  2.23   ,  50.     ,   6.     ,   4.     ],\n",
              "       [  3.1    ,  20.     ,   6.     ,   5.     ],\n",
              "       [  2.85   ,   6.     ,  10.     ,   2.     ],\n",
              "       [  3.15   ,  40.     ,   4.     ,   3.     ],\n",
              "       [  2.93   ,  75.     ,   3.     ,   1.     ],\n",
              "       [  2.83   ,  40.     ,   5.     ,   3.     ],\n",
              "       [  3.2    , 240.     ,   4.     ,   5.     ],\n",
              "       [  2.8    ,  90.     ,   4.     ,   4.     ],\n",
              "       [  3.01   , 360.     ,   6.     ,   4.     ],\n",
              "       [  2.6    , 120.     ,   6.     ,   3.     ],\n",
              "       [  2.8    ,  90.     ,   6.     ,   6.     ],\n",
              "       [  2.07   , 120.     ,   5.     ,   5.     ],\n",
              "       [  3.1    , 120.     ,   6.     ,   4.     ],\n",
              "       [  2.61   , 180.     ,   2.     ,   2.     ],\n",
              "       [  3.19   , 210.     ,   6.     ,   5.     ],\n",
              "       [  3.1    , 120.     ,   4.     ,   4.     ],\n",
              "       [  2.55   , 240.     ,   8.     ,   4.     ],\n",
              "       [  2.8    ,  20.     ,   2.     ,   2.     ],\n",
              "       [  2.9    ,  50.     ,   4.     ,   3.     ],\n",
              "       [  2.88   , 200.     ,   7.     ,   4.     ],\n",
              "       [  3.4    , 180.     ,   9.     ,   5.     ],\n",
              "       [  2.9    , 200.     ,   3.     ,   3.     ],\n",
              "       [  3.12   , 160.     ,   5.     ,   4.     ],\n",
              "       [  3.46   , 180.     ,   6.     ,   4.     ],\n",
              "       [  3.5    , 150.     ,   6.     ,   4.     ],\n",
              "       [  2.98   ,  40.     ,   7.     ,   4.     ],\n",
              "       [  3.14   , 240.     ,   6.     ,   4.     ],\n",
              "       [  2.19   , 300.     ,  10.     ,   5.     ],\n",
              "       [  2.8    , 250.     ,   7.     ,   4.     ],\n",
              "       [  2.19   , 105.     ,   4.4    ,   5.     ],\n",
              "       [  2.2    , 100.     ,   4.     ,   4.     ],\n",
              "       [  2.91   , 100.     ,   4.     ,   4.     ],\n",
              "       [  3.7    , 180.     ,   6.     ,   5.     ],\n",
              "       [  3.19   , 270.     ,   5.     ,   5.     ],\n",
              "       [  2.     ,   5.     ,   7.     ,   4.     ],\n",
              "       [  1.7    ,   5.     ,   4.     ,   3.     ],\n",
              "       [  3.6    , 240.     ,   8.     ,   4.     ],\n",
              "       [  3.03   , 120.     ,   4.     ,   5.     ],\n",
              "       [  2.68   , 120.     ,   4.     ,   4.     ],\n",
              "       [  2.5    ,  45.     ,   3.     ,   1.     ],\n",
              "       [  2.65   ,  35.     ,   4.     ,   2.     ],\n",
              "       [  3.3    , 200.     ,   6.     ,   4.     ]])"
            ]
          },
          "metadata": {
            "tags": []
          },
          "execution_count": 227
        }
      ]
    },
    {
      "cell_type": "code",
      "metadata": {
        "id": "XKtUGyNpWzmV",
        "colab_type": "code",
        "outputId": "d3c01622-9d4e-423e-9767-65cbc3fa5eea",
        "colab": {
          "base_uri": "https://localhost:8080/",
          "height": 1000
        }
      },
      "source": [
        "Final_Data1\n"
      ],
      "execution_count": 0,
      "outputs": [
        {
          "output_type": "execute_result",
          "data": {
            "text/plain": [
              "array([[  2.38030474, 202.51258748,   6.50473632,   5.11045087],\n",
              "       [  2.89077518, 156.92120932,   4.19894897,   4.90820321],\n",
              "       [  3.39741839, 142.62283595,   4.78607961,   3.6875755 ],\n",
              "       [  2.35651593, 148.75375223,   7.42258779,   4.43566935],\n",
              "       [  2.42298058,  74.87604969,   8.75647065,   5.16888507],\n",
              "       [  3.20835576, 275.66478529,   8.68457637,   5.09654288],\n",
              "       [  3.20176784, 190.09471977,   5.95058471,   3.60964072],\n",
              "       [  3.66459596,  67.72820204,   7.60132774,   5.39462612],\n",
              "       [  3.42975691, 168.99736092,   6.44490164,   4.46601061],\n",
              "       [  2.89036989, 136.81018673,   4.26480435,   3.23162049],\n",
              "       [  2.68173826, 157.84827539,   8.07496667,   4.54931335],\n",
              "       [  2.74381563, 102.16425027,   9.41084181,   4.38072026],\n",
              "       [  2.54081449, 231.11252201,   6.21306733,   3.2105739 ],\n",
              "       [  2.44205939, 199.18702842,   8.73748294,   5.21309755],\n",
              "       [  3.73570579, 157.22872233,   5.88072138,   3.99355159],\n",
              "       [  2.79967883,   5.0608277 ,   5.12230307,   2.64260262],\n",
              "       [  2.13340711,  36.99324752,   5.50407911,   4.65258521],\n",
              "       [  2.6329618 , 205.80107139,   4.11694321,   4.39203328],\n",
              "       [  3.0140136 , 214.89075459,   8.29850982,   5.43859241],\n",
              "       [  2.96433707,  81.43983793,   9.62064904,   4.77743764],\n",
              "       [  3.15783133, 149.04797921,   8.33926633,   5.05731517],\n",
              "       [  2.72917603,  14.20919063,   6.0155779 ,   5.19774025],\n",
              "       [  3.09304236,  26.7506682 ,   6.99842509,   5.73267852],\n",
              "       [  2.96318804, 154.43451204,   5.52039043,   3.5198989 ],\n",
              "       [  2.46606305,  48.27978904,   6.75997266,   3.78436571],\n",
              "       [  3.26573858,  60.46652877,   5.23142738,   4.41323837],\n",
              "       [  3.24155597, 192.79709972,   5.42999079,   3.53618095],\n",
              "       [  2.42813444, 146.33153832,   7.358373  ,   4.71377427],\n",
              "       [  2.85605152, 132.90618382,   3.02783549,   5.19188463],\n",
              "       [  3.62560095, 127.08680229,   6.31371921,   3.79811032],\n",
              "       [  2.68791308, 158.33345476,   5.96942449,   3.91618823],\n",
              "       [  3.29362638, 161.44597979,   8.34451209,   3.7533123 ],\n",
              "       [  2.77524485, 163.15842244,   7.89480049,   5.33612005],\n",
              "       [  2.68017438, 129.95669186,   6.59135321,   5.60003956],\n",
              "       [  3.20006825,  34.55282407,   2.51781971,   3.52233541],\n",
              "       [  2.47327346, 163.44969565,   6.67240011,   4.21922762],\n",
              "       [  2.85086828, 189.71321223,   8.0151091 ,   3.97905161],\n",
              "       [  2.74637244, 252.53166499,   6.95872677,   4.68430015],\n",
              "       [  3.08335715, 119.50404469,   4.30218892,   3.85840349],\n",
              "       [  2.71514246,   8.1192915 ,   7.83826578,   3.59822107],\n",
              "       [  3.13263942, 220.80552413,   6.44366144,   3.29382933],\n",
              "       [  3.46830077, 156.50436548,   7.92207935,   5.91436702],\n",
              "       [  2.94997457, 108.40523587,   4.66122641,   5.38295551],\n",
              "       [  2.41782367,  98.99456572,   5.47181715,   5.76273543],\n",
              "       [  2.47948994,  54.20228104,   5.96128185,   3.51988854],\n",
              "       [  2.98177552, 253.01478136,   7.00203789,   3.83541726],\n",
              "       [  3.2961539 , 174.84085971,   4.87940135,   4.37300587],\n",
              "       [  2.9257469 , 273.80059772,   6.13466576,   3.56627252],\n",
              "       [  3.32259138, 131.56474177,   6.19505923,   2.09814036],\n",
              "       [  2.67163132,  35.76273234,   8.81786593,   4.43119251],\n",
              "       [  2.54398863,  36.77062603,   5.57648174,   3.24547419],\n",
              "       [  3.05648004, 183.12576578,   7.89123176,   3.33481487],\n",
              "       [  3.09297425, 241.15677595,   3.09813001,   2.36203246],\n",
              "       [  2.85565599, 275.4543159 ,   6.73455723,   5.9065168 ],\n",
              "       [  2.66710599, 164.87324623,   7.46542027,   4.74197071],\n",
              "       [  2.04725937, 152.91168118,   6.83703774,   3.00678103],\n",
              "       [  3.17509413, 183.13502827,   5.89952167,   3.60787807],\n",
              "       [  3.50875085, 206.57641911,   7.3095164 ,   4.19251847],\n",
              "       [  3.0165024 , 237.99775263,   6.25850016,   5.14126903],\n",
              "       [  3.04864407, 192.36876731,   9.14154785,   4.04413876],\n",
              "       [  2.7127292 ,  18.68656839,   4.96522337,   3.36723599],\n",
              "       [  3.05798418,  73.1580095 ,   4.80284486,   4.26182593],\n",
              "       [  2.09171626, 256.74587312,   7.95143996,   3.98854986],\n",
              "       [  3.01737228, 188.23117985,   6.32517281,   3.07556368],\n",
              "       [  3.29536371, 142.29448759,   5.81079466,   4.92828422],\n",
              "       [  2.35561568,  58.33311727,   4.54688019,   4.62453596],\n",
              "       [  2.64975528,  93.20732305,   5.83790611,   4.78015553],\n",
              "       [  2.89456232,  46.01103792,   7.83327342,   3.17602527],\n",
              "       [  2.35249666, 237.45875892,   4.11600788,   4.66863039],\n",
              "       [  2.37139485, 181.81599233,   6.82586143,   4.07218563],\n",
              "       [  2.88431486, 176.04184037,   4.02623477,   3.74999838],\n",
              "       [  3.45022152, 144.62483319,   6.62670279,   4.89987293],\n",
              "       [  3.39837701, 203.58119471,   5.63564582,   3.35475352],\n",
              "       [  3.16484515,  91.4615899 ,   5.80387071,   4.23330625],\n",
              "       [  2.97910026, 227.79394019,   8.90864278,   4.30146141],\n",
              "       [  2.91240326, 273.67033022,   6.44679223,   3.93315309],\n",
              "       [  2.19738629, 201.90820494,   7.36232841,   4.56923175],\n",
              "       [  2.64501236, 123.68685212,   6.77498409,   3.83018896],\n",
              "       [  2.61339991, 154.37928294,   2.69669465,   3.41317932],\n",
              "       [  2.32996967,  64.61577305,   7.66510428,   3.25317869],\n",
              "       [  2.68621249,  96.9550333 ,   3.97626456,   2.1244845 ],\n",
              "       [  2.71907289,  55.05795206,   9.07818659,   4.13612787],\n",
              "       [  2.50362742,  92.06196427,   4.27833163,   3.51416   ],\n",
              "       [  3.32453657, 176.18296124,   6.27856204,   2.98932025],\n",
              "       [  2.81539988, 216.25845321,   6.23004987,   3.56002879],\n",
              "       [  3.22933058, 132.81227504,   2.96436421,   3.88371131],\n",
              "       [  2.22813209, 188.17706781,   3.84167577,   5.14698043],\n",
              "       [  2.7363464 , 147.95279407,   4.63611145,   4.84024428],\n",
              "       [  2.62428443, 141.52322128,   7.82941933,   5.28073061],\n",
              "       [  2.80224631,  86.19325572,   8.95772795,   3.95158374],\n",
              "       [  3.09893787, 175.40522685,   5.93373374,   3.53984386],\n",
              "       [  2.21740516,  46.64241331,   4.51865439,   3.37614867],\n",
              "       [  2.25386908,  91.79950802,   5.4862791 ,   3.59535311],\n",
              "       [  2.91772928, 213.15432937,   5.74576227,   4.4286288 ],\n",
              "       [  2.55257707,  92.75472672,   6.29814658,   4.2897945 ],\n",
              "       [  2.70520393, 126.03603008,   6.6770961 ,   3.21232128],\n",
              "       [  2.90654843, 184.89166832,   7.50753172,   5.04205269],\n",
              "       [  2.89147953, 101.77985486,   5.40521711,   5.71785777],\n",
              "       [  2.6935826 , 205.55404038,   1.66282033,   4.43082318],\n",
              "       [  2.24016748, 227.34875294,   2.3737624 ,   2.42273437],\n",
              "       [  2.7794664 ,  85.79021825,   7.2532905 ,   5.52417507],\n",
              "       [  3.00465784, 191.8937845 ,   8.18083902,   1.98349848],\n",
              "       [  3.23422509, 251.28115382,   3.78415188,   4.27108243],\n",
              "       [  2.54155526, 101.38651233,   1.95201912,   3.07120262],\n",
              "       [  3.02163577, 117.37597863,   7.45911493,   4.69017848],\n",
              "       [  3.10902401, 291.2932593 ,   6.12255964,   4.2210951 ],\n",
              "       [  3.23973265, 130.42273109,   4.98669431,   4.9343057 ],\n",
              "       [  3.07669112,  13.33598317,   4.6278583 ,   3.39444627],\n",
              "       [  3.345563  ,  29.74174061,   5.48096232,   5.63195633],\n",
              "       [  2.4673985 , 220.74987993,   9.7619674 ,   4.56594545],\n",
              "       [  3.41055214, 168.45227334,   8.26557288,   5.82087188],\n",
              "       [  3.32056791,  19.49417021,   5.95573098,   3.06121789],\n",
              "       [  2.45270865, 188.24632428,   1.38976191,   2.01104449],\n",
              "       [  2.67665116, 261.53031396,   6.89468453,   3.07536047],\n",
              "       [  2.23574738, 108.06362753,   5.38599414,   2.99762576],\n",
              "       [  2.87850168,  78.24315467,   6.78803623,   3.93711002],\n",
              "       [  2.67054496, 259.73015795,   7.01216965,   5.74216251],\n",
              "       [  1.99275804,  97.68346621,   5.35833202,   2.95939961],\n",
              "       [  2.33793879,  93.57169862,   4.75193367,   5.16683964],\n",
              "       [  2.73793138,  69.23190976,   6.86824995,   2.75337399],\n",
              "       [  2.38227054,  63.46485845,   5.79937575,   3.70685322],\n",
              "       [  3.08188852, 229.70089292,   6.10687681,   3.78414258],\n",
              "       [  3.63887889, 131.67275933,   6.73848062,   1.81165444],\n",
              "       [  2.57545975, 116.86408599,   5.54204305,   4.01066086],\n",
              "       [  2.6278337 , 226.76527152,   7.56315371,   4.16149931],\n",
              "       [  2.58134253, 161.23855961,   7.26907345,   3.92129298],\n",
              "       [  3.02834578, 285.68890453,   4.30727487,   2.00341384],\n",
              "       [  3.38776953,  56.84834136,   4.69937692,   3.61835325],\n",
              "       [  3.05361793,  32.57618885,   4.70593114,   3.11634766],\n",
              "       [  2.41701737,  43.39398177,   6.90916023,   5.74757069],\n",
              "       [  2.6611446 , 137.16756799,   4.33498287,   4.55981622],\n",
              "       [  3.12015849,  82.98966044,   4.45331172,   2.50458392],\n",
              "       [  2.71966216,  88.28421348,   3.84680948,   4.99086136],\n",
              "       [  2.64694197, 237.01700434,   5.08033571,   3.19542894],\n",
              "       [  2.49188114, 161.50779138,   5.25742327,   3.08584239],\n",
              "       [  2.1390768 , 175.70948537,   7.07739504,   3.02592896],\n",
              "       [  2.38797828, 173.49739204,   3.55092519,   2.92638513],\n",
              "       [  2.07318079,  51.75966551,   7.03727521,   3.0709983 ],\n",
              "       [  3.52276662, 264.51974349,   5.19704696,   3.26196392],\n",
              "       [  2.76922816, 134.01215863,   4.97107944,   3.71127825],\n",
              "       [  2.61464292, 177.02103354,   2.49964907,   3.95166338],\n",
              "       [  2.73054212, 201.01713631,   6.1341794 ,   2.8812173 ],\n",
              "       [  3.34139751, 151.45103676,   4.79507751,   4.26672815],\n",
              "       [  3.07481411,  10.50586314,   5.94181841,   3.56905488],\n",
              "       [  2.95737612, 242.13123917,   6.93373945,   4.32953062],\n",
              "       [  3.31916279, 227.87987556,   7.49348825,   4.41256915],\n",
              "       [  2.26754071, 164.11404478,   5.80973546,   3.14078158],\n",
              "       [  2.66772788, 133.45788901,   7.1704756 ,   3.60847398],\n",
              "       [  3.21769452, 195.22860381,   7.86805426,   3.77947886],\n",
              "       [  2.68197858,  95.56737346,   2.39468007,   5.12920337],\n",
              "       [  2.99005401, 140.92085687,   6.20576851,   5.30325911],\n",
              "       [  2.91310959, 216.05079776,   5.77686471,   5.03565426],\n",
              "       [  2.80936679,  91.21096244,   5.76804164,   4.94469731],\n",
              "       [  2.50730408, 170.20903922,   7.13407609,   2.34045268],\n",
              "       [  2.47556702, 142.77997808,   6.06319413,   5.41475272],\n",
              "       [  2.45747426,  27.13048981,   3.98346478,   5.38957028],\n",
              "       [  3.10619538, 259.25501479,   6.63726017,   4.44134897],\n",
              "       [  2.41325971,  36.84178194,   6.27689217,   3.74617555],\n",
              "       [  2.66351364,  75.38622885,   6.49369761,   4.49564326],\n",
              "       [  2.84294848,  46.90814733,   3.23024334,   2.98766112],\n",
              "       [  2.45949193,  95.05595969,   4.601261  ,   4.76765721],\n",
              "       [  3.07888831,  75.29668737,   6.7193053 ,   4.90802975],\n",
              "       [  3.51391953,  67.30304255,   4.01865762,   3.913681  ],\n",
              "       [  2.54681035,  66.42102852,   5.51000154,   4.15444619],\n",
              "       [  2.13666325, 213.58349655,   7.57042268,   3.96539265],\n",
              "       [  3.0130306 ,  39.77549327,   9.04534806,   3.02139413],\n",
              "       [  2.47277445,  63.82017348,   7.22947804,   5.05541788],\n",
              "       [  2.22859686,  82.73221956,   6.83873921,   4.18595123],\n",
              "       [  2.67017659, 202.67310222,   7.43370264,   4.47652337],\n",
              "       [  3.05933389,  89.54598077,   6.00821341,   2.49403586],\n",
              "       [  3.05087497,  72.76547609,   4.03072219,   4.73690252],\n",
              "       [  3.12092393, 237.0794979 ,   5.26103865,   3.67521084],\n",
              "       [  2.75899891, 155.13496211,   8.37418056,   3.77937791],\n",
              "       [  3.32675356, 153.24924788,   6.81054515,   4.24916547],\n",
              "       [  2.79343356, 146.3385771 ,   5.31584375,   5.07692008],\n",
              "       [  3.122442  ,   5.33011685,   5.40585174,   4.04654991],\n",
              "       [  2.88151222, 145.50712996,   4.00737214,   3.70134319],\n",
              "       [  3.15385474, 122.52285156,   1.92472465,   5.32986893],\n",
              "       [  3.324057  , 263.76328295,   5.32003048,   5.40182636],\n",
              "       [  2.68854664,  81.83018151,   6.07770363,   4.47451226],\n",
              "       [  2.62290644, 119.18102725,   5.55783977,   3.37684265],\n",
              "       [  2.13467646, 286.13368742,   7.74045629,   4.21402697],\n",
              "       [  2.3369438 , 269.80606398,   5.24669525,   4.10371232],\n",
              "       [  2.54145152,  72.70453073,   6.59593829,   4.38018527],\n",
              "       [  3.43966311, 167.42063222,   5.20820165,   4.21858635],\n",
              "       [  3.00339077, 194.73558267,   3.9914968 ,   5.23441316],\n",
              "       [  2.71773604, 242.97797441,   7.12141589,   3.45149478],\n",
              "       [  2.53970791, 188.7534997 ,   6.38769571,   4.16141995],\n",
              "       [  2.75670318, 124.94266619,   3.57362322,   3.44304361],\n",
              "       [  2.55246546,  87.72242188,   5.12244404,   3.79100972],\n",
              "       [  3.47268859, 212.86375144,   3.576237  ,   4.54403552],\n",
              "       [  2.37572705, 128.48248108,   3.73321807,   4.7889044 ],\n",
              "       [  2.0601139 , 118.14375099,   6.05238817,   4.84265415],\n",
              "       [  2.31059718, 189.12551712,   6.39396444,   3.54650359],\n",
              "       [  2.65348495,  55.88989825,   1.21949487,   2.02753772],\n",
              "       [  2.25061905,  72.46483556,   8.12253277,   5.60553896],\n",
              "       [  2.77981605, 185.00737808,   5.064096  ,   4.33363629],\n",
              "       [  2.35658313, 167.39488322,   5.92371159,   4.08961942],\n",
              "       [  2.86710271,  80.09279148,   4.97865401,   3.54385602],\n",
              "       [  3.07745107, 108.65043602,   7.46752268,   4.85746327],\n",
              "       [  2.94562996, 136.1740487 ,   3.99902175,   4.77535958],\n",
              "       [  2.39532704, 160.46249079,   5.27921269,   5.06284276],\n",
              "       [  2.54571915, 121.95923754,   7.23063759,   3.97628781],\n",
              "       [  3.20253093,  51.12272903,   4.23866984,   4.76426094],\n",
              "       [  3.0400468 , 151.54333074,   8.7642705 ,   4.3755303 ],\n",
              "       [  3.00588639,  67.12737217,   6.48811831,   4.53392872],\n",
              "       [  2.96851454, 123.52994523,   5.70366369,   5.14452713],\n",
              "       [  2.91247274,  95.18849627,   3.34714613,   4.52257953],\n",
              "       [  3.8498936 , 172.46821764,   4.2495366 ,   4.20161972],\n",
              "       [  2.72754903, 165.55598547,   5.95275577,   4.6498072 ],\n",
              "       [  3.39464933, 142.99946711,   4.83994573,   3.20726616],\n",
              "       [  2.63309997,  33.44186874,   4.91034921,   2.94353621],\n",
              "       [  2.92725901,  66.22992333,   1.46879551,   4.43910021],\n",
              "       [  3.08733672, 196.21468488,   6.1786212 ,   3.43106454],\n",
              "       [  3.57922865,   8.97258831,   5.96192303,   4.01517806]])"
            ]
          },
          "metadata": {
            "tags": []
          },
          "execution_count": 228
        }
      ]
    },
    {
      "cell_type": "code",
      "metadata": {
        "id": "86lIQOlAz-i9",
        "colab_type": "code",
        "outputId": "87d147ae-888e-4852-f80d-341c8b5c5e7c",
        "colab": {
          "base_uri": "https://localhost:8080/",
          "height": 1000
        }
      },
      "source": [
        "Merge_data2=np.concatenate((data, Final_Data1), axis=0)\n",
        "for i in range (200):\n",
        "  print(Merge_data2[i][0])"
      ],
      "execution_count": 0,
      "outputs": [
        {
          "output_type": "stream",
          "text": [
            "2.04\n",
            "3.22\n",
            "2.92\n",
            "3.5\n",
            "2.86\n",
            "3.18\n",
            "3.0\n",
            "2.54\n",
            "3.8\n",
            "2.6\n",
            "2.4\n",
            "2.4\n",
            "2.0\n",
            "3.61\n",
            "2.5\n",
            "3.1\n",
            "2.73\n",
            "3.07\n",
            "2.7\n",
            "2.8\n",
            "3.12\n",
            "3.27\n",
            "3.1\n",
            "2.75\n",
            "3.04\n",
            "2.85\n",
            "3.45125\n",
            "3.04\n",
            "2.67\n",
            "3.3\n",
            "2.25\n",
            "3.35\n",
            "2.6\n",
            "3.19\n",
            "3.53\n",
            "2.7\n",
            "2.7\n",
            "2.76\n",
            "2.9\n",
            "3.2\n",
            "2.4\n",
            "3.0\n",
            "3.1\n",
            "2.56\n",
            "2.5\n",
            "2.85\n",
            "2.3\n",
            "2.8\n",
            "2.55\n",
            "3.09\n",
            "2.6\n",
            "2.6\n",
            "2.34\n",
            "3.06\n",
            "3.42\n",
            "3.0\n",
            "2.8\n",
            "3.0\n",
            "3.1\n",
            "2.72\n",
            "3.14\n",
            "2.63\n",
            "3.09\n",
            "2.94\n",
            "2.8\n",
            "2.8\n",
            "2.6\n",
            "2.8\n",
            "2.62\n",
            "3.29\n",
            "3.35\n",
            "2.38\n",
            "2.5\n",
            "2.57\n",
            "2.5\n",
            "3.3\n",
            "2.4\n",
            "2.55\n",
            "3.24\n",
            "3.0\n",
            "2.49\n",
            "2.86\n",
            "2.06\n",
            "2.2\n",
            "2.77\n",
            "1.09\n",
            "2.44\n",
            "2.35\n",
            "2.51\n",
            "2.75\n",
            "2.8\n",
            "2.96\n",
            "2.8\n",
            "3.39\n",
            "2.28\n",
            "3.06\n",
            "2.62\n",
            "2.66\n",
            "3.03\n",
            "3.1\n",
            "2.69\n",
            "2.53\n",
            "2.5\n",
            "3.47\n",
            "2.56\n",
            "2.7\n",
            "2.8\n",
            "2.29\n",
            "3.27\n",
            "2.68\n",
            "3.45\n",
            "3.3\n",
            "2.88\n",
            "3.0\n",
            "3.0\n",
            "2.8\n",
            "3.66\n",
            "3.12\n",
            "2.6\n",
            "2.85\n",
            "2.9\n",
            "3.0\n",
            "2.7\n",
            "2.85\n",
            "2.42\n",
            "2.55\n",
            "2.59\n",
            "2.48\n",
            "2.9\n",
            "2.82\n",
            "3.0\n",
            "2.7\n",
            "2.54\n",
            "2.8\n",
            "2.9\n",
            "3.14\n",
            "2.4\n",
            "2.97\n",
            "2.6\n",
            "2.57\n",
            "2.8\n",
            "2.67\n",
            "2.66\n",
            "2.68\n",
            "3.74\n",
            "2.88\n",
            "2.3\n",
            "3.18\n",
            "3.5\n",
            "3.93\n",
            "3.16\n",
            "2.5\n",
            "2.94\n",
            "2.23\n",
            "2.69\n",
            "2.6\n",
            "2.85\n",
            "2.23\n",
            "2.9\n",
            "2.33\n",
            "2.7\n",
            "3.18\n",
            "3.6\n",
            "2.04\n",
            "2.6\n",
            "2.85\n",
            "3.2\n",
            "2.9\n",
            "3.0\n",
            "2.9\n",
            "2.9\n",
            "3.4\n",
            "2.41\n",
            "2.5\n",
            "3.31\n",
            "2.68\n",
            "2.8\n",
            "3.2\n",
            "3.43\n",
            "2.66\n",
            "2.89\n",
            "2.9\n",
            "2.03\n",
            "2.5\n",
            "3.1\n",
            "2.9\n",
            "2.8\n",
            "2.05\n",
            "2.83\n",
            "2.9\n",
            "2.45\n",
            "2.5\n",
            "3.06\n",
            "2.4\n",
            "1.88\n",
            "3.38\n",
            "3.48\n",
            "2.71\n",
            "2.6\n",
            "2.5\n"
          ],
          "name": "stdout"
        }
      ]
    },
    {
      "cell_type": "code",
      "metadata": {
        "id": "tuu2rs130FFW",
        "colab_type": "code",
        "outputId": "d1e460f2-1de3-4a95-a604-59e67eb52257",
        "colab": {
          "base_uri": "https://localhost:8080/",
          "height": 35
        }
      },
      "source": [
        "x_2 = Merge_data2[:,1:4]\n",
        "y_2=Merge_data2[:,0:1]\n",
        "x_2.shape\n",
        "#for i in range (1107):\n",
        " # print(y_2[i])"
      ],
      "execution_count": 0,
      "outputs": [
        {
          "output_type": "execute_result",
          "data": {
            "text/plain": [
              "(457, 3)"
            ]
          },
          "metadata": {
            "tags": []
          },
          "execution_count": 230
        }
      ]
    },
    {
      "cell_type": "code",
      "metadata": {
        "id": "RSmhcOtT02nV",
        "colab_type": "code",
        "colab": {}
      },
      "source": [
        "X_train1, X_test1, y_train1, y_test1 = train_test_split(x_2,y_2, test_size=0.05, random_state=0)\n"
      ],
      "execution_count": 0,
      "outputs": []
    },
    {
      "cell_type": "code",
      "metadata": {
        "id": "DLaKSQrp2y-d",
        "colab_type": "code",
        "outputId": "dc0976cb-6510-4bca-b758-cd9c0588778b",
        "colab": {
          "base_uri": "https://localhost:8080/",
          "height": 35
        }
      },
      "source": [
        "Regress1 = LinearRegression()\n",
        "Regress1.fit(X_train1, y_train1)\n"
      ],
      "execution_count": 0,
      "outputs": [
        {
          "output_type": "execute_result",
          "data": {
            "text/plain": [
              "LinearRegression(copy_X=True, fit_intercept=True, n_jobs=None, normalize=False)"
            ]
          },
          "metadata": {
            "tags": []
          },
          "execution_count": 232
        }
      ]
    },
    {
      "cell_type": "code",
      "metadata": {
        "id": "05Dfxqci22s_",
        "colab_type": "code",
        "outputId": "77affafb-f640-4ed0-84f8-5bae1a899e8b",
        "colab": {
          "base_uri": "https://localhost:8080/",
          "height": 35
        }
      },
      "source": [
        "y_pred1 = Regress1.predict(X_test1)\n",
        "#X_test1.shape\n",
        "y_pred1.shape"
      ],
      "execution_count": 0,
      "outputs": [
        {
          "output_type": "execute_result",
          "data": {
            "text/plain": [
              "(23, 1)"
            ]
          },
          "metadata": {
            "tags": []
          },
          "execution_count": 233
        }
      ]
    },
    {
      "cell_type": "code",
      "metadata": {
        "id": "sYInu3hrgvlg",
        "colab_type": "code",
        "colab": {}
      },
      "source": [
        "##zz"
      ],
      "execution_count": 0,
      "outputs": []
    },
    {
      "cell_type": "code",
      "metadata": {
        "id": "wAcsBd5akevc",
        "colab_type": "code",
        "outputId": "7246ddc8-2a46-413e-fb2d-407decaf0079",
        "colab": {
          "base_uri": "https://localhost:8080/",
          "height": 52
        }
      },
      "source": [
        "print(X_train1.shape)\n",
        "print(y_train1.shape)\n",
        "\n",
        "#y_pred1.shape"
      ],
      "execution_count": 0,
      "outputs": [
        {
          "output_type": "stream",
          "text": [
            "(434, 3)\n",
            "(434, 1)\n"
          ],
          "name": "stdout"
        }
      ]
    },
    {
      "cell_type": "code",
      "metadata": {
        "id": "7Vs_VMg1geaD",
        "colab_type": "code",
        "outputId": "074fb58b-0c15-4680-bba7-93f6cb8a81f3",
        "colab": {
          "base_uri": "https://localhost:8080/",
          "height": 283
        }
      },
      "source": [
        "\n",
        "zz = X_test1[:,2]\n",
        "\n",
        "plt.scatter(zz, y_test1,color='g')\n",
        "y_pred1.shape\n",
        "plt.plot(zz, y_pred1,color='r')\n",
        "\n"
      ],
      "execution_count": 0,
      "outputs": [
        {
          "output_type": "execute_result",
          "data": {
            "text/plain": [
              "[<matplotlib.lines.Line2D at 0x7fef35d72198>]"
            ]
          },
          "metadata": {
            "tags": []
          },
          "execution_count": 236
        },
        {
          "output_type": "display_data",
          "data": {
            "image/png": "[encoded data removed]",
            "text/plain": [
              "<Figure size 432x288 with 1 Axes>"
            ]
          },
          "metadata": {
            "tags": []
          }
        }
      ]
    },
    {
      "cell_type": "code",
      "metadata": {
        "id": "Cqz_IuE4nT62",
        "colab_type": "code",
        "outputId": "e6abd835-3d1e-4636-deb8-a492647e2e3c",
        "colab": {
          "base_uri": "https://localhost:8080/",
          "height": 283
        }
      },
      "source": [
        "\n",
        "zz = X_train1[:,0]\n",
        "plt.scatter(zz, y_train1,color='g')\n",
        "y_pred1.shape\n",
        "plt.plot(zz, y_train1,color='r')\n",
        "\n",
        "\n"
      ],
      "execution_count": 0,
      "outputs": [
        {
          "output_type": "execute_result",
          "data": {
            "text/plain": [
              "[<matplotlib.lines.Line2D at 0x7fef35d62c50>]"
            ]
          },
          "metadata": {
            "tags": []
          },
          "execution_count": 237
        },
        {
          "output_type": "display_data",
          "data": {
            "image/png": "[encoded data removed]",
            "text/plain": [
              "<Figure size 432x288 with 1 Axes>"
            ]
          },
          "metadata": {
            "tags": []
          }
        }
      ]
    },
    {
      "cell_type": "code",
      "metadata": {
        "id": "qOa6EyB73Bi4",
        "colab_type": "code",
        "outputId": "6c9ddc33-3cfd-45ce-cb82-fba2127de2bd",
        "colab": {
          "base_uri": "https://localhost:8080/",
          "height": 69
        }
      },
      "source": [
        "  print('Mean Absolute Error:', metrics.mean_absolute_error(y_test1, y_pred1))\n",
        "print('Mean Squared Error:', metrics.mean_squared_error(y_test1, y_pred1))\n",
        "print('Root Mean Squared Error:', np.sqrt(metrics.mean_squared_error(y_test1, y_pred1)))"
      ],
      "execution_count": 0,
      "outputs": [
        {
          "output_type": "stream",
          "text": [
            "Mean Absolute Error: 0.36936160562430786\n",
            "Mean Squared Error: 0.18944002481776231\n",
            "Root Mean Squared Error: 0.43524708478950475\n"
          ],
          "name": "stdout"
        }
      ]
    },
    {
      "cell_type": "code",
      "metadata": {
        "id": "vQgZETo6MkKQ",
        "colab_type": "code",
        "outputId": "bf5997fa-2fcd-4f0d-8993-9dec52307812",
        "colab": {
          "base_uri": "https://localhost:8080/",
          "height": 1000
        }
      },
      "source": [
        "#df = pd.DataFrame({'Actual': y_test1[10], 'Predicted': X_test1[0]})\n",
        "for i in range (23):\n",
        "  print(y_test1[i])\n",
        "  print(\"--------------\")\n",
        "  print(y_pred1[i])"
      ],
      "execution_count": 0,
      "outputs": [
        {
          "output_type": "stream",
          "text": [
            "[2.6]\n",
            "--------------\n",
            "[2.87437672]\n",
            "[2.19]\n",
            "--------------\n",
            "[2.85666869]\n",
            "[2.35249666]\n",
            "--------------\n",
            "[2.90437342]\n",
            "[2.9]\n",
            "--------------\n",
            "[2.8793129]\n",
            "[2.7]\n",
            "--------------\n",
            "[2.83559602]\n",
            "[2.74381563]\n",
            "--------------\n",
            "[2.76122812]\n",
            "[2.38227054]\n",
            "--------------\n",
            "[2.79497349]\n",
            "[2.]\n",
            "--------------\n",
            "[2.85774545]\n",
            "[2.88]\n",
            "--------------\n",
            "[2.83064257]\n",
            "[2.62]\n",
            "--------------\n",
            "[2.76910934]\n",
            "[3.]\n",
            "--------------\n",
            "[2.73030945]\n",
            "[2.5]\n",
            "--------------\n",
            "[2.85652197]\n",
            "[3.14]\n",
            "--------------\n",
            "[2.79928341]\n",
            "[2.61]\n",
            "--------------\n",
            "[2.87070627]\n",
            "[2.61464292]\n",
            "--------------\n",
            "[2.89614323]\n",
            "[2.62290644]\n",
            "--------------\n",
            "[2.81366631]\n",
            "[2.4]\n",
            "--------------\n",
            "[2.84484415]\n",
            "[3.57922865]\n",
            "--------------\n",
            "[2.77765898]\n",
            "[3.5]\n",
            "--------------\n",
            "[2.82881598]\n",
            "[3.22933058]\n",
            "--------------\n",
            "[2.87088118]\n",
            "[3.22]\n",
            "--------------\n",
            "[2.81896475]\n",
            "[2.4]\n",
            "--------------\n",
            "[2.79065759]\n",
            "[3.4]\n",
            "--------------\n",
            "[2.80785165]\n"
          ],
          "name": "stdout"
        }
      ]
    },
    {
      "cell_type": "code",
      "metadata": {
        "id": "xQYim3ulag6b",
        "colab_type": "code",
        "colab": {}
      },
      "source": [
        "P = [47.77031978,   8.30340601,   5.33225355],\n",
        "y_pred2 = Regress1.predict(P)\n",
        "#y_pred2\n",
        "\n",
        "Reg_coef=Regress1.coef_\n",
        "Reg_inte=Regress1.intercept_\n"
      ],
      "execution_count": 0,
      "outputs": []
    },
    {
      "cell_type": "markdown",
      "metadata": {
        "id": "1uwajbZz5zuq",
        "colab_type": "text"
      },
      "source": [
        "##visualization Error"
      ]
    },
    {
      "cell_type": "code",
      "metadata": {
        "id": "fWWc44oc3ED9",
        "colab_type": "code",
        "colab": {}
      },
      "source": [
        "visul_merg = Merge_data2.tolist()\n"
      ],
      "execution_count": 0,
      "outputs": []
    },
    {
      "cell_type": "code",
      "metadata": {
        "id": "dThzecPEiHq0",
        "colab_type": "code",
        "colab": {}
      },
      "source": [
        "df = pd.DataFrame(visul_merg)\n",
        "df_1=(df-df.mean())/df.std()"
      ],
      "execution_count": 0,
      "outputs": []
    },
    {
      "cell_type": "code",
      "metadata": {
        "id": "p6Me_XQlBKJy",
        "colab_type": "code",
        "outputId": "49a45869-336d-479f-d24c-e473f0ffa8bf",
        "colab": {
          "base_uri": "https://localhost:8080/",
          "height": 743
        }
      },
      "source": [
        "sb.pairplot(df_1)"
      ],
      "execution_count": 0,
      "outputs": [
        {
          "output_type": "execute_result",
          "data": {
            "text/plain": [
              "<seaborn.axisgrid.PairGrid at 0x7fef35c48358>"
            ]
          },
          "metadata": {
            "tags": []
          },
          "execution_count": 243
        },
        {
          "output_type": "display_data",
          "data": {
            "image/png": "[encoded data removed]",
            "text/plain": [
              "<Figure size 720x720 with 20 Axes>"
            ]
          },
          "metadata": {
            "tags": []
          }
        }
      ]
    },
    {
      "cell_type": "markdown",
      "metadata": {
        "id": "ma-bvBaHO4kg",
        "colab_type": "text"
      },
      "source": [
        "##Thinking In Tensors_1 **ماعدا العاق عمر محمد **"
      ]
    },
    {
      "cell_type": "code",
      "metadata": {
        "id": "bfZvRaJqO7i9",
        "colab_type": "code",
        "colab": {}
      },
      "source": [
        "#import torch\n"
      ],
      "execution_count": 0,
      "outputs": []
    },
    {
      "cell_type": "code",
      "metadata": {
        "id": "0asTmg6lPA-t",
        "colab_type": "code",
        "colab": {}
      },
      "source": [
        "# x_features_1 = Merge_data2[:,1:4]\n",
        "# y_labels_1 = Merge_data2[:,0:1]\n",
        "# inputs = x_features_1#combined_features_1 #X_1 x_features_1\n",
        "# targets = y_labels_1#combined_labels_1#Y_1 y_labels_1\n"
      ],
      "execution_count": 0,
      "outputs": []
    },
    {
      "cell_type": "code",
      "metadata": {
        "id": "MtEabYTlQPnB",
        "colab_type": "code",
        "colab": {}
      },
      "source": [
        "# inputs = torch.from_numpy(inputs)\n",
        "# targets = torch.from_numpy(targets)\n"
      ],
      "execution_count": 0,
      "outputs": []
    },
    {
      "cell_type": "code",
      "metadata": {
        "id": "1X3LzsipP879",
        "colab_type": "code",
        "colab": {}
      },
      "source": [
        "# print(inputs)\n",
        "# print(targets)"
      ],
      "execution_count": 0,
      "outputs": []
    },
    {
      "cell_type": "code",
      "metadata": {
        "id": "-UYqO8gIQtjM",
        "colab_type": "code",
        "colab": {}
      },
      "source": [
        "# w = torch.randn(1, 3, requires_grad=True)\n",
        "# b = torch.randn(1, requires_grad=True)\n"
      ],
      "execution_count": 0,
      "outputs": []
    },
    {
      "cell_type": "code",
      "metadata": {
        "id": "On-VPra3Rdsj",
        "colab_type": "code",
        "colab": {}
      },
      "source": [
        "# inputs.type()\n"
      ],
      "execution_count": 0,
      "outputs": []
    },
    {
      "cell_type": "code",
      "metadata": {
        "id": "xzvWEI2qRe_N",
        "colab_type": "code",
        "colab": {}
      },
      "source": [
        "# def model(x):\n",
        "#     return x @ w.t() + b"
      ],
      "execution_count": 0,
      "outputs": []
    },
    {
      "cell_type": "code",
      "metadata": {
        "id": "104KfuhMR3Vj",
        "colab_type": "code",
        "colab": {}
      },
      "source": [
        "# preds = model(inputs.float())\n"
      ],
      "execution_count": 0,
      "outputs": []
    },
    {
      "cell_type": "code",
      "metadata": {
        "id": "ugyfg6HhSGS4",
        "colab_type": "code",
        "colab": {}
      },
      "source": [
        "# print(preds)\n"
      ],
      "execution_count": 0,
      "outputs": []
    },
    {
      "cell_type": "code",
      "metadata": {
        "id": "XHvM0WT4S7Lu",
        "colab_type": "code",
        "colab": {}
      },
      "source": [
        "# print(targets)\n"
      ],
      "execution_count": 0,
      "outputs": []
    },
    {
      "cell_type": "code",
      "metadata": {
        "id": "rEMHKIorTLHU",
        "colab_type": "code",
        "colab": {}
      },
      "source": [
        "# def mse(t1, t2):\n",
        "#     diff = t1 - t2\n",
        "#     return torch.sum(diff * diff) / diff.numel()"
      ],
      "execution_count": 0,
      "outputs": []
    },
    {
      "cell_type": "code",
      "metadata": {
        "id": "e7YpShKuTZi_",
        "colab_type": "code",
        "colab": {}
      },
      "source": [
        "# loss = mse(preds, targets)\n",
        "# print(loss)"
      ],
      "execution_count": 0,
      "outputs": []
    },
    {
      "cell_type": "code",
      "metadata": {
        "id": "ybblZ0M2Tcdu",
        "colab_type": "code",
        "colab": {}
      },
      "source": [
        "# loss.backward()\n"
      ],
      "execution_count": 0,
      "outputs": []
    },
    {
      "cell_type": "code",
      "metadata": {
        "id": "SCo2qTThT6FM",
        "colab_type": "code",
        "colab": {}
      },
      "source": [
        "# print(w)\n"
      ],
      "execution_count": 0,
      "outputs": []
    },
    {
      "cell_type": "code",
      "metadata": {
        "id": "pcPPyfdUUOaG",
        "colab_type": "code",
        "colab": {}
      },
      "source": [
        "# print(w.grad)\n"
      ],
      "execution_count": 0,
      "outputs": []
    },
    {
      "cell_type": "code",
      "metadata": {
        "id": "V-kxb9sJUTYa",
        "colab_type": "code",
        "colab": {}
      },
      "source": [
        "# print(b)\n"
      ],
      "execution_count": 0,
      "outputs": []
    },
    {
      "cell_type": "code",
      "metadata": {
        "id": "DDeHhePGUZoe",
        "colab_type": "code",
        "colab": {}
      },
      "source": [
        "# print(b.grad)\n"
      ],
      "execution_count": 0,
      "outputs": []
    },
    {
      "cell_type": "code",
      "metadata": {
        "id": "eQT_hNo-UcIl",
        "colab_type": "code",
        "colab": {}
      },
      "source": [
        "# w.grad.zero_()\n"
      ],
      "execution_count": 0,
      "outputs": []
    },
    {
      "cell_type": "code",
      "metadata": {
        "id": "HJQewQBiUzmk",
        "colab_type": "code",
        "colab": {}
      },
      "source": [
        "# b.grad.zero_()"
      ],
      "execution_count": 0,
      "outputs": []
    },
    {
      "cell_type": "code",
      "metadata": {
        "id": "6ZoFBZPgU5w5",
        "colab_type": "code",
        "colab": {}
      },
      "source": [
        "# preds = model(inputs.float())\n"
      ],
      "execution_count": 0,
      "outputs": []
    },
    {
      "cell_type": "code",
      "metadata": {
        "id": "zu-t58DqVETu",
        "colab_type": "code",
        "colab": {}
      },
      "source": [
        "# print(preds)\n"
      ],
      "execution_count": 0,
      "outputs": []
    },
    {
      "cell_type": "code",
      "metadata": {
        "id": "Dq5lM9diVIbD",
        "colab_type": "code",
        "colab": {}
      },
      "source": [
        "# loss = mse(preds, targets)\n"
      ],
      "execution_count": 0,
      "outputs": []
    },
    {
      "cell_type": "code",
      "metadata": {
        "id": "6hE0pIFkVQAO",
        "colab_type": "code",
        "colab": {}
      },
      "source": [
        "# print(loss)\n"
      ],
      "execution_count": 0,
      "outputs": []
    },
    {
      "cell_type": "code",
      "metadata": {
        "id": "B_CkIU_9VSHq",
        "colab_type": "code",
        "colab": {}
      },
      "source": [
        "# loss.backward()\n"
      ],
      "execution_count": 0,
      "outputs": []
    },
    {
      "cell_type": "code",
      "metadata": {
        "id": "1GKM_onUVt6Y",
        "colab_type": "code",
        "colab": {}
      },
      "source": [
        "# with torch.no_grad():\n",
        "#     w -= w.grad * 1e-5\n",
        "#     b -= b.grad * 1e-5\n",
        "#     w.grad.zero_()\n",
        "#     b.grad.zero_()"
      ],
      "execution_count": 0,
      "outputs": []
    },
    {
      "cell_type": "code",
      "metadata": {
        "id": "s5Cufta4V229",
        "colab_type": "code",
        "colab": {}
      },
      "source": [
        "# print(w)\n"
      ],
      "execution_count": 0,
      "outputs": []
    },
    {
      "cell_type": "code",
      "metadata": {
        "id": "0j_wjmrNV5Hd",
        "colab_type": "code",
        "colab": {}
      },
      "source": [
        "# preds = model(inputs.float())\n",
        "# loss = mse(preds, targets)\n",
        "# print(loss)"
      ],
      "execution_count": 0,
      "outputs": []
    },
    {
      "cell_type": "code",
      "metadata": {
        "id": "x5RxIxPSV-7L",
        "colab_type": "code",
        "colab": {}
      },
      "source": [
        "# for i in range(40000):\n",
        "#     preds = model(inputs.float())\n",
        "#     loss = mse(preds, targets)\n",
        "#     loss.backward()\n",
        "#     with torch.no_grad():\n",
        "#         w -= w.grad * 1e-5\n",
        "#         b -= b.grad * 1e-5\n",
        "#         w.grad.zero_()\n",
        "#         b.grad.zero_()"
      ],
      "execution_count": 0,
      "outputs": []
    },
    {
      "cell_type": "code",
      "metadata": {
        "id": "iaJHgRCpWMmf",
        "colab_type": "code",
        "colab": {}
      },
      "source": [
        "# preds = model(inputs.float())\n",
        "# loss = mse(preds, targets)\n",
        "# print(loss)"
      ],
      "execution_count": 0,
      "outputs": []
    },
    {
      "cell_type": "code",
      "metadata": {
        "id": "mxOJr8d4WR1B",
        "colab_type": "code",
        "colab": {}
      },
      "source": [
        "# preds\n"
      ],
      "execution_count": 0,
      "outputs": []
    },
    {
      "cell_type": "code",
      "metadata": {
        "id": "oQfAJMGCXa4_",
        "colab_type": "code",
        "colab": {}
      },
      "source": [
        "# targets"
      ],
      "execution_count": 0,
      "outputs": []
    },
    {
      "cell_type": "markdown",
      "metadata": {
        "id": "TOUTWx6XYGCP",
        "colab_type": "text"
      },
      "source": [
        "## Thinking In Tensors_2 ( Train Real Data )  **ماعدا العاق عمر محمد **"
      ]
    },
    {
      "cell_type": "code",
      "metadata": {
        "id": "hxyrXZWnYKHn",
        "colab_type": "code",
        "colab": {}
      },
      "source": [
        "import torch\n",
        "import torch.nn as nn\n"
      ],
      "execution_count": 0,
      "outputs": []
    },
    {
      "cell_type": "code",
      "metadata": {
        "id": "4zADeKudoRgC",
        "colab_type": "code",
        "colab": {}
      },
      "source": [
        "inputs_1 = torch.from_numpy(X_1)\n",
        "targets_1 = torch.from_numpy(Y_1)\n"
      ],
      "execution_count": 0,
      "outputs": []
    },
    {
      "cell_type": "code",
      "metadata": {
        "id": "UP-3J3ayZ6Ah",
        "colab_type": "code",
        "colab": {}
      },
      "source": [
        "from torch.utils.data import TensorDataset, DataLoader\n",
        "from torch.utils.data.dataset import random_split\n"
      ],
      "execution_count": 0,
      "outputs": []
    },
    {
      "cell_type": "code",
      "metadata": {
        "id": "gLBPSA0Obpq7",
        "colab_type": "code",
        "colab": {}
      },
      "source": [
        "train_ds = TensorDataset(inputs_1.float(), targets_1.float())\n"
      ],
      "execution_count": 0,
      "outputs": []
    },
    {
      "cell_type": "code",
      "metadata": {
        "id": "dS5sUEV9bx4Z",
        "colab_type": "code",
        "outputId": "e61e7d38-208a-43b0-f09d-3857d0457eae",
        "colab": {
          "base_uri": "https://localhost:8080/",
          "height": 107
        }
      },
      "source": [
        "train_ds[0:3]\n"
      ],
      "execution_count": 0,
      "outputs": [
        {
          "output_type": "execute_result",
          "data": {
            "text/plain": [
              "(tensor([[240.,   4.,   4.],\n",
              "         [120.,   7.,   5.],\n",
              "         [ 30.,   4.,   5.]]), tensor([[2.0400],\n",
              "         [3.2200],\n",
              "         [2.9200]]))"
            ]
          },
          "metadata": {
            "tags": []
          },
          "execution_count": 378
        }
      ]
    },
    {
      "cell_type": "code",
      "metadata": {
        "id": "P3LdTnMxHGuS",
        "colab_type": "code",
        "outputId": "aa6eb8fe-c019-4971-e281-6d3966a90fd0",
        "colab": {
          "base_uri": "https://localhost:8080/",
          "height": 1000
        }
      },
      "source": [
        "train_ds[0:]"
      ],
      "execution_count": 0,
      "outputs": [
        {
          "output_type": "execute_result",
          "data": {
            "text/plain": [
              "(tensor([[240.0000,   4.0000,   4.0000],\n",
              "         [120.0000,   7.0000,   5.0000],\n",
              "         [ 30.0000,   4.0000,   5.0000],\n",
              "         [ 60.0000,   5.0000,   4.0000],\n",
              "         [140.0000,   4.0000,   4.0000],\n",
              "         [ 70.0000,   6.0000,   5.0000],\n",
              "         [  5.0000,   5.0000,   5.0000],\n",
              "         [210.0000,   7.0000,   3.0000],\n",
              "         [200.0000,   4.0000,   1.0000],\n",
              "         [ 60.0000,   4.0000,   2.0000],\n",
              "         [ 95.0000,   6.0000,   3.0000],\n",
              "         [210.0000,   8.0000,   1.0000],\n",
              "         [180.0000,   6.0000,   5.0000],\n",
              "         [  5.0000,   4.0000,   3.0000],\n",
              "         [ 85.0000,   4.0000,   4.0000],\n",
              "         [190.0000,   4.0000,   4.0000],\n",
              "         [180.0000,   7.0000,   5.0000],\n",
              "         [ 60.0000,   7.0000,   4.0000],\n",
              "         [ 15.0000,   8.0000,   5.0000],\n",
              "         [120.0000,   4.0000,   4.0000],\n",
              "         [ 80.0000,   4.8000,   5.0000],\n",
              "         [120.0000,   3.0000,   4.0000],\n",
              "         [ 90.0000,   7.0000,   5.0000],\n",
              "         [210.0000,   6.0000,   5.0000],\n",
              "         [ 50.0000,   8.0000,   3.0000],\n",
              "         [ 60.0000,   8.0000,   5.0000],\n",
              "         [300.0000,   8.0000,   4.0000],\n",
              "         [150.0000,   6.0000,   5.0000],\n",
              "         [ 70.0000,   4.0000,   4.0000],\n",
              "         [180.0000,   8.0000,   4.0000],\n",
              "         [180.0000,   6.0000,   3.0000],\n",
              "         [ 10.0000,   5.0000,   6.0000],\n",
              "         [ 90.0000,   6.5000,   4.0000],\n",
              "         [300.0000,   5.0000,   5.0000],\n",
              "         [ 55.0000,   6.0000,   5.0000],\n",
              "         [180.0000,   6.0000,   4.0000],\n",
              "         [120.0000,   6.0000,   5.0000],\n",
              "         [220.0000,   6.0000,   4.0000],\n",
              "         [ 10.0000,   5.0000,   4.0000],\n",
              "         [110.0000,   8.0000,   2.0000],\n",
              "         [125.0000,   6.0000,   5.0000],\n",
              "         [ 90.0000,   6.0000,   3.0000],\n",
              "         [260.0000,   6.0000,   4.0000],\n",
              "         [  5.0000,   9.0000,   2.0000],\n",
              "         [ 60.0000,   5.0000,   4.0000],\n",
              "         [240.0000,  10.0000,   4.0000],\n",
              "         [120.0000,   8.0000,   5.0000],\n",
              "         [  5.0000,   9.0000,   5.0000],\n",
              "         [125.0000,   6.0000,   5.0000],\n",
              "         [ 90.0000,   5.0000,   3.4000],\n",
              "         [270.0000,   6.0000,   4.0000],\n",
              "         [ 80.0000,   4.0000,   3.0000],\n",
              "         [100.0000,   5.0000,   4.0000],\n",
              "         [120.0000,   6.0000,   5.0000],\n",
              "         [ 70.0000,   6.0000,   4.0000],\n",
              "         [370.0000,   8.0000,   4.0000],\n",
              "         [120.0000,   6.0000,   5.0000],\n",
              "         [180.0000,   6.0000,   5.0000],\n",
              "         [300.0000,   6.0000,   4.0000],\n",
              "         [120.0000,  12.0000,   3.0000],\n",
              "         [ 70.0000,   6.0000,   4.0000],\n",
              "         [240.0000,   6.0000,   4.0000],\n",
              "         [ 10.0000,   6.0000,   4.0000],\n",
              "         [ 30.0000,   7.0000,   4.0000],\n",
              "         [  5.0000,  10.0000,   4.0000],\n",
              "         [  5.0000,   5.0000,   3.0000],\n",
              "         [ 90.0000,   8.0000,   4.0000],\n",
              "         [180.0000,  10.0000,   4.0000],\n",
              "         [225.0000,   7.0000,   3.0000],\n",
              "         [ 60.0000,   5.5000,   5.0000],\n",
              "         [300.0000,   6.0000,   4.0000],\n",
              "         [ 45.0000,   5.0000,   4.0000],\n",
              "         [480.0000,   8.0000,   2.0000],\n",
              "         [ 87.0000,   4.0000,   2.0000],\n",
              "         [240.0000,   6.0000,   4.0000],\n",
              "         [120.0000,   6.0000,   4.0000],\n",
              "         [100.0000,   5.0000,   5.0000],\n",
              "         [180.0000,   6.0000,   4.0000],\n",
              "         [180.0000,   5.0000,   3.0000],\n",
              "         [140.0000,   7.0000,   3.0000],\n",
              "         [170.0000,   4.0000,   5.0000],\n",
              "         [165.0000,   7.0000,   5.0000],\n",
              "         [120.0000,   7.0000,   5.0000],\n",
              "         [150.0000,   4.0000,   5.0000],\n",
              "         [ 60.0000,   6.0000,   5.0000],\n",
              "         [180.0000,   8.0000,   4.0000],\n",
              "         [ 50.0000,   7.0000,   5.0000],\n",
              "         [ 60.0000,   5.0000,   4.0000],\n",
              "         [120.0000,   4.0000,   4.0000],\n",
              "         [120.0000,   4.0000,   5.0000],\n",
              "         [240.0000,   6.0000,   3.0000],\n",
              "         [120.0000,   6.0000,   4.0000],\n",
              "         [170.0000,   4.0000,   3.0000],\n",
              "         [ 80.0000,   4.0000,   4.0000],\n",
              "         [235.0000,   6.5000,   4.0000],\n",
              "         [  5.0000,   4.0000,   3.0000],\n",
              "         [ 30.0000,   8.0000,   5.0000],\n",
              "         [130.0000,   4.0000,   5.0000],\n",
              "         [ 90.0000,   2.0000,   4.0000],\n",
              "         [ 60.0000,   4.0000,   3.0000],\n",
              "         [  5.0000,   6.0000,   4.0000],\n",
              "         [300.0000,   4.0000,   4.0000],\n",
              "         [180.0000,   5.0000,   4.0000],\n",
              "         [180.0000,   6.0000,   5.0000],\n",
              "         [200.0000,   8.0000,   4.0000],\n",
              "         [180.0000,   5.0000,   3.0000],\n",
              "         [120.0000,   7.0000,   4.0000],\n",
              "         [240.0000,  12.0000,   5.0000],\n",
              "         [250.0000,   6.0000,   5.0000],\n",
              "         [120.0000,   6.0000,   5.0000],\n",
              "         [180.0000,   4.0000,   5.0000],\n",
              "         [ 60.0000,   6.0000,   5.0000],\n",
              "         [120.0000,   6.0000,   5.0000],\n",
              "         [ 15.0000,  10.0000,   5.0000],\n",
              "         [  5.0000,  10.0000,   4.0000],\n",
              "         [120.0000,   6.0000,   5.0000],\n",
              "         [ 40.0000,   3.5000,   4.0000],\n",
              "         [240.0000,   6.0000,   4.0000],\n",
              "         [100.0000,   4.0000,   2.0000],\n",
              "         [  5.0000,   4.0000,   5.0000],\n",
              "         [ 90.0000,   8.0000,   5.0000],\n",
              "         [240.0000,   6.0000,   4.0000],\n",
              "         [120.0000,   6.0000,   5.0000],\n",
              "         [ 90.0000,  10.0000,   5.0000],\n",
              "         [ 60.0000,   6.0000,   3.0000],\n",
              "         [170.0000,   5.0000,   5.0000],\n",
              "         [120.0000,   4.0000,   4.0000],\n",
              "         [280.0000,   7.0000,   4.0000],\n",
              "         [  6.0000,  10.0000,   4.0000],\n",
              "         [100.0000,   8.0000,   4.0000],\n",
              "         [180.0000,   6.0000,   5.0000],\n",
              "         [120.0000,   6.0000,   4.0000],\n",
              "         [120.0000,   4.0000,   5.0000],\n",
              "         [190.0000,   6.0000,   4.0000],\n",
              "         [240.0000,  10.0000,   5.0000],\n",
              "         [120.0000,   6.0000,   5.0000],\n",
              "         [  5.0000,  10.0000,   4.0000],\n",
              "         [ 90.0000,   4.0000,   4.0000],\n",
              "         [150.0000,   8.0000,   4.0000],\n",
              "         [270.0000,   5.0000,   4.0000],\n",
              "         [150.0000,   6.0000,   5.0000],\n",
              "         [ 60.0000,   6.0000,   5.0000],\n",
              "         [120.0000,  10.0000,   3.0000],\n",
              "         [ 90.0000,   6.0000,   2.0000],\n",
              "         [240.0000,  10.0000,   5.0000],\n",
              "         [ 75.0000,   5.6000,   4.0000],\n",
              "         [ 90.0000,   6.0000,   4.0000],\n",
              "         [240.0000,   6.0000,   4.0000],\n",
              "         [120.0000,   6.0000,   4.0000],\n",
              "         [225.0000,   4.0000,   4.0000],\n",
              "         [ 90.0000,   6.0000,   5.0000],\n",
              "         [  5.0000,   6.0000,   4.0000],\n",
              "         [120.0000,   8.0000,   5.0000],\n",
              "         [300.0000,   5.0000,   4.0000],\n",
              "         [150.0000,   5.0000,   3.0000],\n",
              "         [120.0000,   6.0000,   4.0000],\n",
              "         [120.0000,   9.0000,   4.0000],\n",
              "         [230.0000,   6.0000,   4.0000],\n",
              "         [ 50.0000,   6.0000,   5.0000],\n",
              "         [120.0000,   8.0000,   4.0000],\n",
              "         [200.0000,   5.0000,   2.0000],\n",
              "         [ 75.0000,   6.0000,   3.0000],\n",
              "         [240.0000,   6.0000,   4.0000],\n",
              "         [240.0000,   4.0000,   5.0000],\n",
              "         [180.0000,   5.0000,   5.0000],\n",
              "         [ 90.0000,   5.0000,   5.0000],\n",
              "         [240.0000,   5.0000,   5.0000],\n",
              "         [240.0000,   8.0000,   4.0000],\n",
              "         [105.0000,   3.0000,   5.0000],\n",
              "         [150.0000,   8.0000,   2.0000],\n",
              "         [150.0000,   8.0000,   4.0000],\n",
              "         [100.0000,   6.0000,   5.0000],\n",
              "         [100.0000,   6.0000,   7.0000],\n",
              "         [120.0000,   4.0000,   4.0000],\n",
              "         [240.0000,   6.5000,   5.0000],\n",
              "         [ 60.0000,   6.0000,   5.0000],\n",
              "         [120.0000,   2.0000,   5.0000],\n",
              "         [150.0000,   6.0000,   4.0000],\n",
              "         [130.0000,   4.0000,   4.0000],\n",
              "         [ 85.0000,   6.0000,   4.0000],\n",
              "         [ 60.0000,   8.0000,   4.0000],\n",
              "         [ 80.0000,   4.0000,   5.0000],\n",
              "         [  5.0000,   6.0000,   3.0000],\n",
              "         [210.0000,   6.0000,   5.0000],\n",
              "         [120.0000,   4.0000,   5.0000],\n",
              "         [150.0000,   8.0000,   3.0000],\n",
              "         [320.0000,   5.0000,   5.0000],\n",
              "         [  5.0000,   8.0000,   6.0000],\n",
              "         [ 90.0000,   6.0000,   5.0000],\n",
              "         [ 60.0000,   8.0000,   4.0000],\n",
              "         [160.0000,   8.0000,   5.0000],\n",
              "         [200.0000,   4.0000,   4.0000],\n",
              "         [120.0000,   5.0000,   5.0000],\n",
              "         [300.0000,   6.0000,   5.0000],\n",
              "         [ 90.0000,   4.0000,   5.0000],\n",
              "         [320.0000,   8.0000,   4.0000],\n",
              "         [ 30.0000,   4.0000,   5.0000],\n",
              "         [240.0000,   8.0000,   4.0000],\n",
              "         [105.0000,   5.0000,   4.0000],\n",
              "         [105.0000,   7.0000,   4.0000],\n",
              "         [ 50.0000,   6.0000,   4.0000],\n",
              "         [ 20.0000,   6.0000,   5.0000],\n",
              "         [  6.0000,  10.0000,   2.0000],\n",
              "         [ 40.0000,   4.0000,   3.0000],\n",
              "         [ 75.0000,   3.0000,   1.0000],\n",
              "         [ 40.0000,   5.0000,   3.0000],\n",
              "         [240.0000,   4.0000,   5.0000],\n",
              "         [ 90.0000,   4.0000,   4.0000],\n",
              "         [360.0000,   6.0000,   4.0000],\n",
              "         [120.0000,   6.0000,   3.0000],\n",
              "         [ 90.0000,   6.0000,   6.0000],\n",
              "         [120.0000,   5.0000,   5.0000],\n",
              "         [120.0000,   6.0000,   4.0000],\n",
              "         [180.0000,   2.0000,   2.0000],\n",
              "         [210.0000,   6.0000,   5.0000],\n",
              "         [120.0000,   4.0000,   4.0000],\n",
              "         [240.0000,   8.0000,   4.0000],\n",
              "         [ 20.0000,   2.0000,   2.0000],\n",
              "         [ 50.0000,   4.0000,   3.0000],\n",
              "         [200.0000,   7.0000,   4.0000],\n",
              "         [180.0000,   9.0000,   5.0000],\n",
              "         [200.0000,   3.0000,   3.0000],\n",
              "         [160.0000,   5.0000,   4.0000],\n",
              "         [180.0000,   6.0000,   4.0000],\n",
              "         [150.0000,   6.0000,   4.0000],\n",
              "         [ 40.0000,   7.0000,   4.0000],\n",
              "         [240.0000,   6.0000,   4.0000],\n",
              "         [300.0000,  10.0000,   5.0000],\n",
              "         [250.0000,   7.0000,   4.0000],\n",
              "         [105.0000,   4.4000,   5.0000],\n",
              "         [100.0000,   4.0000,   4.0000],\n",
              "         [100.0000,   4.0000,   4.0000],\n",
              "         [180.0000,   6.0000,   5.0000],\n",
              "         [270.0000,   5.0000,   5.0000],\n",
              "         [  5.0000,   7.0000,   4.0000],\n",
              "         [  5.0000,   4.0000,   3.0000],\n",
              "         [240.0000,   8.0000,   4.0000],\n",
              "         [120.0000,   4.0000,   5.0000],\n",
              "         [120.0000,   4.0000,   4.0000],\n",
              "         [ 45.0000,   3.0000,   1.0000],\n",
              "         [ 35.0000,   4.0000,   2.0000],\n",
              "         [200.0000,   6.0000,   4.0000]]), tensor([[2.0400],\n",
              "         [3.2200],\n",
              "         [2.9200],\n",
              "         [3.5000],\n",
              "         [2.8600],\n",
              "         [3.1800],\n",
              "         [3.0000],\n",
              "         [2.5400],\n",
              "         [3.8000],\n",
              "         [2.6000],\n",
              "         [2.4000],\n",
              "         [2.4000],\n",
              "         [2.0000],\n",
              "         [3.6100],\n",
              "         [2.5000],\n",
              "         [3.1000],\n",
              "         [2.7300],\n",
              "         [3.0700],\n",
              "         [2.7000],\n",
              "         [2.8000],\n",
              "         [3.1200],\n",
              "         [3.2700],\n",
              "         [3.1000],\n",
              "         [2.7500],\n",
              "         [3.0400],\n",
              "         [2.8500],\n",
              "         [3.4513],\n",
              "         [3.0400],\n",
              "         [2.6700],\n",
              "         [3.3000],\n",
              "         [2.2500],\n",
              "         [3.3500],\n",
              "         [2.6000],\n",
              "         [3.1900],\n",
              "         [3.5300],\n",
              "         [2.7000],\n",
              "         [2.7000],\n",
              "         [2.7600],\n",
              "         [2.9000],\n",
              "         [3.2000],\n",
              "         [2.4000],\n",
              "         [3.0000],\n",
              "         [3.1000],\n",
              "         [2.5600],\n",
              "         [2.5000],\n",
              "         [2.8500],\n",
              "         [2.3000],\n",
              "         [2.8000],\n",
              "         [2.5500],\n",
              "         [3.0900],\n",
              "         [2.6000],\n",
              "         [2.6000],\n",
              "         [2.3400],\n",
              "         [3.0600],\n",
              "         [3.4200],\n",
              "         [3.0000],\n",
              "         [2.8000],\n",
              "         [3.0000],\n",
              "         [3.1000],\n",
              "         [2.7200],\n",
              "         [3.1400],\n",
              "         [2.6300],\n",
              "         [3.0900],\n",
              "         [2.9400],\n",
              "         [2.8000],\n",
              "         [2.8000],\n",
              "         [2.6000],\n",
              "         [2.8000],\n",
              "         [2.6200],\n",
              "         [3.2900],\n",
              "         [3.3500],\n",
              "         [2.3800],\n",
              "         [2.5000],\n",
              "         [2.5700],\n",
              "         [2.5000],\n",
              "         [3.3000],\n",
              "         [2.4000],\n",
              "         [2.5500],\n",
              "         [3.2400],\n",
              "         [3.0000],\n",
              "         [2.4900],\n",
              "         [2.8600],\n",
              "         [2.0600],\n",
              "         [2.2000],\n",
              "         [2.7700],\n",
              "         [1.0900],\n",
              "         [2.4400],\n",
              "         [2.3500],\n",
              "         [2.5100],\n",
              "         [2.7500],\n",
              "         [2.8000],\n",
              "         [2.9600],\n",
              "         [2.8000],\n",
              "         [3.3900],\n",
              "         [2.2800],\n",
              "         [3.0600],\n",
              "         [2.6200],\n",
              "         [2.6600],\n",
              "         [3.0300],\n",
              "         [3.1000],\n",
              "         [2.6900],\n",
              "         [2.5300],\n",
              "         [2.5000],\n",
              "         [3.4700],\n",
              "         [2.5600],\n",
              "         [2.7000],\n",
              "         [2.8000],\n",
              "         [2.2900],\n",
              "         [3.2700],\n",
              "         [2.6800],\n",
              "         [3.4500],\n",
              "         [3.3000],\n",
              "         [2.8800],\n",
              "         [3.0000],\n",
              "         [3.0000],\n",
              "         [2.8000],\n",
              "         [3.6600],\n",
              "         [3.1200],\n",
              "         [2.6000],\n",
              "         [2.8500],\n",
              "         [2.9000],\n",
              "         [3.0000],\n",
              "         [2.7000],\n",
              "         [2.8500],\n",
              "         [2.4200],\n",
              "         [2.5500],\n",
              "         [2.5900],\n",
              "         [2.4800],\n",
              "         [2.9000],\n",
              "         [2.8200],\n",
              "         [3.0000],\n",
              "         [2.7000],\n",
              "         [2.5400],\n",
              "         [2.8000],\n",
              "         [2.9000],\n",
              "         [3.1400],\n",
              "         [2.4000],\n",
              "         [2.9700],\n",
              "         [2.6000],\n",
              "         [2.5700],\n",
              "         [2.8000],\n",
              "         [2.6700],\n",
              "         [2.6600],\n",
              "         [2.6800],\n",
              "         [3.7400],\n",
              "         [2.8800],\n",
              "         [2.3000],\n",
              "         [3.1800],\n",
              "         [3.5000],\n",
              "         [3.9300],\n",
              "         [3.1600],\n",
              "         [2.5000],\n",
              "         [2.9400],\n",
              "         [2.2300],\n",
              "         [2.6900],\n",
              "         [2.6000],\n",
              "         [2.8500],\n",
              "         [2.2300],\n",
              "         [2.9000],\n",
              "         [2.3300],\n",
              "         [2.7000],\n",
              "         [3.1800],\n",
              "         [3.6000],\n",
              "         [2.0400],\n",
              "         [2.6000],\n",
              "         [2.8500],\n",
              "         [3.2000],\n",
              "         [2.9000],\n",
              "         [3.0000],\n",
              "         [2.9000],\n",
              "         [2.9000],\n",
              "         [3.4000],\n",
              "         [2.4100],\n",
              "         [2.5000],\n",
              "         [3.3100],\n",
              "         [2.6800],\n",
              "         [2.8000],\n",
              "         [3.2000],\n",
              "         [3.4300],\n",
              "         [2.6600],\n",
              "         [2.8900],\n",
              "         [2.9000],\n",
              "         [2.0300],\n",
              "         [2.5000],\n",
              "         [3.1000],\n",
              "         [2.9000],\n",
              "         [2.8000],\n",
              "         [2.0500],\n",
              "         [2.8300],\n",
              "         [2.9000],\n",
              "         [2.4500],\n",
              "         [2.5000],\n",
              "         [3.0600],\n",
              "         [2.4000],\n",
              "         [1.8800],\n",
              "         [3.3800],\n",
              "         [3.4800],\n",
              "         [2.7100],\n",
              "         [2.6000],\n",
              "         [2.5000],\n",
              "         [2.2300],\n",
              "         [3.1000],\n",
              "         [2.8500],\n",
              "         [3.1500],\n",
              "         [2.9300],\n",
              "         [2.8300],\n",
              "         [3.2000],\n",
              "         [2.8000],\n",
              "         [3.0100],\n",
              "         [2.6000],\n",
              "         [2.8000],\n",
              "         [2.0700],\n",
              "         [3.1000],\n",
              "         [2.6100],\n",
              "         [3.1900],\n",
              "         [3.1000],\n",
              "         [2.5500],\n",
              "         [2.8000],\n",
              "         [2.9000],\n",
              "         [2.8800],\n",
              "         [3.4000],\n",
              "         [2.9000],\n",
              "         [3.1200],\n",
              "         [3.4600],\n",
              "         [3.5000],\n",
              "         [2.9800],\n",
              "         [3.1400],\n",
              "         [2.1900],\n",
              "         [2.8000],\n",
              "         [2.1900],\n",
              "         [2.2000],\n",
              "         [2.9100],\n",
              "         [3.7000],\n",
              "         [3.1900],\n",
              "         [2.0000],\n",
              "         [1.7000],\n",
              "         [3.6000],\n",
              "         [3.0300],\n",
              "         [2.6800],\n",
              "         [2.5000],\n",
              "         [2.6500],\n",
              "         [3.3000]]))"
            ]
          },
          "metadata": {
            "tags": []
          },
          "execution_count": 379
        }
      ]
    },
    {
      "cell_type": "code",
      "metadata": {
        "id": "-OyHYWBqJkid",
        "colab_type": "code",
        "outputId": "5149c01a-6c87-4ce2-f0fd-89e708ab36dd",
        "colab": {
          "base_uri": "https://localhost:8080/",
          "height": 35
        }
      },
      "source": [
        "len(train_ds)"
      ],
      "execution_count": 0,
      "outputs": [
        {
          "output_type": "execute_result",
          "data": {
            "text/plain": [
              "242"
            ]
          },
          "metadata": {
            "tags": []
          },
          "execution_count": 380
        }
      ]
    },
    {
      "cell_type": "code",
      "metadata": {
        "id": "PwCHRrB0JXTy",
        "colab_type": "code",
        "colab": {}
      },
      "source": [
        "# def random_split_1(dataset, lengths):\n",
        "#     \"\"\"\n",
        "#     Randomly split a dataset into non-overlapping new datasets of given lengths.\n",
        "#     Arguments:\n",
        "#         dataset (Dataset): Dataset to be split\n",
        "#         lengths (sequence): lengths of splits to be produced\n",
        "#     \"\"\"\n",
        "#     if sum(lengths) != len(dataset):\n",
        "#         raise ValueError(\"Sum of input lengths does not equal the length of the input dataset!\")\n",
        "\n",
        "#     indices = randperm(sum(lengths)).tolist()\n",
        "#     return [Subset(dataset, indices[offset - length:offset]) for offset, length in zip(_accumulate(lengths), lengths)]"
      ],
      "execution_count": 0,
      "outputs": []
    },
    {
      "cell_type": "code",
      "metadata": {
        "id": "rrINc6gHGFgA",
        "colab_type": "code",
        "colab": {}
      },
      "source": [
        "train_dataset, val_dataset = random_split(train_ds, [230,12])"
      ],
      "execution_count": 0,
      "outputs": []
    },
    {
      "cell_type": "code",
      "metadata": {
        "id": "qTmOJzl_J2xg",
        "colab_type": "code",
        "colab": {}
      },
      "source": [
        "train_dl = DataLoader(dataset=train_dataset, batch_size=4)\n",
        "val_loader = DataLoader(dataset=val_dataset, batch_size=3)"
      ],
      "execution_count": 0,
      "outputs": []
    },
    {
      "cell_type": "code",
      "metadata": {
        "id": "VGJv70lNb1vP",
        "colab_type": "code",
        "colab": {}
      },
      "source": [
        "# batch_size = 3\n",
        "# train_dl = DataLoader(train_ds, batch_size, shuffle=True)\n",
        "# next(iter(train_dl))"
      ],
      "execution_count": 0,
      "outputs": []
    },
    {
      "cell_type": "code",
      "metadata": {
        "id": "UhZrieP6b9nV",
        "colab_type": "code",
        "colab": {}
      },
      "source": [
        "model_1 = nn.Linear(3, 1)\n"
      ],
      "execution_count": 0,
      "outputs": []
    },
    {
      "cell_type": "code",
      "metadata": {
        "id": "qp6VDpcScHqC",
        "colab_type": "code",
        "outputId": "1eaa598a-4775-456e-cf97-61b2a2c6d1a5",
        "colab": {
          "base_uri": "https://localhost:8080/",
          "height": 89
        }
      },
      "source": [
        "print(model_1.weight)\n",
        "print(model_1.bias)"
      ],
      "execution_count": 0,
      "outputs": [
        {
          "output_type": "stream",
          "text": [
            "Parameter containing:\n",
            "tensor([[-0.0800,  0.0095,  0.2718]], requires_grad=True)\n",
            "Parameter containing:\n",
            "tensor([0.4425], requires_grad=True)\n"
          ],
          "name": "stdout"
        }
      ]
    },
    {
      "cell_type": "code",
      "metadata": {
        "id": "LIaTV2PGcIV2",
        "colab_type": "code",
        "colab": {}
      },
      "source": [
        "opt = torch.optim.SGD(model_1.parameters(), lr=1e-5)\n"
      ],
      "execution_count": 0,
      "outputs": []
    },
    {
      "cell_type": "code",
      "metadata": {
        "id": "5IfyL7-FcTpZ",
        "colab_type": "code",
        "colab": {}
      },
      "source": [
        "import torch.nn.functional as F\n"
      ],
      "execution_count": 0,
      "outputs": []
    },
    {
      "cell_type": "code",
      "metadata": {
        "id": "Kr5MpjS1cefM",
        "colab_type": "code",
        "colab": {}
      },
      "source": [
        "loss_fn = F.mse_loss\n"
      ],
      "execution_count": 0,
      "outputs": []
    },
    {
      "cell_type": "code",
      "metadata": {
        "id": "LuuajHf7ch8H",
        "colab_type": "code",
        "outputId": "d69b3fad-07fd-4020-c5a4-68154867e8c4",
        "colab": {
          "base_uri": "https://localhost:8080/",
          "height": 35
        }
      },
      "source": [
        "loss = loss_fn(model_1(inputs_1.float()), targets_1.float())\n",
        "print(loss)"
      ],
      "execution_count": 0,
      "outputs": [
        {
          "output_type": "stream",
          "text": [
            "tensor(188.7138, grad_fn=<MseLossBackward>)\n"
          ],
          "name": "stdout"
        }
      ]
    },
    {
      "cell_type": "code",
      "metadata": {
        "id": "rrFIxKxhLjG-",
        "colab_type": "code",
        "colab": {}
      },
      "source": [
        "val_losses = []\n"
      ],
      "execution_count": 0,
      "outputs": []
    },
    {
      "cell_type": "code",
      "metadata": {
        "id": "eSGcmExIRfKg",
        "colab_type": "code",
        "outputId": "5b964113-e2b0-43c1-a10d-22bb64eb78b6",
        "colab": {
          "base_uri": "https://localhost:8080/",
          "height": 35
        }
      },
      "source": [
        "\n",
        "len(val_losses)"
      ],
      "execution_count": 0,
      "outputs": [
        {
          "output_type": "execute_result",
          "data": {
            "text/plain": [
              "0"
            ]
          },
          "metadata": {
            "tags": []
          },
          "execution_count": 392
        }
      ]
    },
    {
      "cell_type": "code",
      "metadata": {
        "id": "XD8n0wobcnLp",
        "colab_type": "code",
        "colab": {}
      },
      "source": [
        "def fit_1(num_epochs, model, loss_fn, opt):\n",
        "    for epoch in range(num_epochs):\n",
        "        for xb,yb in train_dl:\n",
        "            # Generate predictions\n",
        "            pred = model(xb)\n",
        "            loss = loss_fn(pred, yb)\n",
        "            # Perform gradient descent\n",
        "            loss.backward()\n",
        "            opt.step()\n",
        "            opt.zero_grad()\n",
        "        with torch.no_grad():\n",
        "         for x_val, y_val in val_loader:\n",
        "            # x_val = x_val.to(device)\n",
        "            # y_val = y_val.to(device)\n",
        "            \n",
        "            model.eval()\n",
        "\n",
        "            yhat = model(x_val)\n",
        "            val_loss = loss_fn(y_val, yhat)\n",
        "            val_losses.append(val_loss.item())\n",
        "\n",
        "    print('Training loss: ', loss_fn(model(inputs_1.float()), targets_1.float()))\n"
      ],
      "execution_count": 0,
      "outputs": []
    },
    {
      "cell_type": "code",
      "metadata": {
        "id": "llZTint7dCyu",
        "colab_type": "code",
        "outputId": "54205e66-3c26-4618-9b56-07e4f569b73d",
        "colab": {
          "base_uri": "https://localhost:8080/",
          "height": 35
        }
      },
      "source": [
        "fit_1(300, model_1, loss_fn, opt)\n"
      ],
      "execution_count": 0,
      "outputs": [
        {
          "output_type": "stream",
          "text": [
            "Training loss:  tensor(0.3468, grad_fn=<MseLossBackward>)\n"
          ],
          "name": "stdout"
        }
      ]
    },
    {
      "cell_type": "code",
      "metadata": {
        "id": "Yu1I8kRVdF6G",
        "colab_type": "code",
        "colab": {}
      },
      "source": [
        "preds_1 = model_1(inputs_1.float())\n",
        "#preds.shape\n",
        "#bo = np.array([[60.,  6.,  5.]]) # trying to insert valdiation test\n",
        "#bingo = torch.from_numpy(bo) # converting it to tensors to be able to insert it in model\n",
        "#preds_1 = model_1(bingo.float())\n"
      ],
      "execution_count": 0,
      "outputs": []
    },
    {
      "cell_type": "code",
      "metadata": {
        "id": "P_jhkqfYXZYD",
        "colab_type": "code",
        "colab": {}
      },
      "source": [
        "#val_dataset[0]"
      ],
      "execution_count": 0,
      "outputs": []
    },
    {
      "cell_type": "code",
      "metadata": {
        "id": "7s_Lvb6mXOkH",
        "colab_type": "code",
        "colab": {}
      },
      "source": [
        ""
      ],
      "execution_count": 0,
      "outputs": []
    },
    {
      "cell_type": "code",
      "metadata": {
        "id": "PKdA7TYHX0Qn",
        "colab_type": "code",
        "outputId": "8d315557-83d9-4825-e049-1262bd46e04e",
        "colab": {
          "base_uri": "https://localhost:8080/",
          "height": 269
        }
      },
      "source": [
        "data.head"
      ],
      "execution_count": 0,
      "outputs": [
        {
          "output_type": "execute_result",
          "data": {
            "text/plain": [
              "<bound method NDFrame.head of       GPA  Per_min_OnRoad  Per_hours_At_College  Per_days_attendance\n",
              "0    2.04             240                   4.0                  4.0\n",
              "1    3.22             120                   7.0                  5.0\n",
              "2    2.92              30                   4.0                  5.0\n",
              "3    3.50              60                   5.0                  4.0\n",
              "4    2.86             140                   4.0                  4.0\n",
              "..    ...             ...                   ...                  ...\n",
              "237  3.03             120                   4.0                  5.0\n",
              "238  2.68             120                   4.0                  4.0\n",
              "239  2.50              45                   3.0                  1.0\n",
              "240  2.65              35                   4.0                  2.0\n",
              "241  3.30             200                   6.0                  4.0\n",
              "\n",
              "[242 rows x 4 columns]>"
            ]
          },
          "metadata": {
            "tags": []
          },
          "execution_count": 407
        }
      ]
    },
    {
      "cell_type": "code",
      "metadata": {
        "id": "yyhcOPniW0xf",
        "colab_type": "code",
        "outputId": "f612163a-7745-4bef-9ef3-a39fc1ed5f22",
        "colab": {
          "base_uri": "https://localhost:8080/",
          "height": 387
        }
      },
      "source": [
        "sb.lmplot(x=\"Per_days_attendance\", y=\"GPA\", data=data)"
      ],
      "execution_count": 0,
      "outputs": [
        {
          "output_type": "execute_result",
          "data": {
            "text/plain": [
              "<seaborn.axisgrid.FacetGrid at 0x7f202fe255f8>"
            ]
          },
          "metadata": {
            "tags": []
          },
          "execution_count": 408
        },
        {
          "output_type": "display_data",
          "data": {
            "image/png": "[encoded data removed]",
            "text/plain": [
              "<Figure size 360x360 with 1 Axes>"
            ]
          },
          "metadata": {
            "tags": []
          }
        }
      ]
    },
    {
      "cell_type": "code",
      "metadata": {
        "id": "xkDzQLm-N80K",
        "colab_type": "code",
        "outputId": "977a2b81-3d0a-4a17-a615-1c4a7710b266",
        "colab": {
          "base_uri": "https://localhost:8080/",
          "height": 1000
        }
      },
      "source": [
        "preds_1"
      ],
      "execution_count": 0,
      "outputs": [
        {
          "output_type": "execute_result",
          "data": {
            "text/plain": [
              "tensor([[2.9023],\n",
              "        [3.2596],\n",
              "        [2.7236],\n",
              "        [2.5907],\n",
              "        [2.6688],\n",
              "        [3.0342],\n",
              "        [2.7738],\n",
              "        [2.8466],\n",
              "        [1.8743],\n",
              "        [1.8589],\n",
              "        [2.4695],\n",
              "        [2.3321],\n",
              "        [3.2911],\n",
              "        [2.0421],\n",
              "        [2.5404],\n",
              "        [2.7856],\n",
              "        [3.3997],\n",
              "        [2.8080],\n",
              "        [3.1231],\n",
              "        [2.6221],\n",
              "        [2.9272],\n",
              "        [2.5135],\n",
              "        [3.1896],\n",
              "        [3.3611],\n",
              "        [2.5817],\n",
              "        [3.2281],\n",
              "        [3.4770],\n",
              "        [3.2210],\n",
              "        [2.5054],\n",
              "        [3.1968],\n",
              "        [2.6679],\n",
              "        [3.0971],\n",
              "        [2.8237],\n",
              "        [3.4626],\n",
              "        [2.9992],\n",
              "        [2.9795],\n",
              "        [3.1510],\n",
              "        [3.0729],\n",
              "        [2.4739],\n",
              "        [2.4102],\n",
              "        [3.1626],\n",
              "        [2.4578],\n",
              "        [3.1663],\n",
              "        [2.2737],\n",
              "        [2.5907],\n",
              "        [3.5541],\n",
              "        [3.3682],\n",
              "        [3.2084],\n",
              "        [3.1626],\n",
              "        [2.4738],\n",
              "        [3.1897],\n",
              "        [2.2172],\n",
              "        [2.6841],\n",
              "        [3.1510],\n",
              "        [2.7227],\n",
              "        [3.6404],\n",
              "        [3.1510],\n",
              "        [3.2911],\n",
              "        [3.2597],\n",
              "        [3.1797],\n",
              "        [2.7227],\n",
              "        [3.1196],\n",
              "        [2.5826],\n",
              "        [2.7379],\n",
              "        [3.0054],\n",
              "        [2.1507],\n",
              "        [2.9866],\n",
              "        [3.4140],\n",
              "        [2.8817],\n",
              "        [2.9566],\n",
              "        [3.2597],\n",
              "        [2.5557],\n",
              "        [3.2741],\n",
              "        [1.9220],\n",
              "        [3.1196],\n",
              "        [2.8394],\n",
              "        [2.9956],\n",
              "        [2.9795],\n",
              "        [2.5593],\n",
              "        [2.6832],\n",
              "        [3.0505],\n",
              "        [3.3647],\n",
              "        [3.2596],\n",
              "        [3.0038],\n",
              "        [3.0109],\n",
              "        [3.1968],\n",
              "        [3.0962],\n",
              "        [2.5907],\n",
              "        [2.6221],\n",
              "        [2.9337],\n",
              "        [2.8080],\n",
              "        [2.8394],\n",
              "        [2.4273],\n",
              "        [2.5287],\n",
              "        [3.1622],\n",
              "        [2.0421],\n",
              "        [3.1581],\n",
              "        [2.9571],\n",
              "        [2.3348],\n",
              "        [2.1705],\n",
              "        [2.5709],\n",
              "        [3.0424],\n",
              "        [2.8709],\n",
              "        [3.2911],\n",
              "        [3.2435],\n",
              "        [2.5593],\n",
              "        [2.9480],\n",
              "        [4.0830],\n",
              "        [3.4545],\n",
              "        [3.1510],\n",
              "        [3.0738],\n",
              "        [3.0109],\n",
              "        [3.1510],\n",
              "        [3.3403],\n",
              "        [3.0054],\n",
              "        [3.1510],\n",
              "        [2.3810],\n",
              "        [3.1196],\n",
              "        [1.9523],\n",
              "        [2.6652],\n",
              "        [3.2982],\n",
              "        [3.1196],\n",
              "        [3.1510],\n",
              "        [3.5155],\n",
              "        [2.3878],\n",
              "        [3.1591],\n",
              "        [2.6221],\n",
              "        [3.3216],\n",
              "        [3.0078],\n",
              "        [3.0100],\n",
              "        [3.2911],\n",
              "        [2.8394],\n",
              "        [2.9337],\n",
              "        [3.0029],\n",
              "        [3.8657],\n",
              "        [3.1510],\n",
              "        [3.0054],\n",
              "        [2.5521],\n",
              "        [3.1267],\n",
              "        [3.0810],\n",
              "        [3.2210],\n",
              "        [3.0109],\n",
              "        [2.9624],\n",
              "        [2.1462],\n",
              "        [3.8657],\n",
              "        [2.6909],\n",
              "        [2.7694],\n",
              "        [3.1196],\n",
              "        [2.8394],\n",
              "        [2.8673],\n",
              "        [3.0809],\n",
              "        [2.5709],\n",
              "        [3.3682],\n",
              "        [3.1511],\n",
              "        [2.4893],\n",
              "        [2.8394],\n",
              "        [3.1653],\n",
              "        [3.0963],\n",
              "        [2.9875],\n",
              "        [3.0567],\n",
              "        [2.2945],\n",
              "        [2.4228],\n",
              "        [3.1196],\n",
              "        [3.2139],\n",
              "        [3.1824],\n",
              "        [2.9723],\n",
              "        [3.3225],\n",
              "        [3.3369],\n",
              "        [2.7900],\n",
              "        [2.5036],\n",
              "        [3.1267],\n",
              "        [3.1043],\n",
              "        [3.7274],\n",
              "        [2.6221],\n",
              "        [3.4855],\n",
              "        [3.0109],\n",
              "        [2.7164],\n",
              "        [2.9095],\n",
              "        [2.6455],\n",
              "        [2.7577],\n",
              "        [2.9166],\n",
              "        [2.8403],\n",
              "        [2.2593],\n",
              "        [3.3611],\n",
              "        [2.9337],\n",
              "        [2.8152],\n",
              "        [3.5093],\n",
              "        [3.4113],\n",
              "        [3.0809],\n",
              "        [2.9166],\n",
              "        [3.4616],\n",
              "        [2.8089],\n",
              "        [3.0423],\n",
              "        [3.5713],\n",
              "        [2.8637],\n",
              "        [3.5237],\n",
              "        [2.7236],\n",
              "        [3.3369],\n",
              "        [2.6958],\n",
              "        [2.9130],\n",
              "        [2.6760],\n",
              "        [2.9175],\n",
              "        [2.3846],\n",
              "        [2.1238],\n",
              "        [1.4738],\n",
              "        [2.2324],\n",
              "        [3.2139],\n",
              "        [2.5521],\n",
              "        [3.3998],\n",
              "        [2.5279],\n",
              "        [3.3925],\n",
              "        [3.0423],\n",
              "        [2.8394],\n",
              "        [1.9219],\n",
              "        [3.3611],\n",
              "        [2.6221],\n",
              "        [3.3369],\n",
              "        [1.5483],\n",
              "        [2.1471],\n",
              "        [3.1348],\n",
              "        [3.6170],\n",
              "        [2.3887],\n",
              "        [2.8242],\n",
              "        [2.9795],\n",
              "        [2.9095],\n",
              "        [2.7613],\n",
              "        [3.1196],\n",
              "        [4.0058],\n",
              "        [3.2516],\n",
              "        [2.9421],\n",
              "        [2.5754],\n",
              "        [2.5754],\n",
              "        [3.2911],\n",
              "        [3.3926],\n",
              "        [2.6795],\n",
              "        [2.0421],\n",
              "        [3.3369],\n",
              "        [2.9337],\n",
              "        [2.6221],\n",
              "        [1.4037],\n",
              "        [1.8006],\n",
              "        [3.0262]], grad_fn=<AddmmBackward>)"
            ]
          },
          "metadata": {
            "tags": []
          },
          "execution_count": 409
        }
      ]
    },
    {
      "cell_type": "code",
      "metadata": {
        "id": "Dc5k6h5WYEjf",
        "colab_type": "code",
        "outputId": "1994cd00-d1ac-453f-fc4c-551f8171ee5d",
        "colab": {
          "base_uri": "https://localhost:8080/",
          "height": 35
        }
      },
      "source": [
        "val_dataset[11]"
      ],
      "execution_count": 0,
      "outputs": [
        {
          "output_type": "execute_result",
          "data": {
            "text/plain": [
              "(tensor([90., 10.,  5.]), tensor([2.8500]))"
            ]
          },
          "metadata": {
            "tags": []
          },
          "execution_count": 410
        }
      ]
    },
    {
      "cell_type": "code",
      "metadata": {
        "id": "S1xX1q3MBR7j",
        "colab_type": "code",
        "outputId": "d61c2ea7-c1cb-4f9d-ce7b-ae3159ab2204",
        "colab": {
          "base_uri": "https://localhost:8080/",
          "height": 1000
        }
      },
      "source": [
        "  preds_1 \n"
      ],
      "execution_count": 0,
      "outputs": [
        {
          "output_type": "execute_result",
          "data": {
            "text/plain": [
              "tensor([[2.9023],\n",
              "        [3.2596],\n",
              "        [2.7236],\n",
              "        [2.5907],\n",
              "        [2.6688],\n",
              "        [3.0342],\n",
              "        [2.7738],\n",
              "        [2.8466],\n",
              "        [1.8743],\n",
              "        [1.8589],\n",
              "        [2.4695],\n",
              "        [2.3321],\n",
              "        [3.2911],\n",
              "        [2.0421],\n",
              "        [2.5404],\n",
              "        [2.7856],\n",
              "        [3.3997],\n",
              "        [2.8080],\n",
              "        [3.1231],\n",
              "        [2.6221],\n",
              "        [2.9272],\n",
              "        [2.5135],\n",
              "        [3.1896],\n",
              "        [3.3611],\n",
              "        [2.5817],\n",
              "        [3.2281],\n",
              "        [3.4770],\n",
              "        [3.2210],\n",
              "        [2.5054],\n",
              "        [3.1968],\n",
              "        [2.6679],\n",
              "        [3.0971],\n",
              "        [2.8237],\n",
              "        [3.4626],\n",
              "        [2.9992],\n",
              "        [2.9795],\n",
              "        [3.1510],\n",
              "        [3.0729],\n",
              "        [2.4739],\n",
              "        [2.4102],\n",
              "        [3.1626],\n",
              "        [2.4578],\n",
              "        [3.1663],\n",
              "        [2.2737],\n",
              "        [2.5907],\n",
              "        [3.5541],\n",
              "        [3.3682],\n",
              "        [3.2084],\n",
              "        [3.1626],\n",
              "        [2.4738],\n",
              "        [3.1897],\n",
              "        [2.2172],\n",
              "        [2.6841],\n",
              "        [3.1510],\n",
              "        [2.7227],\n",
              "        [3.6404],\n",
              "        [3.1510],\n",
              "        [3.2911],\n",
              "        [3.2597],\n",
              "        [3.1797],\n",
              "        [2.7227],\n",
              "        [3.1196],\n",
              "        [2.5826],\n",
              "        [2.7379],\n",
              "        [3.0054],\n",
              "        [2.1507],\n",
              "        [2.9866],\n",
              "        [3.4140],\n",
              "        [2.8817],\n",
              "        [2.9566],\n",
              "        [3.2597],\n",
              "        [2.5557],\n",
              "        [3.2741],\n",
              "        [1.9220],\n",
              "        [3.1196],\n",
              "        [2.8394],\n",
              "        [2.9956],\n",
              "        [2.9795],\n",
              "        [2.5593],\n",
              "        [2.6832],\n",
              "        [3.0505],\n",
              "        [3.3647],\n",
              "        [3.2596],\n",
              "        [3.0038],\n",
              "        [3.0109],\n",
              "        [3.1968],\n",
              "        [3.0962],\n",
              "        [2.5907],\n",
              "        [2.6221],\n",
              "        [2.9337],\n",
              "        [2.8080],\n",
              "        [2.8394],\n",
              "        [2.4273],\n",
              "        [2.5287],\n",
              "        [3.1622],\n",
              "        [2.0421],\n",
              "        [3.1581],\n",
              "        [2.9571],\n",
              "        [2.3348],\n",
              "        [2.1705],\n",
              "        [2.5709],\n",
              "        [3.0424],\n",
              "        [2.8709],\n",
              "        [3.2911],\n",
              "        [3.2435],\n",
              "        [2.5593],\n",
              "        [2.9480],\n",
              "        [4.0830],\n",
              "        [3.4545],\n",
              "        [3.1510],\n",
              "        [3.0738],\n",
              "        [3.0109],\n",
              "        [3.1510],\n",
              "        [3.3403],\n",
              "        [3.0054],\n",
              "        [3.1510],\n",
              "        [2.3810],\n",
              "        [3.1196],\n",
              "        [1.9523],\n",
              "        [2.6652],\n",
              "        [3.2982],\n",
              "        [3.1196],\n",
              "        [3.1510],\n",
              "        [3.5155],\n",
              "        [2.3878],\n",
              "        [3.1591],\n",
              "        [2.6221],\n",
              "        [3.3216],\n",
              "        [3.0078],\n",
              "        [3.0100],\n",
              "        [3.2911],\n",
              "        [2.8394],\n",
              "        [2.9337],\n",
              "        [3.0029],\n",
              "        [3.8657],\n",
              "        [3.1510],\n",
              "        [3.0054],\n",
              "        [2.5521],\n",
              "        [3.1267],\n",
              "        [3.0810],\n",
              "        [3.2210],\n",
              "        [3.0109],\n",
              "        [2.9624],\n",
              "        [2.1462],\n",
              "        [3.8657],\n",
              "        [2.6909],\n",
              "        [2.7694],\n",
              "        [3.1196],\n",
              "        [2.8394],\n",
              "        [2.8673],\n",
              "        [3.0809],\n",
              "        [2.5709],\n",
              "        [3.3682],\n",
              "        [3.1511],\n",
              "        [2.4893],\n",
              "        [2.8394],\n",
              "        [3.1653],\n",
              "        [3.0963],\n",
              "        [2.9875],\n",
              "        [3.0567],\n",
              "        [2.2945],\n",
              "        [2.4228],\n",
              "        [3.1196],\n",
              "        [3.2139],\n",
              "        [3.1824],\n",
              "        [2.9723],\n",
              "        [3.3225],\n",
              "        [3.3369],\n",
              "        [2.7900],\n",
              "        [2.5036],\n",
              "        [3.1267],\n",
              "        [3.1043],\n",
              "        [3.7274],\n",
              "        [2.6221],\n",
              "        [3.4855],\n",
              "        [3.0109],\n",
              "        [2.7164],\n",
              "        [2.9095],\n",
              "        [2.6455],\n",
              "        [2.7577],\n",
              "        [2.9166],\n",
              "        [2.8403],\n",
              "        [2.2593],\n",
              "        [3.3611],\n",
              "        [2.9337],\n",
              "        [2.8152],\n",
              "        [3.5093],\n",
              "        [3.4113],\n",
              "        [3.0809],\n",
              "        [2.9166],\n",
              "        [3.4616],\n",
              "        [2.8089],\n",
              "        [3.0423],\n",
              "        [3.5713],\n",
              "        [2.8637],\n",
              "        [3.5237],\n",
              "        [2.7236],\n",
              "        [3.3369],\n",
              "        [2.6958],\n",
              "        [2.9130],\n",
              "        [2.6760],\n",
              "        [2.9175],\n",
              "        [2.3846],\n",
              "        [2.1238],\n",
              "        [1.4738],\n",
              "        [2.2324],\n",
              "        [3.2139],\n",
              "        [2.5521],\n",
              "        [3.3998],\n",
              "        [2.5279],\n",
              "        [3.3925],\n",
              "        [3.0423],\n",
              "        [2.8394],\n",
              "        [1.9219],\n",
              "        [3.3611],\n",
              "        [2.6221],\n",
              "        [3.3369],\n",
              "        [1.5483],\n",
              "        [2.1471],\n",
              "        [3.1348],\n",
              "        [3.6170],\n",
              "        [2.3887],\n",
              "        [2.8242],\n",
              "        [2.9795],\n",
              "        [2.9095],\n",
              "        [2.7613],\n",
              "        [3.1196],\n",
              "        [4.0058],\n",
              "        [3.2516],\n",
              "        [2.9421],\n",
              "        [2.5754],\n",
              "        [2.5754],\n",
              "        [3.2911],\n",
              "        [3.3926],\n",
              "        [2.6795],\n",
              "        [2.0421],\n",
              "        [3.3369],\n",
              "        [2.9337],\n",
              "        [2.6221],\n",
              "        [1.4037],\n",
              "        [1.8006],\n",
              "        [3.0262]], grad_fn=<AddmmBackward>)"
            ]
          },
          "metadata": {
            "tags": []
          },
          "execution_count": 411
        }
      ]
    },
    {
      "cell_type": "code",
      "metadata": {
        "id": "2Ybpw_VYBRnZ",
        "colab_type": "code",
        "outputId": "810ac6e6-0afc-4314-95b1-bfddde9fdc33",
        "colab": {
          "base_uri": "https://localhost:8080/",
          "height": 35
        }
      },
      "source": [
        "targets_1[189]"
      ],
      "execution_count": 0,
      "outputs": [
        {
          "output_type": "execute_result",
          "data": {
            "text/plain": [
              "tensor([2.9000], dtype=torch.float64)"
            ]
          },
          "metadata": {
            "tags": []
          },
          "execution_count": 412
        }
      ]
    },
    {
      "cell_type": "code",
      "metadata": {
        "id": "dn8X7uaRQHIK",
        "colab_type": "code",
        "outputId": "53a761a2-bc85-45c6-d8c7-91a0489b2475",
        "colab": {
          "base_uri": "https://localhost:8080/",
          "height": 89
        }
      },
      "source": [
        "print(model_1.weight)\n",
        "print(model_1.bias)\n",
        "weights = model_1.weight\n",
        "bias = model_1.bias"
      ],
      "execution_count": 0,
      "outputs": [
        {
          "output_type": "stream",
          "text": [
            "Parameter containing:\n",
            "tensor([[0.0023, 0.1086, 0.3116]], requires_grad=True)\n",
            "Parameter containing:\n",
            "tensor([0.6612], requires_grad=True)\n"
          ],
          "name": "stdout"
        }
      ]
    },
    {
      "cell_type": "code",
      "metadata": {
        "id": "CbxOX8dlqGgK",
        "colab_type": "code",
        "colab": {}
      },
      "source": [
        "weights_1 = weights.detach().numpy()\n",
        "bias_1 = bias.detach().numpy()"
      ],
      "execution_count": 0,
      "outputs": []
    },
    {
      "cell_type": "code",
      "metadata": {
        "id": "xRu9WM5DitFk",
        "colab_type": "code",
        "outputId": "0c904931-fd1d-4fb5-a1b3-862e16159eaa",
        "colab": {
          "base_uri": "https://localhost:8080/",
          "height": 35
        }
      },
      "source": [
        "targets_1.shape"
      ],
      "execution_count": 0,
      "outputs": [
        {
          "output_type": "execute_result",
          "data": {
            "text/plain": [
              "torch.Size([242, 1])"
            ]
          },
          "metadata": {
            "tags": []
          },
          "execution_count": 415
        }
      ]
    },
    {
      "cell_type": "code",
      "metadata": {
        "id": "Kht9eYa6ikg5",
        "colab_type": "code",
        "outputId": "10c60290-653c-44c3-be81-60bb8761e919",
        "colab": {
          "base_uri": "https://localhost:8080/",
          "height": 35
        }
      },
      "source": [
        "preds_1[1] #targets_1[1]\n"
      ],
      "execution_count": 0,
      "outputs": [
        {
          "output_type": "execute_result",
          "data": {
            "text/plain": [
              "tensor([3.2596], grad_fn=<SelectBackward>)"
            ]
          },
          "metadata": {
            "tags": []
          },
          "execution_count": 416
        }
      ]
    },
    {
      "cell_type": "code",
      "metadata": {
        "id": "MWyzD4w4jU6E",
        "colab_type": "code",
        "outputId": "dd054d43-35b9-4019-c5f9-8d067ea31523",
        "colab": {
          "base_uri": "https://localhost:8080/",
          "height": 35
        }
      },
      "source": [
        "targets_1[1]"
      ],
      "execution_count": 0,
      "outputs": [
        {
          "output_type": "execute_result",
          "data": {
            "text/plain": [
              "tensor([3.2200], dtype=torch.float64)"
            ]
          },
          "metadata": {
            "tags": []
          },
          "execution_count": 417
        }
      ]
    },
    {
      "cell_type": "code",
      "metadata": {
        "id": "ZNo2beGguktN",
        "colab_type": "code",
        "outputId": "9c579936-0811-4f57-f4b4-803333bafe39",
        "colab": {
          "base_uri": "https://localhost:8080/",
          "height": 35
        }
      },
      "source": [
        "preds_1[1]"
      ],
      "execution_count": 0,
      "outputs": [
        {
          "output_type": "execute_result",
          "data": {
            "text/plain": [
              "tensor([3.2596], grad_fn=<SelectBackward>)"
            ]
          },
          "metadata": {
            "tags": []
          },
          "execution_count": 418
        }
      ]
    },
    {
      "cell_type": "code",
      "metadata": {
        "id": "Jd-SyaoXun6h",
        "colab_type": "code",
        "outputId": "23d60c78-507d-44f0-df4f-e5886a37c53b",
        "colab": {
          "base_uri": "https://localhost:8080/",
          "height": 35
        }
      },
      "source": [
        "targets_1[1]"
      ],
      "execution_count": 0,
      "outputs": [
        {
          "output_type": "execute_result",
          "data": {
            "text/plain": [
              "tensor([3.2200], dtype=torch.float64)"
            ]
          },
          "metadata": {
            "tags": []
          },
          "execution_count": 419
        }
      ]
    },
    {
      "cell_type": "code",
      "metadata": {
        "id": "brCkSzozuqWB",
        "colab_type": "code",
        "colab": {}
      },
      "source": [
        "#Final_Data.shape"
      ],
      "execution_count": 0,
      "outputs": []
    },
    {
      "cell_type": "markdown",
      "metadata": {
        "id": "OejH9pUDs5dt",
        "colab_type": "text"
      },
      "source": [
        "## Combine And Generate Labels\n",
        "\n",
        "1.   Combine Generate Data And Real Data \n",
        "2.   Get weights and Intercept then Mutliply with Generated data(Features)\n",
        "\n"
      ]
    },
    {
      "cell_type": "markdown",
      "metadata": {
        "id": "H-RY4cmJiH0v",
        "colab_type": "text"
      },
      "source": [
        "**Get weights and Intercept then Mutliply with Generated data**"
      ]
    },
    {
      "cell_type": "code",
      "metadata": {
        "id": "3tvyrrgiLyfw",
        "colab_type": "code",
        "colab": {}
      },
      "source": [
        "Final_Data2 = Final_Data.tolist()"
      ],
      "execution_count": 0,
      "outputs": []
    },
    {
      "cell_type": "code",
      "metadata": {
        "id": "qoT4PLOlYi8B",
        "colab_type": "code",
        "colab": {}
      },
      "source": [
        "fd = pd.DataFrame(Final_Data2)"
      ],
      "execution_count": 0,
      "outputs": []
    },
    {
      "cell_type": "code",
      "metadata": {
        "id": "tbhFEacXZoqw",
        "colab_type": "code",
        "colab": {}
      },
      "source": [
        "fd_1 = fd.drop([0], axis=1)"
      ],
      "execution_count": 0,
      "outputs": []
    },
    {
      "cell_type": "code",
      "metadata": {
        "id": "AHXed-ycZpVh",
        "colab_type": "code",
        "colab": {}
      },
      "source": [
        "fd.insert(0, \"0\", 1) \n"
      ],
      "execution_count": 0,
      "outputs": []
    },
    {
      "cell_type": "code",
      "metadata": {
        "id": "p_PqMnxXZ25T",
        "colab_type": "code",
        "colab": {}
      },
      "source": [
        "Final_Data3 = np.array(fd)"
      ],
      "execution_count": 0,
      "outputs": []
    },
    {
      "cell_type": "code",
      "metadata": {
        "id": "VN5l1ak6a6tf",
        "colab_type": "code",
        "outputId": "cbdce51c-16e5-4637-8c3b-12933a746c05",
        "colab": {
          "base_uri": "https://localhost:8080/",
          "height": 143
        }
      },
      "source": [
        "Final_Data3 #generated data  "
      ],
      "execution_count": 0,
      "outputs": [
        {
          "output_type": "execute_result",
          "data": {
            "text/plain": [
              "array([[  1.        ,  71.41829135,   6.12438827,   3.616302  ],\n",
              "       [  1.        ,  70.78243139,   4.35564079,   5.16298993],\n",
              "       [  1.        , 170.6841854 ,   7.09551224,   3.5189119 ],\n",
              "       ...,\n",
              "       [  1.        , 248.21715481,   2.91041572,   4.84840501],\n",
              "       [  1.        ,  25.22266026,   8.6172352 ,   4.1127663 ],\n",
              "       [  1.        , 137.47031705,   6.0734833 ,   4.03694253]])"
            ]
          },
          "metadata": {
            "tags": []
          },
          "execution_count": 426
        }
      ]
    },
    {
      "cell_type": "code",
      "metadata": {
        "id": "q8GqiePKsXHf",
        "colab_type": "code",
        "outputId": "704befaa-7cd5-44de-d7cc-cf173cf32189",
        "colab": {
          "base_uri": "https://localhost:8080/",
          "height": 35
        }
      },
      "source": [
        "weights_1\n",
        "bias_1"
      ],
      "execution_count": 0,
      "outputs": [
        {
          "output_type": "execute_result",
          "data": {
            "text/plain": [
              "array([0.66118085], dtype=float32)"
            ]
          },
          "metadata": {
            "tags": []
          },
          "execution_count": 427
        }
      ]
    },
    {
      "cell_type": "code",
      "metadata": {
        "id": "h_JGK5fnbWlH",
        "colab_type": "code",
        "colab": {}
      },
      "source": [
        "ws1 = weights_1[0][0]\n",
        "ws2 = weights_1[0][1]\n",
        "ws3 = weights_1[0][2]\n",
        "bs = bias_1[0]"
      ],
      "execution_count": 0,
      "outputs": []
    },
    {
      "cell_type": "code",
      "metadata": {
        "id": "tnw63GNdr9J2",
        "colab_type": "code",
        "outputId": "987285c1-4f1f-4054-c32c-5668571721fb",
        "colab": {
          "base_uri": "https://localhost:8080/",
          "height": 35
        }
      },
      "source": [
        "betas = np.array([bs,ws1,ws2,ws3])\n",
        "betas"
      ],
      "execution_count": 0,
      "outputs": [
        {
          "output_type": "execute_result",
          "data": {
            "text/plain": [
              "array([0.66118085, 0.00233492, 0.10863376, 0.31155986], dtype=float32)"
            ]
          },
          "metadata": {
            "tags": []
          },
          "execution_count": 429
        }
      ]
    },
    {
      "cell_type": "code",
      "metadata": {
        "id": "-8K3MCDWcBq2",
        "colab_type": "code",
        "colab": {}
      },
      "source": [
        "new_Gpas = np.dot(Final_Data3,betas)\n",
        "new_Gpas_shape = new_Gpas.shape[0]\n"
      ],
      "execution_count": 0,
      "outputs": []
    },
    {
      "cell_type": "code",
      "metadata": {
        "id": "JmHBxKd_c9GA",
        "colab_type": "code",
        "colab": {}
      },
      "source": [
        "new_Gpas = np.reshape(new_Gpas,(new_Gpas_shape,1))"
      ],
      "execution_count": 0,
      "outputs": []
    },
    {
      "cell_type": "markdown",
      "metadata": {
        "id": "vYb8XJ6efW5y",
        "colab_type": "text"
      },
      "source": [
        "  **combine between Generated data and Real Data** "
      ]
    },
    {
      "cell_type": "code",
      "metadata": {
        "id": "uAKkgxXEmC79",
        "colab_type": "code",
        "colab": {}
      },
      "source": [
        "#Final_Data3"
      ],
      "execution_count": 0,
      "outputs": []
    },
    {
      "cell_type": "code",
      "metadata": {
        "id": "U6lWZbOkgmpK",
        "colab_type": "code",
        "colab": {}
      },
      "source": [
        "#fd_2 = pd.DataFrame(Final_Data3)\n",
        "#fd_3 = fd_2.drop([0], axis=1)"
      ],
      "execution_count": 0,
      "outputs": []
    },
    {
      "cell_type": "code",
      "metadata": {
        "id": "uTLzl-CQgtJ2",
        "colab_type": "code",
        "colab": {}
      },
      "source": [
        "#gen_1 = np.array(fd_3)\n"
      ],
      "execution_count": 0,
      "outputs": []
    },
    {
      "cell_type": "code",
      "metadata": {
        "id": "olamuXOXe-54",
        "colab_type": "code",
        "colab": {}
      },
      "source": [
        "combined_features_1  = np.concatenate((X_1,Final_Data), axis=0)\n"
      ],
      "execution_count": 0,
      "outputs": []
    },
    {
      "cell_type": "code",
      "metadata": {
        "id": "GX4UjjMsg-OW",
        "colab_type": "code",
        "colab": {}
      },
      "source": [
        "combined_labels_1 =np.concatenate((Y_1,new_Gpas), axis=0)"
      ],
      "execution_count": 0,
      "outputs": []
    },
    {
      "cell_type": "markdown",
      "metadata": {
        "id": "o9Qu6FP7tbnw",
        "colab_type": "text"
      },
      "source": [
        "## Thinking In Tensors_2 ( Train Real Data And Generated Data )  **ماعدا العاق عمر محمد **"
      ]
    },
    {
      "cell_type": "code",
      "metadata": {
        "id": "4Ry-amGStmcz",
        "colab_type": "code",
        "colab": {}
      },
      "source": [
        "inputs = torch.from_numpy(combined_features_1)\n",
        "targets = torch.from_numpy(combined_labels_1)"
      ],
      "execution_count": 0,
      "outputs": []
    },
    {
      "cell_type": "code",
      "metadata": {
        "id": "OIrxi4uLt8Y9",
        "colab_type": "code",
        "colab": {}
      },
      "source": [
        "train_ds = TensorDataset(inputs.float(), targets.float())\n"
      ],
      "execution_count": 0,
      "outputs": []
    },
    {
      "cell_type": "code",
      "metadata": {
        "id": "mTwHC9Evt-2T",
        "colab_type": "code",
        "outputId": "2d75f646-4e73-4075-f30c-6de7b9250f11",
        "colab": {
          "base_uri": "https://localhost:8080/",
          "height": 107
        }
      },
      "source": [
        "train_ds[0:3]\n"
      ],
      "execution_count": 0,
      "outputs": [
        {
          "output_type": "execute_result",
          "data": {
            "text/plain": [
              "(tensor([[240.,   4.,   4.],\n",
              "         [120.,   7.,   5.],\n",
              "         [ 30.,   4.,   5.]]), tensor([[2.0400],\n",
              "         [3.2200],\n",
              "         [2.9200]]))"
            ]
          },
          "metadata": {
            "tags": []
          },
          "execution_count": 438
        }
      ]
    },
    {
      "cell_type": "code",
      "metadata": {
        "id": "P8ZTbqDIuNj1",
        "colab_type": "code",
        "outputId": "5d3070e9-9f10-4259-d6b6-bb4d343fa734",
        "colab": {
          "base_uri": "https://localhost:8080/",
          "height": 179
        }
      },
      "source": [
        "batch_size = 5\n",
        "train_dl = DataLoader(train_ds, batch_size, shuffle=True)\n",
        "next(iter(train_dl))"
      ],
      "execution_count": 0,
      "outputs": [
        {
          "output_type": "execute_result",
          "data": {
            "text/plain": [
              "[tensor([[120.0000,   4.0000,   4.0000],\n",
              "         [266.7943,   3.0995,   5.6301],\n",
              "         [149.4800,   7.2055,   4.1797],\n",
              "         [166.8932,   6.8856,   3.0372],\n",
              "         [185.4135,   2.9302,   1.6805]]), tensor([[2.5100],\n",
              "         [3.3749],\n",
              "         [3.0952],\n",
              "         [2.7451],\n",
              "         [1.9360]])]"
            ]
          },
          "metadata": {
            "tags": []
          },
          "execution_count": 439
        }
      ]
    },
    {
      "cell_type": "code",
      "metadata": {
        "id": "Yx54B5qpuQOq",
        "colab_type": "code",
        "colab": {}
      },
      "source": [
        "model = nn.Linear(3, 1)\n"
      ],
      "execution_count": 0,
      "outputs": []
    },
    {
      "cell_type": "code",
      "metadata": {
        "id": "GlND9ec4uTTW",
        "colab_type": "code",
        "colab": {}
      },
      "source": [
        "opt = torch.optim.SGD(model.parameters(), lr=1e-5)\n"
      ],
      "execution_count": 0,
      "outputs": []
    },
    {
      "cell_type": "code",
      "metadata": {
        "id": "CZUbIY-UuWCc",
        "colab_type": "code",
        "colab": {}
      },
      "source": [
        "loss_fn = F.mse_loss\n"
      ],
      "execution_count": 0,
      "outputs": []
    },
    {
      "cell_type": "code",
      "metadata": {
        "id": "OYD2x0wDucJR",
        "colab_type": "code",
        "outputId": "b020b97e-4501-47d9-eaa0-2951634a9bc5",
        "colab": {
          "base_uri": "https://localhost:8080/",
          "height": 35
        }
      },
      "source": [
        "loss = loss_fn(model(inputs.float()), targets.float())\n",
        "loss.type()"
      ],
      "execution_count": 0,
      "outputs": [
        {
          "output_type": "execute_result",
          "data": {
            "text/plain": [
              "'torch.FloatTensor'"
            ]
          },
          "metadata": {
            "tags": []
          },
          "execution_count": 443
        }
      ]
    },
    {
      "cell_type": "code",
      "metadata": {
        "id": "4FA7vmrOuerV",
        "colab_type": "code",
        "colab": {}
      },
      "source": [
        "def fit(num_epochs, model, loss_fn, opt):\n",
        "    for epoch in range(num_epochs):\n",
        "        for xb,yb in train_dl:\n",
        "            # Generate predictions\n",
        "            pred = model(xb)\n",
        "            loss = loss_fn(pred, yb)\n",
        "            # Perform gradient descent\n",
        "            loss.backward()\n",
        "            opt.step()\n",
        "            opt.zero_grad()\n",
        "    print('Training loss: ', loss_fn(model(inputs.float()), targets.float()))\n"
      ],
      "execution_count": 0,
      "outputs": []
    },
    {
      "cell_type": "code",
      "metadata": {
        "id": "4TNdB1UUuhJD",
        "colab_type": "code",
        "outputId": "929c5b4d-8887-44c4-e471-da605316d485",
        "colab": {
          "base_uri": "https://localhost:8080/",
          "height": 35
        }
      },
      "source": [
        "fit(150, model, loss_fn, opt)\n"
      ],
      "execution_count": 0,
      "outputs": [
        {
          "output_type": "stream",
          "text": [
            "Training loss:  tensor(0.1407, grad_fn=<MseLossBackward>)\n"
          ],
          "name": "stdout"
        }
      ]
    },
    {
      "cell_type": "code",
      "metadata": {
        "id": "cirYYkrjujF9",
        "colab_type": "code",
        "colab": {}
      },
      "source": [
        "preds = model(inputs.float())\n",
        "#preds.shape\n"
      ],
      "execution_count": 0,
      "outputs": []
    },
    {
      "cell_type": "code",
      "metadata": {
        "id": "1iWLmHWNumI6",
        "colab_type": "code",
        "outputId": "513cad9e-a6d7-429d-f6aa-1950420ce8e9",
        "colab": {
          "base_uri": "https://localhost:8080/",
          "height": 89
        }
      },
      "source": [
        "print(model.weight)\n",
        "print(model.bias)"
      ],
      "execution_count": 0,
      "outputs": [
        {
          "output_type": "stream",
          "text": [
            "Parameter containing:\n",
            "tensor([[0.0017, 0.1201, 0.3619]], requires_grad=True)\n",
            "Parameter containing:\n",
            "tensor([0.3617], requires_grad=True)\n"
          ],
          "name": "stdout"
        }
      ]
    },
    {
      "cell_type": "code",
      "metadata": {
        "id": "b4h36Mk0uq3V",
        "colab_type": "code",
        "outputId": "f579eb9d-5005-43f1-902c-24f1febbe909",
        "colab": {
          "base_uri": "https://localhost:8080/",
          "height": 35
        }
      },
      "source": [
        "preds[1]"
      ],
      "execution_count": 0,
      "outputs": [
        {
          "output_type": "execute_result",
          "data": {
            "text/plain": [
              "tensor([3.2199], grad_fn=<SelectBackward>)"
            ]
          },
          "metadata": {
            "tags": []
          },
          "execution_count": 497
        }
      ]
    },
    {
      "cell_type": "code",
      "metadata": {
        "id": "misNTHRAutPN",
        "colab_type": "code",
        "outputId": "599c718d-27a3-485a-fd78-92e5266ebcc0",
        "colab": {
          "base_uri": "https://localhost:8080/",
          "height": 35
        }
      },
      "source": [
        "targets[1]"
      ],
      "execution_count": 0,
      "outputs": [
        {
          "output_type": "execute_result",
          "data": {
            "text/plain": [
              "tensor([3.2200], dtype=torch.float64)"
            ]
          },
          "metadata": {
            "tags": []
          },
          "execution_count": 498
        }
      ]
    },
    {
      "cell_type": "markdown",
      "metadata": {
        "id": "aOS8nvmgePj-",
        "colab_type": "text"
      },
      "source": [
        "# Save Model"
      ]
    },
    {
      "cell_type": "code",
      "metadata": {
        "id": "zBzJGzK4u2o3",
        "colab_type": "code",
        "colab": {}
      },
      "source": [
        "from google.colab import drive\n",
        "drive.mount('/content/gdrive')"
      ],
      "execution_count": 0,
      "outputs": []
    },
    {
      "cell_type": "code",
      "metadata": {
        "id": "RtIo05jWeNQ4",
        "colab_type": "code",
        "colab": {}
      },
      "source": [
        "model_save_name = 'predict_linear_reg.pt'\n",
        "path = F\"/content/gdrive/My Drive/{model_save_name}\" \n",
        "torch.save(model_1.state_dict(), path)\n"
      ],
      "execution_count": 0,
      "outputs": []
    }
  ]
}