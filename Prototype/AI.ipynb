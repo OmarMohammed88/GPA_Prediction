{
  "nbformat": 4,
  "nbformat_minor": 0,
  "metadata": {
    "colab": {
      "name": "AI.ipynb",
      "provenance": [],
      "collapsed_sections": [],
      "include_colab_link": true
    },
    "kernelspec": {
      "name": "python3",
      "display_name": "Python 3"
    },
    "accelerator": "GPU"
  },
  "cells": [
    {
      "cell_type": "markdown",
      "metadata": {
        "id": "view-in-github",
        "colab_type": "text"
      },
      "source": [
        "<a href=\"https://colab.research.google.com/github/OmarMohammed88/GPA_Prediction/blob/master/AI.ipynb\" target=\"_parent\"><img src=\"https://colab.research.google.com/assets/colab-badge.svg\" alt=\"Open In Colab\"/></a>"
      ]
    },
    {
      "cell_type": "code",
      "metadata": {
        "id": "4ccOaLJR9fVS",
        "colab_type": "code",
        "colab": {}
      },
      "source": [
        "import pandas as pd\n",
        "import numpy as np\n",
        "import matplotlib.pyplot as plt\n",
        "import seaborn as sb\n",
        "import numpy.ma as ma\n"
      ],
      "execution_count": 0,
      "outputs": []
    },
    {
      "cell_type": "code",
      "metadata": {
        "id": "kjugKWX_-0i7",
        "colab_type": "code",
        "colab": {}
      },
      "source": [
        "data=pd.read_csv('DATA1.csv')\n"
      ],
      "execution_count": 0,
      "outputs": []
    },
    {
      "cell_type": "markdown",
      "metadata": {
        "id": "hy7UMD1ddGsK",
        "colab_type": "text"
      },
      "source": [
        "<p>Display all Data </p>"
      ]
    },
    {
      "cell_type": "code",
      "metadata": {
        "id": "70JODcxgASVR",
        "colab_type": "code",
        "colab": {}
      },
      "source": [
        "def display_all(data):\n",
        "    with pd.option_context(\"display.max_rows\", 1000, \"display.max_columns\", 1000): \n",
        "        display(data)"
      ],
      "execution_count": 0,
      "outputs": []
    },
    {
      "cell_type": "code",
      "metadata": {
        "id": "x0PYYo9ZC07N",
        "colab_type": "code",
        "colab": {}
      },
      "source": [
        ""
      ],
      "execution_count": 0,
      "outputs": []
    },
    {
      "cell_type": "markdown",
      "metadata": {
        "id": "MqSo4I1-dcaT",
        "colab_type": "text"
      },
      "source": [
        "<p style=\"color:blue\"> Drop Timestamp and GPA columns From Excel Sheet</p>\n",
        "\n"
      ]
    },
    {
      "cell_type": "code",
      "metadata": {
        "id": "K4juPY2JEimP",
        "colab_type": "code",
        "colab": {}
      },
      "source": [
        "\n",
        "#data1=data1.drop('GPA :', axis=1) Without Label"
      ],
      "execution_count": 0,
      "outputs": []
    },
    {
      "cell_type": "code",
      "metadata": {
        "id": "LRcQ4MoaE-Ks",
        "colab_type": "code",
        "colab": {}
      },
      "source": [
        " X=np.array(data)\n"
      ],
      "execution_count": 0,
      "outputs": []
    },
    {
      "cell_type": "markdown",
      "metadata": {
        "id": "FxyJo0UMd7Lq",
        "colab_type": "text"
      },
      "source": [
        "<h2>Covariance Matrix and Mean\n"
      ]
    },
    {
      "cell_type": "code",
      "metadata": {
        "id": "UJplCDFZFEzA",
        "colab_type": "code",
        "colab": {}
      },
      "source": [
        "cov=np.cov(X,y=None, rowvar=False, bias=False, ddof=None, fweights=None, aweights=None)\n",
        "mean=np.mean(X,axis=0)"
      ],
      "execution_count": 0,
      "outputs": []
    },
    {
      "cell_type": "markdown",
      "metadata": {
        "id": "j-xMZ9dveIs_",
        "colab_type": "text"
      },
      "source": [
        "<p color='blue'> Generating New Data from Old Distribution Data </p>"
      ]
    },
    {
      "cell_type": "code",
      "metadata": {
        "id": "zBrARBxFGMeP",
        "colab_type": "code",
        "outputId": "20b570d2-a640-4972-9791-f1f7b95e9dbe",
        "colab": {
          "base_uri": "https://localhost:8080/",
          "height": 34
        }
      },
      "source": [
        "Size_of_Data=500 \n",
        "New_Data= np.random.multivariate_normal(mean, cov,Size_of_Data)\n",
        "New_Data.shape"
      ],
      "execution_count": 10,
      "outputs": [
        {
          "output_type": "execute_result",
          "data": {
            "text/plain": [
              "(500, 4)"
            ]
          },
          "metadata": {
            "tags": []
          },
          "execution_count": 10
        }
      ]
    },
    {
      "cell_type": "markdown",
      "metadata": {
        "id": "Oz2fDdD2efpv",
        "colab_type": "text"
      },
      "source": [
        "<h3 color='red'> Ploting Old Data and New Data</h3>"
      ]
    },
    {
      "cell_type": "code",
      "metadata": {
        "id": "jbDW7K5XGWyd",
        "colab_type": "code",
        "outputId": "217822ae-7cb7-47d8-e513-05d986828ca2",
        "colab": {
          "base_uri": "https://localhost:8080/",
          "height": 268
        }
      },
      "source": [
        "New_Data[New_Data < 0] = 0\n",
        "plt.plot(X,color='blue')\n",
        "plt.plot(New_Data,color='r')\n",
        "plt.show()"
      ],
      "execution_count": 11,
      "outputs": [
        {
          "output_type": "display_data",
          "data": {
            "image/png": "[encoded data removed]",
            "text/plain": [
              "<Figure size 432x288 with 1 Axes>"
            ]
          },
          "metadata": {
            "tags": []
          }
        }
      ]
    },
    {
      "cell_type": "markdown",
      "metadata": {
        "id": "CGSOYsXVfO3_",
        "colab_type": "text"
      },
      "source": [
        "<h4> This Function Delete rows whose Values =0</h4>"
      ]
    },
    {
      "cell_type": "code",
      "metadata": {
        "id": "mZBecARmEnhu",
        "colab_type": "code",
        "colab": {}
      },
      "source": [
        "#Function Clean Data Whose Values Are 0\n",
        "def Delete_Zeros(New_Data):\n",
        "  index=[]\n",
        "  for i in New_Data :\n",
        "    if np.count_nonzero(i == 0) > 0 or np.count_nonzero(i ==( 0)):\n",
        "        index.append(np.where(np.all(New_Data==i,axis=1))[0][0])\n",
        "  cleaned_data=np.delete(New_Data,index,0) \n",
        "  return cleaned_data\n",
        "\n",
        "Cleaned_data1=Delete_Zeros(New_Data)\n"
      ],
      "execution_count": 0,
      "outputs": []
    },
    {
      "cell_type": "code",
      "metadata": {
        "id": "Gnu5qloGnf_Y",
        "colab_type": "code",
        "colab": {}
      },
      "source": [
        "#function Delete rows whose values >6 Days\n",
        "def constrains_per_day(cleaned_data1):\n",
        "  x=[]\n",
        "  for i in range(len(cleaned_data1)):\n",
        "    if cleaned_data1[i][3]>6:\n",
        "      x.append(i)  \n",
        "  cleaned_data2=np.delete(cleaned_data1,x,0)\n",
        "  return cleaned_data2\n",
        "Cleaned_data2=constrains_per_day(Cleaned_data1)\n",
        "\n"
      ],
      "execution_count": 0,
      "outputs": []
    },
    {
      "cell_type": "code",
      "metadata": {
        "id": "K9ZyL1gLs1Ss",
        "colab_type": "code",
        "colab": {}
      },
      "source": [
        "#This function delete rows whose Values >10 hours\n",
        "def constrains_per_hours(Cleaned_data2):\n",
        "  x=[]\n",
        "  for i in range(len(Cleaned_data2)):\n",
        "    if Cleaned_data2[i][2]>10:\n",
        "      x.append(i)  \n",
        "  cleaned_data3=np.delete(Cleaned_data2,x,0)\n",
        "  return cleaned_data3\n",
        "\n",
        "Cleaned_data3=constrains_per_hours(Cleaned_data2)\n",
        "\n"
      ],
      "execution_count": 0,
      "outputs": []
    },
    {
      "cell_type": "code",
      "metadata": {
        "id": "jg4YwUkYXd3s",
        "colab_type": "code",
        "colab": {}
      },
      "source": [
        "#This function delete rows whose values <5 min and >300 min\n",
        "def constrains_per_min_Road(Cleaned_data3):\n",
        "  x=[]\n",
        "  for i in range(len(Cleaned_data3)):\n",
        "    if Cleaned_data3[i][1]<5 or Cleaned_data3[i][0]>300:\n",
        "      x.append(i)  \n",
        "  cleaned_data4=np.delete(Cleaned_data3,x,0)\n",
        "  return cleaned_data4\n",
        "\n",
        "Final_Data=constrains_per_min_Road(Cleaned_data3)\n"
      ],
      "execution_count": 0,
      "outputs": []
    },
    {
      "cell_type": "markdown",
      "metadata": {
        "id": "CBS-C7sFhDj4",
        "colab_type": "text"
      },
      "source": [
        "<h1 color=\"blue\">Ploting The New Data After Cleaning and Old Data</h1>"
      ]
    },
    {
      "cell_type": "code",
      "metadata": {
        "id": "m7kqbFpuZoVm",
        "colab_type": "code",
        "outputId": "b5020b1b-693a-4934-93ab-765999d0174b",
        "colab": {
          "base_uri": "https://localhost:8080/",
          "height": 268
        }
      },
      "source": [
        "# The New Data Represented by red Color \n",
        "plt.plot(Final_Data,color='r')\n",
        "plt.plot(data,color='blue')\n",
        "plt.show()"
      ],
      "execution_count": 17,
      "outputs": [
        {
          "output_type": "display_data",
          "data": {
            "image/png": "[encoded data removed]",
            "text/plain": [
              "<Figure size 432x288 with 1 Axes>"
            ]
          },
          "metadata": {
            "tags": []
          }
        }
      ]
    },
    {
      "cell_type": "markdown",
      "metadata": {
        "id": "ZzhC0YFcylB8",
        "colab_type": "text"
      },
      "source": [
        "<h1>The Percentage of data After Cleaning</h1>"
      ]
    },
    {
      "cell_type": "code",
      "metadata": {
        "id": "v0RntNpHlHMW",
        "colab_type": "code",
        "colab": {}
      },
      "source": [
        "Size_After_cleaning=Final_Data.shape[0]\n",
        "def Percentage_Of_Cleaning(Size_of_Data,Size_After_cleaning):\n",
        "   result=((Size_of_Data-Size_After_cleaning)/Size_of_Data)*100\n",
        "   print(result)\n",
        "Percentage_Of_Cleaning(Size_of_Data,Size_After_cleaning)"
      ],
      "execution_count": 0,
      "outputs": []
    },
    {
      "cell_type": "code",
      "metadata": {
        "id": "l32OasE9lWxi",
        "colab_type": "code",
        "colab": {}
      },
      "source": [
        ""
      ],
      "execution_count": 0,
      "outputs": []
    }
  ]
}
