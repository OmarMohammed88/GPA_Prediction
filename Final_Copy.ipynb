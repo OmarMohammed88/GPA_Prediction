{
  "nbformat": 4,
  "nbformat_minor": 0,
  "metadata": {
    "colab": {
      "name": "Final_Copy.ipynb",
      "provenance": [],
      "collapsed_sections": [
        "K0xxvRTFpKM6",
        "hy7UMD1ddGsK",
        "FxyJo0UMd7Lq",
        "j-xMZ9dveIs_",
        "Oz2fDdD2efpv",
        "CGSOYsXVfO3_",
        "CBS-C7sFhDj4",
        "ZzhC0YFcylB8",
        "1ZGed-5RRt22",
        "CpAlioyzJTaM",
        "HDs6VbFHJrQs",
        "tNOJ8xI0hR5O",
        "yc4THAS2hxo3",
        "_M7hdYQIqVPG",
        "hurAJ9hlx4GG",
        "VTNCA30nyh65"
      ],
      "include_colab_link": true
    },
    "kernelspec": {
      "name": "python3",
      "display_name": "Python 3"
    },
    "accelerator": "GPU"
  },
  "cells": [
    {
      "cell_type": "markdown",
      "metadata": {
        "id": "view-in-github",
        "colab_type": "text"
      },
      "source": [
        "<a href=\"https://colab.research.google.com/github/OmarMohammed88/GPA_Prediction/blob/master/Final_Copy.ipynb\" target=\"_parent\"><img src=\"https://colab.research.google.com/assets/colab-badge.svg\" alt=\"Open In Colab\"/></a>"
      ]
    },
    {
      "cell_type": "markdown",
      "metadata": {
        "id": "K0xxvRTFpKM6",
        "colab_type": "text"
      },
      "source": [
        "##Imports"
      ]
    },
    {
      "cell_type": "code",
      "metadata": {
        "id": "4ccOaLJR9fVS",
        "colab_type": "code",
        "colab": {}
      },
      "source": [
        "import pandas as pd\n",
        "import numpy as np\n",
        "import matplotlib.pyplot as plt\n",
        "import seaborn as sb\n",
        "import numpy.ma as ma\n"
      ],
      "execution_count": 0,
      "outputs": []
    },
    {
      "cell_type": "code",
      "metadata": {
        "id": "kjugKWX_-0i7",
        "colab_type": "code",
        "colab": {}
      },
      "source": [
        "data=pd.read_csv('DATA1.csv')\n"
      ],
      "execution_count": 0,
      "outputs": []
    },
    {
      "cell_type": "markdown",
      "metadata": {
        "id": "hy7UMD1ddGsK",
        "colab_type": "text"
      },
      "source": [
        "##<p>Display all Data </p>"
      ]
    },
    {
      "cell_type": "code",
      "metadata": {
        "id": "70JODcxgASVR",
        "colab_type": "code",
        "colab": {}
      },
      "source": [
        "def display_all(data):\n",
        "    with pd.option_context(\"display.max_rows\", 1000, \"display.max_columns\", 1000): \n",
        "        display(data)"
      ],
      "execution_count": 0,
      "outputs": []
    },
    {
      "cell_type": "code",
      "metadata": {
        "id": "LRcQ4MoaE-Ks",
        "colab_type": "code",
        "colab": {}
      },
      "source": [
        "data1=(data-data.mean())/data.std()\n",
        "x_1 = data[['Per_min_OnRoad','Per_hours_At_College','Per_days_attendance']]\n",
        "\n",
        "X_1 = np.array(x_1)\n",
        "y_1 = data[['GPA :']]\n",
        "y_1.head()\n",
        "Y_1 = np.array(y_1)"
      ],
      "execution_count": 0,
      "outputs": []
    },
    {
      "cell_type": "markdown",
      "metadata": {
        "id": "FxyJo0UMd7Lq",
        "colab_type": "text"
      },
      "source": [
        "##<h2>Covariance Matrix and Mean\n"
      ]
    },
    {
      "cell_type": "code",
      "metadata": {
        "id": "UJplCDFZFEzA",
        "colab_type": "code",
        "colab": {}
      },
      "source": [
        "cov=np.cov(X_1,y=None, rowvar=False, bias=False, ddof=None, fweights=None, aweights=None)\n",
        "mean=np.mean(X_1,axis=0)"
      ],
      "execution_count": 0,
      "outputs": []
    },
    {
      "cell_type": "markdown",
      "metadata": {
        "id": "j-xMZ9dveIs_",
        "colab_type": "text"
      },
      "source": [
        "##<p color='blue'> Generating New Data from Old Distribution Data </p>\n",
        "\n",
        "\n"
      ]
    },
    {
      "cell_type": "code",
      "metadata": {
        "id": "zBrARBxFGMeP",
        "colab_type": "code",
        "outputId": "ee7ecdc7-3413-4e34-88fe-60917e58cb31",
        "colab": {
          "base_uri": "https://localhost:8080/",
          "height": 34
        }
      },
      "source": [
        "Size_of_Data=500\n",
        "New_Data= np.random.multivariate_normal(mean, cov,Size_of_Data)\n",
        "New_Data.shape"
      ],
      "execution_count": 18,
      "outputs": [
        {
          "output_type": "execute_result",
          "data": {
            "text/plain": [
              "(500, 3)"
            ]
          },
          "metadata": {
            "tags": []
          },
          "execution_count": 18
        }
      ]
    },
    {
      "cell_type": "markdown",
      "metadata": {
        "id": "Oz2fDdD2efpv",
        "colab_type": "text"
      },
      "source": [
        "##<h3 color='red'> Ploting Old Data and New Data</h3>"
      ]
    },
    {
      "cell_type": "code",
      "metadata": {
        "id": "jbDW7K5XGWyd",
        "colab_type": "code",
        "outputId": "57d98686-d90e-41cd-b96c-c3b8beb10b9a",
        "colab": {
          "base_uri": "https://localhost:8080/",
          "height": 268
        }
      },
      "source": [
        "New_Data[New_Data < 0] = 0\n",
        "plt.plot(x_1,color='blue')\n",
        "plt.plot(New_Data,color='r')\n",
        "plt.show()"
      ],
      "execution_count": 19,
      "outputs": [
        {
          "output_type": "display_data",
          "data": {
            "image/png": "[encoded data removed]",
            "text/plain": [
              "<Figure size 432x288 with 1 Axes>"
            ]
          },
          "metadata": {
            "tags": []
          }
        }
      ]
    },
    {
      "cell_type": "markdown",
      "metadata": {
        "id": "CGSOYsXVfO3_",
        "colab_type": "text"
      },
      "source": [
        "##<h4> This Function Delete rows whose Values =0</h4>"
      ]
    },
    {
      "cell_type": "code",
      "metadata": {
        "id": "mZBecARmEnhu",
        "colab_type": "code",
        "colab": {}
      },
      "source": [
        "#Function Clean Data Whose Values Are 0\n",
        "def Delete_Zeros(New_Data):\n",
        "  index=[]\n",
        "  for i in New_Data :\n",
        "    if np.count_nonzero(i == 0) > 0 or np.count_nonzero(i ==( 0)):\n",
        "        index.append(np.where(np.all(New_Data==i,axis=1))[0][0])\n",
        "  cleaned_data=np.delete(New_Data,index,0) \n",
        "  return cleaned_data\n",
        "\n",
        "Cleaned_data1=Delete_Zeros(New_Data)"
      ],
      "execution_count": 0,
      "outputs": []
    },
    {
      "cell_type": "code",
      "metadata": {
        "id": "Gnu5qloGnf_Y",
        "colab_type": "code",
        "colab": {}
      },
      "source": [
        "#function Delete rows whose values >6 Days\n",
        "def constrains_per_day(cleaned_data1):\n",
        "  x=[]\n",
        "  for i in range(len(cleaned_data1)):\n",
        "    if cleaned_data1[i][2]>6:\n",
        "      x.append(i)  \n",
        "  cleaned_data2=np.delete(cleaned_data1,x,0)\n",
        "  return cleaned_data2\n",
        "Cleaned_data2=constrains_per_day(Cleaned_data1)\n",
        "\n"
      ],
      "execution_count": 0,
      "outputs": []
    },
    {
      "cell_type": "code",
      "metadata": {
        "id": "K9ZyL1gLs1Ss",
        "colab_type": "code",
        "colab": {}
      },
      "source": [
        "#This function delete rows whose Values >10 hours\n",
        "def constrains_per_hours(Cleaned_data2):\n",
        "  x=[]\n",
        "  for i in range(len(Cleaned_data2)):\n",
        "    if Cleaned_data2[i][1]>10:\n",
        "      x.append(i)  \n",
        "  cleaned_data3=np.delete(Cleaned_data2,x,0)\n",
        "  return cleaned_data3\n",
        "\n",
        "Cleaned_data3=constrains_per_hours(Cleaned_data2)\n",
        "\n"
      ],
      "execution_count": 0,
      "outputs": []
    },
    {
      "cell_type": "code",
      "metadata": {
        "id": "jg4YwUkYXd3s",
        "colab_type": "code",
        "colab": {}
      },
      "source": [
        "#This function delete rows whose values <5 min and >300 min\n",
        "def constrains_per_min_Road(Cleaned_data3):\n",
        "  x=[]\n",
        "  for i in range(len(Cleaned_data3)):\n",
        "    if Cleaned_data3[i][0]<5 or Cleaned_data3[i][0]>300:\n",
        "      x.append(i)  \n",
        "  cleaned_data4=np.delete(Cleaned_data3,x,0)\n",
        "  return cleaned_data4\n",
        "\n",
        "Final_Data=constrains_per_min_Road(Cleaned_data3)\n"
      ],
      "execution_count": 0,
      "outputs": []
    },
    {
      "cell_type": "markdown",
      "metadata": {
        "id": "CBS-C7sFhDj4",
        "colab_type": "text"
      },
      "source": [
        "##<h1 color=\"blue\">Ploting The New Data After Cleaning and Old Data</h1>"
      ]
    },
    {
      "cell_type": "code",
      "metadata": {
        "id": "m7kqbFpuZoVm",
        "colab_type": "code",
        "colab": {
          "base_uri": "https://localhost:8080/",
          "height": 268
        },
        "outputId": "39518f59-5b01-4307-8e13-c0d6ef18b6bb"
      },
      "source": [
        "# The New Data Represented by red Color \n",
        "plt.plot(Final_Data,color='r')\n",
        "plt.plot(data,color='blue')\n",
        "plt.show()"
      ],
      "execution_count": 28,
      "outputs": [
        {
          "output_type": "display_data",
          "data": {
            "image/png": "[encoded data removed]",
            "text/plain": [
              "<Figure size 432x288 with 1 Axes>"
            ]
          },
          "metadata": {
            "tags": []
          }
        }
      ]
    },
    {
      "cell_type": "markdown",
      "metadata": {
        "id": "ZzhC0YFcylB8",
        "colab_type": "text"
      },
      "source": [
        "##<h1>The Percentage of data After Cleaning</h1>"
      ]
    },
    {
      "cell_type": "code",
      "metadata": {
        "id": "v0RntNpHlHMW",
        "colab_type": "code",
        "colab": {
          "base_uri": "https://localhost:8080/",
          "height": 34
        },
        "outputId": "02528421-9223-4f2b-f5a8-a390b6a502eb"
      },
      "source": [
        "Size_After_cleaning=Final_Data.shape[0]\n",
        "def Percentage_Of_Cleaning(Size_of_Data,Size_After_cleaning):\n",
        "   result=((Size_of_Data-Size_After_cleaning)/Size_of_Data)*100\n",
        "   print(result)\n",
        "Percentage_Of_Cleaning(Size_of_Data,Size_After_cleaning)"
      ],
      "execution_count": 29,
      "outputs": [
        {
          "output_type": "stream",
          "text": [
            "11.0\n"
          ],
          "name": "stdout"
        }
      ]
    },
    {
      "cell_type": "markdown",
      "metadata": {
        "id": "1ZGed-5RRt22",
        "colab_type": "text"
      },
      "source": [
        "##<h1>KNN For Testing Distance between two classes</h1>"
      ]
    },
    {
      "cell_type": "code",
      "metadata": {
        "id": "d4hqUmXyAd6b",
        "colab_type": "code",
        "colab": {}
      },
      "source": [
        "ones=np.ones(242)\n"
      ],
      "execution_count": 0,
      "outputs": []
    },
    {
      "cell_type": "code",
      "metadata": {
        "id": "eKObqqzAA2Ta",
        "colab_type": "code",
        "colab": {}
      },
      "source": [
        "Final_Data.shape"
      ],
      "execution_count": 0,
      "outputs": []
    },
    {
      "cell_type": "code",
      "metadata": {
        "id": "uYXMgVhOBdhM",
        "colab_type": "code",
        "colab": {}
      },
      "source": [
        "zeros=np.zeros(225)\n",
        "# column_to_be_added_zeros = np.array(zeros)\n",
        "# class_zeros = np.column_stack((X, column_to_be_added_zeros))\n",
        "# class_zeros"
      ],
      "execution_count": 0,
      "outputs": []
    },
    {
      "cell_type": "code",
      "metadata": {
        "id": "iH51jMZjCr2F",
        "colab_type": "code",
        "colab": {}
      },
      "source": [
        "Merge_data=np.concatenate((X, Final_Data), axis=0)\n",
        "Y_label=np.concatenate((ones,zeros),axis=0)\n",
        "Y_label.shape"
      ],
      "execution_count": 0,
      "outputs": []
    },
    {
      "cell_type": "code",
      "metadata": {
        "id": "nKmtE6vVDn-O",
        "colab_type": "code",
        "colab": {}
      },
      "source": [
        "from sklearn.model_selection import train_test_split\n",
        "X_train, X_test, y_train, y_test = train_test_split(Merge_data,Y_label, test_size=0.2) # change test_size and no of features"
      ],
      "execution_count": 0,
      "outputs": []
    },
    {
      "cell_type": "code",
      "metadata": {
        "id": "Qo59p7KZE-9r",
        "colab_type": "code",
        "colab": {}
      },
      "source": [
        "from sklearn.preprocessing import StandardScaler\n",
        "scaler = StandardScaler()\n",
        "scaler.fit(X_train)\n",
        "\n",
        "X_train = scaler.transform(X_train)\n",
        "X_test = scaler.transform(X_test)"
      ],
      "execution_count": 0,
      "outputs": []
    },
    {
      "cell_type": "code",
      "metadata": {
        "id": "ZDbz0G9uIAXT",
        "colab_type": "code",
        "colab": {}
      },
      "source": [
        "from sklearn.neighbors import KNeighborsClassifier\n",
        "classifier = KNeighborsClassifier(n_neighbors=100)\n",
        "classifier.fit(X_train, y_train)"
      ],
      "execution_count": 0,
      "outputs": []
    },
    {
      "cell_type": "code",
      "metadata": {
        "id": "8aJ_bRb8ID1x",
        "colab_type": "code",
        "colab": {}
      },
      "source": [
        "from sklearn import metrics\n",
        "\n",
        "y_pred = classifier.predict(X_test)\n",
        "print(metrics.accuracy_score( y_pred,y_test))"
      ],
      "execution_count": 0,
      "outputs": []
    },
    {
      "cell_type": "code",
      "metadata": {
        "id": "YdxgbzcAIGz3",
        "colab_type": "code",
        "colab": {}
      },
      "source": [
        "from sklearn.metrics import classification_report, confusion_matrix\n",
        "print(confusion_matrix(y_test, y_pred))\n",
        "print(classification_report(y_pred,y_test))"
      ],
      "execution_count": 0,
      "outputs": []
    },
    {
      "cell_type": "code",
      "metadata": {
        "id": "Eq121-gVIKN0",
        "colab_type": "code",
        "colab": {}
      },
      "source": [
        "error = []\n",
        "\n",
        "# Calculating error for K values between 1 and 40\n",
        "for i in range(1, 40):\n",
        "    knn = KNeighborsClassifier(n_neighbors=i)\n",
        "    knn.fit(X_train, y_train)\n",
        "    pred_i = knn.predict(X_test)\n",
        "    error.append(np.mean(pred_i != y_test))"
      ],
      "execution_count": 0,
      "outputs": []
    },
    {
      "cell_type": "code",
      "metadata": {
        "id": "kW7akPF_IShj",
        "colab_type": "code",
        "colab": {}
      },
      "source": [
        "plt.figure(figsize=(12, 6))\n",
        "plt.plot(range(1, 40), error, color='red', linestyle='dashed', marker='o',\n",
        "         markerfacecolor='blue', markersize=10)\n",
        "plt.title('Error Rate K Value')\n",
        "plt.xlabel('K Value')\n",
        "plt.ylabel('Mean Error')"
      ],
      "execution_count": 0,
      "outputs": []
    },
    {
      "cell_type": "markdown",
      "metadata": {
        "id": "CpAlioyzJTaM",
        "colab_type": "text"
      },
      "source": [
        "##<h1>visualizing data</h1>"
      ]
    },
    {
      "cell_type": "code",
      "metadata": {
        "id": "07wzyYExp5o-",
        "colab_type": "code",
        "outputId": "b9bf5169-42eb-42f1-b421-6d047464e867",
        "colab": {
          "base_uri": "https://localhost:8080/",
          "height": 248
        }
      },
      "source": [
        "import matplotlib as mpl \n",
        "from mpl_toolkits.mplot3d import Axes3D \n",
        "fig = plt.figure() \n",
        "ax = fig.gca(projection ='3d') \n",
        "  \n",
        "ax.scatter(X_1[:, 0], X_1[:, 1],X_1[:,2], label ='y', s =5) \n",
        "ax.legend() \n",
        "ax.view_init(45, 0) \n",
        "  \n",
        "plt.show() "
      ],
      "execution_count": 30,
      "outputs": [
        {
          "output_type": "display_data",
          "data": {
            "image/png": "[encoded data removed]",
            "text/plain": [
              "<Figure size 432x288 with 1 Axes>"
            ]
          },
          "metadata": {
            "tags": []
          }
        }
      ]
    },
    {
      "cell_type": "code",
      "metadata": {
        "id": "JB8acxBSqlyr",
        "colab_type": "code",
        "outputId": "668a4b90-84ea-467f-88da-2768f59eda74",
        "colab": {
          "base_uri": "https://localhost:8080/",
          "height": 742
        }
      },
      "source": [
        "sb.pairplot(data)\n"
      ],
      "execution_count": 0,
      "outputs": [
        {
          "output_type": "execute_result",
          "data": {
            "text/plain": [
              "<seaborn.axisgrid.PairGrid at 0x7fcf5140e7b8>"
            ]
          },
          "metadata": {
            "tags": []
          },
          "execution_count": 17
        },
        {
          "output_type": "display_data",
          "data": {
            "image/png": "[encoded data removed]",
            "text/plain": [
              "<Figure size 720x720 with 20 Axes>"
            ]
          },
          "metadata": {
            "tags": []
          }
        }
      ]
    },
    {
      "cell_type": "markdown",
      "metadata": {
        "id": "HDs6VbFHJrQs",
        "colab_type": "text"
      },
      "source": [
        "##<h1>categoreis GPA</h1>"
      ]
    },
    {
      "cell_type": "code",
      "metadata": {
        "id": "ln__Z1b2yQSz",
        "colab_type": "code",
        "colab": {}
      },
      "source": [
        "def gpa_cat(data):\n",
        "  data = np.where((data >= 2.0 ) & (data < 2.4),-2,data) #pass\n",
        "  data = np.where((data < 2.0) & (data >= 1.0),-1,data) #fail\n",
        "  data = np.where(data>=3.4,0,data)#excellent\n",
        "  data = np.where((data >= 2.8) & (data < 3.4),1,data)#very good\n",
        "  data = np.where((data >= 2.4) & (data < 2.8),2,data)#good\n",
        "  data_1 = data.astype(int)\n",
        "  return data_1\n",
        "print(gpa_cat(Y_1))"
      ],
      "execution_count": 0,
      "outputs": []
    },
    {
      "cell_type": "markdown",
      "metadata": {
        "id": "tNOJ8xI0hR5O",
        "colab_type": "text"
      },
      "source": [
        "## Prototype Linear Regression Without Normlization and Category"
      ]
    },
    {
      "cell_type": "code",
      "metadata": {
        "id": "kd6Py0rzO7Q1",
        "colab_type": "code",
        "colab": {}
      },
      "source": [
        "from sklearn.model_selection import train_test_split\n",
        "from sklearn.linear_model import LinearRegression\n",
        "from sklearn import metrics"
      ],
      "execution_count": 0,
      "outputs": []
    },
    {
      "cell_type": "code",
      "metadata": {
        "id": "NkfmuXqOQMW-",
        "colab_type": "code",
        "colab": {}
      },
      "source": [
        "\n",
        "X_train, X_test, y_train, y_test = train_test_split(x_1, y_1, test_size=0.2, random_state=0)"
      ],
      "execution_count": 0,
      "outputs": []
    },
    {
      "cell_type": "code",
      "metadata": {
        "id": "9240heaHLTYc",
        "colab_type": "code",
        "outputId": "61a56be6-b19e-4567-b235-4cd877e58201",
        "colab": {
          "base_uri": "https://localhost:8080/",
          "height": 34
        }
      },
      "source": [
        "\n",
        "regressor = LinearRegression()\n",
        "regressor.fit(X_train, y_train)\n"
      ],
      "execution_count": 42,
      "outputs": [
        {
          "output_type": "execute_result",
          "data": {
            "text/plain": [
              "LinearRegression(copy_X=True, fit_intercept=True, n_jobs=None, normalize=False)"
            ]
          },
          "metadata": {
            "tags": []
          },
          "execution_count": 42
        }
      ]
    },
    {
      "cell_type": "code",
      "metadata": {
        "id": "DwvsUGJreXCz",
        "colab_type": "code",
        "colab": {}
      },
      "source": [
        "y_pred = regressor.predict(X_test)\n",
        "\n"
      ],
      "execution_count": 0,
      "outputs": []
    },
    {
      "cell_type": "code",
      "metadata": {
        "id": "AhBvDdjZhGc8",
        "colab_type": "code",
        "outputId": "ef8a3672-3f3b-41be-f4bc-7f50de0b2a42",
        "colab": {
          "base_uri": "https://localhost:8080/",
          "height": 68
        }
      },
      "source": [
        "from sklearn import metrics\n",
        "print('Mean Absolute Error:', metrics.mean_absolute_error(y_test, y_pred))\n",
        "print('Mean Squared Error:', metrics.mean_squared_error(y_test, y_pred))\n",
        "print('Root Mean Squared Error:', np.sqrt(metrics.mean_squared_error(y_test, y_pred)))"
      ],
      "execution_count": 44,
      "outputs": [
        {
          "output_type": "stream",
          "text": [
            "Mean Absolute Error: 0.347916237245642\n",
            "Mean Squared Error: 0.20058383518005063\n",
            "Root Mean Squared Error: 0.44786586739787465\n"
          ],
          "name": "stdout"
        }
      ]
    },
    {
      "cell_type": "code",
      "metadata": {
        "id": "whPetgkqLtgU",
        "colab_type": "code",
        "colab": {}
      },
      "source": [
        "Reg_coef=regressor.coef_\n",
        "Reg_inte=regressor.intercept_"
      ],
      "execution_count": 0,
      "outputs": []
    },
    {
      "cell_type": "markdown",
      "metadata": {
        "id": "yc4THAS2hxo3",
        "colab_type": "text"
      },
      "source": [
        "##Linear Regression With Normalization and Category"
      ]
    },
    {
      "cell_type": "code",
      "metadata": {
        "id": "iVB_LicKhqcK",
        "colab_type": "code",
        "colab": {}
      },
      "source": [
        "data1=(data-data.mean())/data.std()\n",
        "x_1 = data[['Per_min_OnRoad','Per_hours_At_College','Per_days_attendance']]\n",
        "\n",
        "X_1 = np.array(x_1)\n",
        "y_1 = data[['GPA :']]\n",
        "y_1.head()\n",
        "Y_1 = np.array(y_1)"
      ],
      "execution_count": 0,
      "outputs": []
    },
    {
      "cell_type": "code",
      "metadata": {
        "id": "1OgqkZpsiBz7",
        "colab_type": "code",
        "colab": {}
      },
      "source": [
        " Y_label=gpa_cat(Y_1)\n",
        "X_train, X_test, y_train, y_test = train_test_split(x_1, Y_label, test_size=0.2, random_state=0)"
      ],
      "execution_count": 0,
      "outputs": []
    },
    {
      "cell_type": "code",
      "metadata": {
        "id": "RAqKnRqJiIfu",
        "colab_type": "code",
        "outputId": "4baf7d44-1af1-4508-bb1c-8079300ce7c8",
        "colab": {
          "base_uri": "https://localhost:8080/",
          "height": 34
        }
      },
      "source": [
        "\n",
        "regressor = LinearRegression()\n",
        "regressor.fit(X_train, y_train)\n"
      ],
      "execution_count": 0,
      "outputs": [
        {
          "output_type": "execute_result",
          "data": {
            "text/plain": [
              "LinearRegression(copy_X=True, fit_intercept=True, n_jobs=None, normalize=False)"
            ]
          },
          "metadata": {
            "tags": []
          },
          "execution_count": 176
        }
      ]
    },
    {
      "cell_type": "code",
      "metadata": {
        "id": "xjH6hzoGiKp-",
        "colab_type": "code",
        "outputId": "dae9cf8d-4951-493c-83ee-17a85f55e3cb",
        "colab": {
          "base_uri": "https://localhost:8080/",
          "height": 68
        }
      },
      "source": [
        "y_pred = regressor.predict(X_test)\n",
        "print('Mean Absolute Error:', metrics.mean_absolute_error(y_test, y_pred))\n",
        "print('Mean Squared Error:', metrics.mean_squared_error(y_test, y_pred))\n",
        "print('Root Mean Squared Error:', np.sqrt(metrics.mean_squared_error(y_test, y_pred)))"
      ],
      "execution_count": 0,
      "outputs": [
        {
          "output_type": "stream",
          "text": [
            "Mean Absolute Error: 0.8882883933697403\n",
            "Mean Squared Error: 1.6856596063655918\n",
            "Root Mean Squared Error: 1.2983295445939724\n"
          ],
          "name": "stdout"
        }
      ]
    },
    {
      "cell_type": "markdown",
      "metadata": {
        "id": "_M7hdYQIqVPG",
        "colab_type": "text"
      },
      "source": [
        "##Generate New Data with coefficient"
      ]
    },
    {
      "cell_type": "code",
      "metadata": {
        "id": "w3n8XhF0pVI9",
        "colab_type": "code",
        "colab": {}
      },
      "source": [
        "coef=Reg_coef.reshape(3,1)\n",
        "res= np.dot(Final_Data, coef)\n"
      ],
      "execution_count": 0,
      "outputs": []
    },
    {
      "cell_type": "code",
      "metadata": {
        "id": "2UVBUPCRrrgt",
        "colab_type": "code",
        "colab": {}
      },
      "source": [
        "Merge_data=np.concatenate((x_1, Final_Data), axis=0)\n"
      ],
      "execution_count": 0,
      "outputs": []
    },
    {
      "cell_type": "code",
      "metadata": {
        "id": "BdUUTkkPwZWj",
        "colab_type": "code",
        "colab": {}
      },
      "source": [
        "Merge_Labels=np.concatenate((Y_1,res),axis=0)\n"
      ],
      "execution_count": 0,
      "outputs": []
    },
    {
      "cell_type": "markdown",
      "metadata": {
        "id": "hurAJ9hlx4GG",
        "colab_type": "text"
      },
      "source": [
        "##Train New Model With Merging Data"
      ]
    },
    {
      "cell_type": "code",
      "metadata": {
        "id": "uhDXyOJCwocM",
        "colab_type": "code",
        "colab": {}
      },
      "source": [
        "X_train, X_test, y_train, y_test = train_test_split(Merge_data,Merge_Labels, test_size=0.2, random_state=0)"
      ],
      "execution_count": 0,
      "outputs": []
    },
    {
      "cell_type": "code",
      "metadata": {
        "id": "S6FKiMhkxVHC",
        "colab_type": "code",
        "colab": {
          "base_uri": "https://localhost:8080/",
          "height": 34
        },
        "outputId": "e2203c30-11f8-4c53-a533-a6bfd7fd36ae"
      },
      "source": [
        "Regress = LinearRegression()\n",
        "Regress.fit(X_train, y_train)\n"
      ],
      "execution_count": 77,
      "outputs": [
        {
          "output_type": "execute_result",
          "data": {
            "text/plain": [
              "LinearRegression(copy_X=True, fit_intercept=True, n_jobs=None, normalize=False)"
            ]
          },
          "metadata": {
            "tags": []
          },
          "execution_count": 77
        }
      ]
    },
    {
      "cell_type": "code",
      "metadata": {
        "id": "HyHJIr8txm6H",
        "colab_type": "code",
        "colab": {}
      },
      "source": [
        "y_pred = regressor.predict(X_test)\n"
      ],
      "execution_count": 0,
      "outputs": []
    },
    {
      "cell_type": "code",
      "metadata": {
        "id": "QVp4NgILxp20",
        "colab_type": "code",
        "colab": {
          "base_uri": "https://localhost:8080/",
          "height": 68
        },
        "outputId": "9a5996cb-dddb-49b5-c711-abe182f10307"
      },
      "source": [
        "print('Mean Absolute Error:', metrics.mean_absolute_error(y_test, y_pred))\n",
        "print('Mean Squared Error:', metrics.mean_squared_error(y_test, y_pred))\n",
        "print('Root Mean Squared Error:', np.sqrt(metrics.mean_squared_error(y_test, y_pred)))"
      ],
      "execution_count": 79,
      "outputs": [
        {
          "output_type": "stream",
          "text": [
            "Mean Absolute Error: 1.8724471298703187\n",
            "Mean Squared Error: 4.805626843652755\n",
            "Root Mean Squared Error: 2.1921739994016796\n"
          ],
          "name": "stdout"
        }
      ]
    },
    {
      "cell_type": "markdown",
      "metadata": {
        "id": "VTNCA30nyh65",
        "colab_type": "text"
      },
      "source": [
        "##Train Model With Generating Data including Gpa"
      ]
    },
    {
      "cell_type": "code",
      "metadata": {
        "id": "1uGB7JJcxtyQ",
        "colab_type": "code",
        "colab": {}
      },
      "source": [
        "\n",
        "data_np= np.array(data)\n",
        "cov=np.cov(data_np,y=None, rowvar=False, bias=False, ddof=None, fweights=None, aweights=None)\n",
        "mean=np.mean(data_np,axis=0)\n",
        "Size_of_Data=1000\n",
        "New_Data= np.random.multivariate_normal(mean, cov,Size_of_Data)\n",
        "#Function Clean Data Whose Values Are 0\n",
        "def Delete_Zeros(New_Data):\n",
        "  index=[]\n",
        "  for i in New_Data :\n",
        "    if np.count_nonzero(i == 0) > 0 or np.count_nonzero(i ==( 0)):\n",
        "        index.append(np.where(np.all(New_Data==i,axis=1))[0][0])\n",
        "  cleaned_data=np.delete(New_Data,index,0) \n",
        "  return cleaned_data\n",
        "\n",
        "Cleaned_data1=Delete_Zeros(New_Data)\n",
        "#function Delete rows whose values >6 Days\n",
        "def constrains_per_day(cleaned_data1):\n",
        "  x=[]\n",
        "  for i in range(len(cleaned_data1)):\n",
        "    if cleaned_data1[i][3]>6:\n",
        "      x.append(i)  \n",
        "  cleaned_data2=np.delete(cleaned_data1,x,0)\n",
        "  return cleaned_data2\n",
        "Cleaned_data2=constrains_per_day(Cleaned_data1)\n",
        "\n",
        "#This function delete rows whose Values >10 hours\n",
        "def constrains_per_hours(Cleaned_data2):\n",
        "  x=[]\n",
        "  for i in range(len(Cleaned_data2)):\n",
        "    if Cleaned_data2[i][2]>10:\n",
        "      x.append(i)  \n",
        "  cleaned_data3=np.delete(Cleaned_data2,x,0)\n",
        "  return cleaned_data3\n",
        "\n",
        "Cleaned_data3=constrains_per_hours(Cleaned_data2)\n",
        "\n",
        "\n",
        "#This function delete rows whose values <5 min and >300 min\n",
        "def constrains_per_min_Road(Cleaned_data3):\n",
        "  x=[]\n",
        "  for i in range(len(Cleaned_data3)):\n",
        "    if Cleaned_data3[i][1]<5 or Cleaned_data3[i][0]>300:\n",
        "      x.append(i)  \n",
        "  cleaned_data4=np.delete(Cleaned_data3,x,0)\n",
        "  return cleaned_data4\n",
        "\n",
        "Final_Data1=constrains_per_min_Road(Cleaned_data3)\n",
        "\n",
        "\n"
      ],
      "execution_count": 0,
      "outputs": []
    },
    {
      "cell_type": "code",
      "metadata": {
        "id": "86lIQOlAz-i9",
        "colab_type": "code",
        "colab": {}
      },
      "source": [
        "Merge_data2=np.concatenate((data, Final_Data1), axis=0)\n"
      ],
      "execution_count": 0,
      "outputs": []
    },
    {
      "cell_type": "code",
      "metadata": {
        "id": "tuu2rs130FFW",
        "colab_type": "code",
        "colab": {}
      },
      "source": [
        "x_2 = Merge_data2[:,1:4]\n",
        "y_2=Merge_data2[:,0:1]\n"
      ],
      "execution_count": 0,
      "outputs": []
    },
    {
      "cell_type": "code",
      "metadata": {
        "id": "RSmhcOtT02nV",
        "colab_type": "code",
        "colab": {}
      },
      "source": [
        "X_train1, X_test1, y_train1, y_test1 = train_test_split(x_2,y_2, test_size=0.2, random_state=0)\n"
      ],
      "execution_count": 0,
      "outputs": []
    },
    {
      "cell_type": "code",
      "metadata": {
        "id": "DLaKSQrp2y-d",
        "colab_type": "code",
        "colab": {
          "base_uri": "https://localhost:8080/",
          "height": 34
        },
        "outputId": "4c2a1ba9-6a39-49d8-8654-9a234e712abd"
      },
      "source": [
        "Regress1 = LinearRegression()\n",
        "Regress1.fit(X_train1, y_train1)\n"
      ],
      "execution_count": 158,
      "outputs": [
        {
          "output_type": "execute_result",
          "data": {
            "text/plain": [
              "LinearRegression(copy_X=True, fit_intercept=True, n_jobs=None, normalize=False)"
            ]
          },
          "metadata": {
            "tags": []
          },
          "execution_count": 158
        }
      ]
    },
    {
      "cell_type": "code",
      "metadata": {
        "id": "05Dfxqci22s_",
        "colab_type": "code",
        "colab": {}
      },
      "source": [
        "y_pred1 = Regress1.predict(X_test1)\n"
      ],
      "execution_count": 0,
      "outputs": []
    },
    {
      "cell_type": "code",
      "metadata": {
        "id": "qOa6EyB73Bi4",
        "colab_type": "code",
        "colab": {
          "base_uri": "https://localhost:8080/",
          "height": 68
        },
        "outputId": "bb26fb00-8095-4674-9c35-14ffbb2ff2b1"
      },
      "source": [
        "print('Mean Absolute Error:', metrics.mean_absolute_error(y_test1, y_pred1))\n",
        "print('Mean Squared Error:', metrics.mean_squared_error(y_test1, y_pred1))\n",
        "print('Root Mean Squared Error:', np.sqrt(metrics.mean_squared_error(y_test1, y_pred1)))"
      ],
      "execution_count": 160,
      "outputs": [
        {
          "output_type": "stream",
          "text": [
            "Mean Absolute Error: 0.32980437035455346\n",
            "Mean Squared Error: 0.1779425767029842\n",
            "Root Mean Squared Error: 0.4218324035715893\n"
          ],
          "name": "stdout"
        }
      ]
    },
    {
      "cell_type": "markdown",
      "metadata": {
        "id": "1uwajbZz5zuq",
        "colab_type": "text"
      },
      "source": [
        "##visualization Error"
      ]
    },
    {
      "cell_type": "code",
      "metadata": {
        "id": "fWWc44oc3ED9",
        "colab_type": "code",
        "colab": {}
      },
      "source": [
        ""
      ],
      "execution_count": 0,
      "outputs": []
    }
  ]
}